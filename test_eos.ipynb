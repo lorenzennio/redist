{
 "cells": [
  {
   "cell_type": "code",
   "execution_count": 1,
   "metadata": {},
   "outputs": [],
   "source": [
    "%reload_ext autoreload\n",
    "%autoreload 2\n",
    "\n",
    "import numpy as np\n",
    "import pandas as pd\n",
    "import pyhf\n",
    "import eos\n",
    "import matplotlib.pyplot as plt\n",
    "from publik.pyhf_modifier import modifier"
   ]
  },
  {
   "cell_type": "code",
   "execution_count": 2,
   "metadata": {},
   "outputs": [],
   "source": [
    "def analysis():\n",
    "    \"\"\"\n",
    "    Specify the likelihoods and FF parameter ranges \n",
    "    \n",
    "    Returns:\n",
    "        EOS analysis instance\n",
    "    \"\"\"\n",
    "\n",
    "    analysis_args = {\n",
    "        'global_options': { 'form-factors': 'BSZ2015', 'model': 'CKM' },\n",
    "        'priors': [\n",
    "            { 'parameter': 'B->D::alpha^f+_0@BSZ2015', 'min':  0.0,   'max':  1.0   , 'type': 'uniform'},\n",
    "            { 'parameter': 'B->D::alpha^f+_1@BSZ2015', 'min': -4.0,   'max': -1.0   , 'type': 'uniform'},\n",
    "            { 'parameter': 'B->D::alpha^f+_2@BSZ2015', 'min': +4.0,   'max': +6.0   , 'type': 'uniform'},\n",
    "            { 'parameter': 'B->D::alpha^f0_1@BSZ2015', 'min': -1.0,   'max': +2.0   , 'type': 'uniform'},\n",
    "            { 'parameter': 'B->D::alpha^f0_2@BSZ2015', 'min': -2.0,   'max':  0.0   , 'type': 'uniform'}\n",
    "        ],\n",
    "        'likelihood': [\n",
    "            'B->D::f_++f_0@HPQCD:2015A',\n",
    "            'B->D::f_++f_0@FNAL+MILC:2015B',\n",
    "            'B^0->D^+e^-nu::BRs@Belle:2015A',\n",
    "            'B^0->D^+mu^-nu::BRs@Belle:2015A'\n",
    "        ]\n",
    "    }\n",
    "\n",
    "    analysis = eos.Analysis(**analysis_args)\n",
    "    analysis.optimize()\n",
    "    return analysis\n"
   ]
  },
  {
   "cell_type": "markdown",
   "metadata": {},
   "source": [
    "## Produce samples"
   ]
  },
  {
   "cell_type": "code",
   "execution_count": 3,
   "metadata": {},
   "outputs": [],
   "source": [
    "sam_ana = analysis()\n",
    "sam_cvl = 1.5\n",
    "sam_csl = 0.5\n",
    "sam_ana.parameters['cbmunumu::Re{cVL}'       ].set(sam_cvl)\n",
    "sam_ana.parameters['cbmunumu::Re{cSL}'       ].set(sam_csl)\n",
    "# TODO how to produce samples according to some BSM model?"
   ]
  },
  {
   "cell_type": "code",
   "execution_count": 4,
   "metadata": {},
   "outputs": [
    {
     "name": "stderr",
     "output_type": "stream",
     "text": [
      "/home/l/Lorenz.Gaertner/publik-group/venv_publik_group/lib/python3.8/site-packages/tqdm/auto.py:21: TqdmWarning: IProgress not found. Please update jupyter and ipywidgets. See https://ipywidgets.readthedocs.io/en/stable/user_install.html\n",
      "  from .autonotebook import tqdm as notebook_tqdm\n",
      "                                                          \r"
     ]
    }
   ],
   "source": [
    "mu_kinematics = eos.Kinematics({\n",
    "    'q2':            2.0,  'q2_min':            0.02,     'q2_max':           11.6,\n",
    "})\n",
    "mu_pdf = eos.SignalPDF.make(\n",
    "    'B->Dlnu::dGamma/dq2', \n",
    "    # sam_ana.parameters, \n",
    "    eos.Parameters(),\n",
    "    mu_kinematics, \n",
    "    eos.Options({'form-factors': 'BSZ2015', 'l': 'mu', 'model':'WET'}))\n",
    "rng = np.random.mtrand.RandomState(74205)\n",
    "mu_samples, mu_weights = mu_pdf.sample_mcmc(N=50000, stride=5, pre_N=1000, preruns=3, rng=rng)"
   ]
  },
  {
   "cell_type": "code",
   "execution_count": 5,
   "metadata": {},
   "outputs": [
    {
     "data": {
      "text/plain": [
       "(<Figure size 640x480 with 1 Axes>,\n",
       " <Axes: xlabel='$q^2$\\\\,[$\\\\textnormal{GeV}^2$]', ylabel='$P(q^2)$'>)"
      ]
     },
     "execution_count": 5,
     "metadata": {},
     "output_type": "execute_result"
    },
    {
     "data": {
      "image/png": "[encoded data removed]",
      "text/plain": [
       "<Figure size 640x480 with 1 Axes>"
      ]
     },
     "metadata": {},
     "output_type": "display_data"
    }
   ],
   "source": [
    "plot_args = {\n",
    "    'plot': {\n",
    "        'x': { 'label': r'$q^2$', 'unit': r'$\\textnormal{GeV}^2$', 'range': [0.0, 11.60] },\n",
    "        'y': { 'label': r'$P(q^2)$',                               'range': [0.0,  0.25] },\n",
    "        'legend': { 'location': 'upper left' }\n",
    "    },\n",
    "    'contents': [\n",
    "        {\n",
    "            'label': r'samples ($\\ell=\\mu$)',\n",
    "            'type': 'histogram',\n",
    "            'data': {\n",
    "                'samples': mu_samples\n",
    "            },\n",
    "            'color': 'C0'\n",
    "        },\n",
    "        {\n",
    "            'label': r'PDF ($\\ell=\\mu$)',\n",
    "            'type': 'signal-pdf',\n",
    "            'pdf': 'B->Dlnu::dGamma/dq2;l=mu',\n",
    "            'kinematic': 'q2',\n",
    "            'range': [0.02, 11.60],\n",
    "            'kinematics': {\n",
    "                'q2_min':  0.02,\n",
    "                'q2_max': 11.60,\n",
    "            },\n",
    "            'color': 'C0'\n",
    "        },\n",
    "    ]\n",
    "}\n",
    "eos.plot.Plotter(plot_args).plot()"
   ]
  },
  {
   "cell_type": "code",
   "execution_count": 6,
   "metadata": {},
   "outputs": [
    {
     "data": {
      "image/png": "[encoded data removed]",
      "text/plain": [
       "<Figure size 640x480 with 1 Axes>"
      ]
     },
     "metadata": {},
     "output_type": "display_data"
    }
   ],
   "source": [
    "binning = np.linspace(0.02, 11.6, 10) \n",
    "\n",
    "nominal, _, _ = plt.hist(mu_samples, binning)"
   ]
  },
  {
   "cell_type": "markdown",
   "metadata": {},
   "source": [
    "## Define null and alternative predictions"
   ]
  },
  {
   "cell_type": "code",
   "execution_count": 7,
   "metadata": {},
   "outputs": [],
   "source": [
    "ana = analysis()\n",
    "cvl = ana.parameters['cbmunumu::Re{cVL}'       ].evaluate()\n",
    "csl = ana.parameters['cbmunumu::Re{cSL}'       ].evaluate()\n",
    "fp0 = ana.parameters['B->D::alpha^f+_0@BSZ2015'].evaluate()\n",
    "fp1 = ana.parameters['B->D::alpha^f+_1@BSZ2015'].evaluate()\n",
    "fp2 = ana.parameters['B->D::alpha^f+_2@BSZ2015'].evaluate()\n",
    "f01 = ana.parameters['B->D::alpha^f0_1@BSZ2015'].evaluate()\n",
    "f02 = ana.parameters['B->D::alpha^f0_2@BSZ2015'].evaluate()"
   ]
  },
  {
   "cell_type": "code",
   "execution_count": 8,
   "metadata": {},
   "outputs": [],
   "source": [
    "class null:\n",
    "    def __init__(self):\n",
    "        self.parameters = eos.Parameters()\n",
    "        self.options = eos.Options({'form-factors': 'BSZ2015', 'l': 'mu'})\n",
    "\n",
    "    def distribution(self, q2):\n",
    "        obs = eos.Observable.make(\n",
    "            'B->Dlnu::dBR/dq2', \n",
    "            self.parameters, \n",
    "            eos.Kinematics(q2=q2),\n",
    "            self.options)\n",
    "        return(obs.evaluate())\n",
    "    \n",
    "class alt:\n",
    "    def __init__(self):\n",
    "        self.ana = analysis()\n",
    "        self.parameters = eos.Parameters()\n",
    "        self.options = eos.Options({'form-factors': 'BSZ2015', 'l': 'mu', 'model':'WET'})\n",
    "\n",
    "    def distribution(self, q2, cvl, csl, fp0, fp1, fp2, f01, f02):\n",
    "        self.ana.parameters['cbmunumu::Re{cVL}'       ].set(cvl)\n",
    "        self.ana.parameters['cbmunumu::Re{cSL}'       ].set(csl)\n",
    "        self.ana.parameters['B->D::alpha^f+_0@BSZ2015'].set(fp0)\n",
    "        self.ana.parameters['B->D::alpha^f+_1@BSZ2015'].set(fp1)\n",
    "        self.ana.parameters['B->D::alpha^f+_2@BSZ2015'].set(fp2)\n",
    "        self.ana.parameters['B->D::alpha^f0_1@BSZ2015'].set(f01)\n",
    "        self.ana.parameters['B->D::alpha^f0_2@BSZ2015'].set(f02)\n",
    "\n",
    "        obs = eos.Observable.make(\n",
    "            'B->Dlnu::dBR/dq2', \n",
    "            self.ana.parameters, \n",
    "            eos.Kinematics(q2=q2),\n",
    "            self.options)\n",
    "        return(obs.evaluate())"
   ]
  },
  {
   "cell_type": "code",
   "execution_count": 9,
   "metadata": {},
   "outputs": [],
   "source": [
    "null = null()\n",
    "alt = alt()"
   ]
  },
  {
   "cell_type": "code",
   "execution_count": 10,
   "metadata": {},
   "outputs": [
    {
     "name": "stderr",
     "output_type": "stream",
     "text": [
      "                                                           \r"
     ]
    },
    {
     "data": {
      "text/html": [
       "<style type=\"text/css\">\n",
       "#T_3ee36_row0_col0 {\n",
       "  background-color: #e37e64;\n",
       "  color: #f1f1f1;\n",
       "}\n",
       "#T_3ee36_row0_col1, #T_3ee36_row0_col2, #T_3ee36_row0_col4, #T_3ee36_row2_col0, #T_3ee36_row2_col3, #T_3ee36_row3_col2 {\n",
       "  background-color: #67001f;\n",
       "  color: #f1f1f1;\n",
       "}\n",
       "#T_3ee36_row0_col3 {\n",
       "  background-color: #7f0823;\n",
       "  color: #f1f1f1;\n",
       "}\n",
       "#T_3ee36_row1_col0 {\n",
       "  background-color: #f2f5f6;\n",
       "  color: #000000;\n",
       "}\n",
       "#T_3ee36_row1_col1 {\n",
       "  background-color: #f8f3f0;\n",
       "  color: #000000;\n",
       "}\n",
       "#T_3ee36_row1_col2 {\n",
       "  background-color: #960f27;\n",
       "  color: #f1f1f1;\n",
       "}\n",
       "#T_3ee36_row1_col3 {\n",
       "  background-color: #f3a481;\n",
       "  color: #000000;\n",
       "}\n",
       "#T_3ee36_row1_col4 {\n",
       "  background-color: #9f1228;\n",
       "  color: #f1f1f1;\n",
       "}\n",
       "#T_3ee36_row2_col1 {\n",
       "  background-color: #4695c4;\n",
       "  color: #f1f1f1;\n",
       "}\n",
       "#T_3ee36_row2_col2, #T_3ee36_row4_col0, #T_3ee36_row4_col1, #T_3ee36_row4_col3, #T_3ee36_row4_col4 {\n",
       "  background-color: #053061;\n",
       "  color: #f1f1f1;\n",
       "}\n",
       "#T_3ee36_row2_col4 {\n",
       "  background-color: #c6413e;\n",
       "  color: #f1f1f1;\n",
       "}\n",
       "#T_3ee36_row3_col0 {\n",
       "  background-color: #a5cee3;\n",
       "  color: #000000;\n",
       "}\n",
       "#T_3ee36_row3_col1 {\n",
       "  background-color: #f6f7f7;\n",
       "  color: #000000;\n",
       "}\n",
       "#T_3ee36_row3_col3 {\n",
       "  background-color: #fae7dc;\n",
       "  color: #000000;\n",
       "}\n",
       "#T_3ee36_row3_col4 {\n",
       "  background-color: #be3036;\n",
       "  color: #f1f1f1;\n",
       "}\n",
       "#T_3ee36_row4_col2 {\n",
       "  background-color: #c84440;\n",
       "  color: #f1f1f1;\n",
       "}\n",
       "</style>\n",
       "<table id=\"T_3ee36\">\n",
       "  <thead>\n",
       "    <tr>\n",
       "      <th class=\"blank level0\" >&nbsp;</th>\n",
       "      <th id=\"T_3ee36_level0_col0\" class=\"col_heading level0 col0\" >0</th>\n",
       "      <th id=\"T_3ee36_level0_col1\" class=\"col_heading level0 col1\" >1</th>\n",
       "      <th id=\"T_3ee36_level0_col2\" class=\"col_heading level0 col2\" >2</th>\n",
       "      <th id=\"T_3ee36_level0_col3\" class=\"col_heading level0 col3\" >3</th>\n",
       "      <th id=\"T_3ee36_level0_col4\" class=\"col_heading level0 col4\" >4</th>\n",
       "    </tr>\n",
       "  </thead>\n",
       "  <tbody>\n",
       "    <tr>\n",
       "      <th id=\"T_3ee36_level0_row0\" class=\"row_heading level0 row0\" >0</th>\n",
       "      <td id=\"T_3ee36_row0_col0\" class=\"data row0 col0\" >0.000064</td>\n",
       "      <td id=\"T_3ee36_row0_col1\" class=\"data row0 col1\" >0.000599</td>\n",
       "      <td id=\"T_3ee36_row0_col2\" class=\"data row0 col2\" >-0.000413</td>\n",
       "      <td id=\"T_3ee36_row0_col3\" class=\"data row0 col3\" >0.000908</td>\n",
       "      <td id=\"T_3ee36_row0_col4\" class=\"data row0 col4\" >0.001553</td>\n",
       "    </tr>\n",
       "    <tr>\n",
       "      <th id=\"T_3ee36_level0_row1\" class=\"row_heading level0 row1\" >1</th>\n",
       "      <td id=\"T_3ee36_row1_col0\" class=\"data row1 col0\" >0.000599</td>\n",
       "      <td id=\"T_3ee36_row1_col1\" class=\"data row1 col1\" >0.012193</td>\n",
       "      <td id=\"T_3ee36_row1_col2\" class=\"data row1 col2\" >0.019556</td>\n",
       "      <td id=\"T_3ee36_row1_col3\" class=\"data row1 col3\" >0.012564</td>\n",
       "      <td id=\"T_3ee36_row1_col4\" class=\"data row1 col4\" >0.024469</td>\n",
       "    </tr>\n",
       "    <tr>\n",
       "      <th id=\"T_3ee36_level0_row2\" class=\"row_heading level0 row2\" >2</th>\n",
       "      <td id=\"T_3ee36_row2_col0\" class=\"data row2 col0\" >-0.000413</td>\n",
       "      <td id=\"T_3ee36_row2_col1\" class=\"data row2 col1\" >0.019556</td>\n",
       "      <td id=\"T_3ee36_row2_col2\" class=\"data row2 col2\" >0.310870</td>\n",
       "      <td id=\"T_3ee36_row2_col3\" class=\"data row2 col3\" >-0.000531</td>\n",
       "      <td id=\"T_3ee36_row2_col4\" class=\"data row2 col4\" >0.050105</td>\n",
       "    </tr>\n",
       "    <tr>\n",
       "      <th id=\"T_3ee36_level0_row3\" class=\"row_heading level0 row3\" >3</th>\n",
       "      <td id=\"T_3ee36_row3_col0\" class=\"data row3 col0\" >0.000908</td>\n",
       "      <td id=\"T_3ee36_row3_col1\" class=\"data row3 col1\" >0.012564</td>\n",
       "      <td id=\"T_3ee36_row3_col2\" class=\"data row3 col2\" >-0.000531</td>\n",
       "      <td id=\"T_3ee36_row3_col3\" class=\"data row3 col3\" >0.018802</td>\n",
       "      <td id=\"T_3ee36_row3_col4\" class=\"data row3 col4\" >0.043011</td>\n",
       "    </tr>\n",
       "    <tr>\n",
       "      <th id=\"T_3ee36_level0_row4\" class=\"row_heading level0 row4\" >4</th>\n",
       "      <td id=\"T_3ee36_row4_col0\" class=\"data row4 col0\" >0.001553</td>\n",
       "      <td id=\"T_3ee36_row4_col1\" class=\"data row4 col1\" >0.024469</td>\n",
       "      <td id=\"T_3ee36_row4_col2\" class=\"data row4 col2\" >0.050105</td>\n",
       "      <td id=\"T_3ee36_row4_col3\" class=\"data row4 col3\" >0.043011</td>\n",
       "      <td id=\"T_3ee36_row4_col4\" class=\"data row4 col4\" >0.305721</td>\n",
       "    </tr>\n",
       "  </tbody>\n",
       "</table>\n"
      ],
      "text/plain": [
       "<pandas.io.formats.style.Styler at 0x1551d3e4a6d0>"
      ]
     },
     "execution_count": 10,
     "metadata": {},
     "output_type": "execute_result"
    }
   ],
   "source": [
    "# TODO better way to get covariance matrix ?\n",
    "pars, _ = alt.ana.sample(N=5000, stride=5, pre_N=1000, preruns=3, rng=rng)\n",
    "cov = np.cov(pars.T).tolist()\n",
    "pd.DataFrame(cov).style.background_gradient(cmap='RdBu')"
   ]
  },
  {
   "cell_type": "code",
   "execution_count": 11,
   "metadata": {},
   "outputs": [
    {
     "data": {
      "text/plain": [
       "[<matplotlib.lines.Line2D at 0x1551d3bd52b0>]"
      ]
     },
     "execution_count": 11,
     "metadata": {},
     "output_type": "execute_result"
    },
    {
     "data": {
      "image/png": "[encoded data removed]",
      "text/plain": [
       "<Figure size 640x480 with 1 Axes>"
      ]
     },
     "metadata": {},
     "output_type": "display_data"
    }
   ],
   "source": [
    "q2 = np.linspace(0.02, 11.6, 100) \n",
    "null_dist = [null.distribution(q) for q in q2]\n",
    "\n",
    "cvl = 0.5\n",
    "csl = 0.5\n",
    "alt_dist  = [alt.distribution(q, cvl, csl, fp0, fp1, fp2, f01, f02) for q in q2]\n",
    "\n",
    "plt.plot(q2, null_dist)\n",
    "plt.plot(q2, alt_dist)"
   ]
  },
  {
   "cell_type": "code",
   "execution_count": 12,
   "metadata": {},
   "outputs": [
    {
     "name": "stdout",
     "output_type": "stream",
     "text": [
      "Weights :  [0.28258564 0.33991723 0.41097012 0.50404402 0.63363543 0.83039967\n",
      " 1.17249485 1.93303154 4.84929446]\n"
     ]
    },
    {
     "data": {
      "image/png": "[encoded data removed]",
      "text/plain": [
       "<Figure size 640x480 with 1 Axes>"
      ]
     },
     "metadata": {},
     "output_type": "display_data"
    }
   ],
   "source": [
    "null_b = modifier.bintegrate(null.distribution, binning)\n",
    "alt_b= modifier.bintegrate(alt.distribution, binning, (cvl, csl, fp0, fp1, fp2, f01, f02))\n",
    "\n",
    "plt.stairs(null_b, binning)\n",
    "plt.stairs(alt_b, binning)\n",
    "# plt.stairs(alt_b/null_b, binning)\n",
    "print('Weights : ', alt_b/null_b)"
   ]
  },
  {
   "cell_type": "markdown",
   "metadata": {},
   "source": [
    "## Set up mapping distribution"
   ]
  },
  {
   "cell_type": "code",
   "execution_count": 13,
   "metadata": {},
   "outputs": [
    {
     "data": {
      "text/html": [
       "<style type=\"text/css\">\n",
       "#T_82da9_row0_col0, #T_82da9_row1_col1, #T_82da9_row2_col2, #T_82da9_row3_col3, #T_82da9_row4_col4, #T_82da9_row5_col5, #T_82da9_row6_col6, #T_82da9_row7_col7, #T_82da9_row8_col8 {\n",
       "  background-color: #053061;\n",
       "  color: #f1f1f1;\n",
       "}\n",
       "#T_82da9_row0_col1, #T_82da9_row0_col2, #T_82da9_row0_col3, #T_82da9_row0_col4, #T_82da9_row0_col5, #T_82da9_row0_col6, #T_82da9_row0_col7, #T_82da9_row0_col8, #T_82da9_row1_col0, #T_82da9_row1_col2, #T_82da9_row1_col3, #T_82da9_row1_col4, #T_82da9_row1_col5, #T_82da9_row1_col6, #T_82da9_row1_col7, #T_82da9_row1_col8, #T_82da9_row2_col0, #T_82da9_row2_col1, #T_82da9_row2_col3, #T_82da9_row2_col4, #T_82da9_row2_col5, #T_82da9_row2_col6, #T_82da9_row2_col7, #T_82da9_row2_col8, #T_82da9_row3_col0, #T_82da9_row3_col1, #T_82da9_row3_col2, #T_82da9_row3_col4, #T_82da9_row3_col5, #T_82da9_row3_col6, #T_82da9_row3_col7, #T_82da9_row3_col8, #T_82da9_row4_col0, #T_82da9_row4_col1, #T_82da9_row4_col2, #T_82da9_row4_col3, #T_82da9_row4_col5, #T_82da9_row4_col6, #T_82da9_row4_col7, #T_82da9_row4_col8, #T_82da9_row5_col0, #T_82da9_row5_col1, #T_82da9_row5_col2, #T_82da9_row5_col3, #T_82da9_row5_col4, #T_82da9_row5_col6, #T_82da9_row5_col7, #T_82da9_row5_col8, #T_82da9_row6_col0, #T_82da9_row6_col1, #T_82da9_row6_col2, #T_82da9_row6_col3, #T_82da9_row6_col4, #T_82da9_row6_col5, #T_82da9_row6_col7, #T_82da9_row6_col8, #T_82da9_row7_col0, #T_82da9_row7_col1, #T_82da9_row7_col2, #T_82da9_row7_col3, #T_82da9_row7_col4, #T_82da9_row7_col5, #T_82da9_row7_col6, #T_82da9_row7_col8, #T_82da9_row8_col0, #T_82da9_row8_col1, #T_82da9_row8_col2, #T_82da9_row8_col3, #T_82da9_row8_col4, #T_82da9_row8_col5, #T_82da9_row8_col6, #T_82da9_row8_col7 {\n",
       "  background-color: #67001f;\n",
       "  color: #f1f1f1;\n",
       "}\n",
       "</style>\n",
       "<table id=\"T_82da9\">\n",
       "  <thead>\n",
       "    <tr>\n",
       "      <th class=\"blank level0\" >&nbsp;</th>\n",
       "      <th id=\"T_82da9_level0_col0\" class=\"col_heading level0 col0\" >0</th>\n",
       "      <th id=\"T_82da9_level0_col1\" class=\"col_heading level0 col1\" >1</th>\n",
       "      <th id=\"T_82da9_level0_col2\" class=\"col_heading level0 col2\" >2</th>\n",
       "      <th id=\"T_82da9_level0_col3\" class=\"col_heading level0 col3\" >3</th>\n",
       "      <th id=\"T_82da9_level0_col4\" class=\"col_heading level0 col4\" >4</th>\n",
       "      <th id=\"T_82da9_level0_col5\" class=\"col_heading level0 col5\" >5</th>\n",
       "      <th id=\"T_82da9_level0_col6\" class=\"col_heading level0 col6\" >6</th>\n",
       "      <th id=\"T_82da9_level0_col7\" class=\"col_heading level0 col7\" >7</th>\n",
       "      <th id=\"T_82da9_level0_col8\" class=\"col_heading level0 col8\" >8</th>\n",
       "    </tr>\n",
       "  </thead>\n",
       "  <tbody>\n",
       "    <tr>\n",
       "      <th id=\"T_82da9_level0_row0\" class=\"row_heading level0 row0\" >0</th>\n",
       "      <td id=\"T_82da9_row0_col0\" class=\"data row0 col0\" >10829.000000</td>\n",
       "      <td id=\"T_82da9_row0_col1\" class=\"data row0 col1\" >0.000000</td>\n",
       "      <td id=\"T_82da9_row0_col2\" class=\"data row0 col2\" >0.000000</td>\n",
       "      <td id=\"T_82da9_row0_col3\" class=\"data row0 col3\" >0.000000</td>\n",
       "      <td id=\"T_82da9_row0_col4\" class=\"data row0 col4\" >0.000000</td>\n",
       "      <td id=\"T_82da9_row0_col5\" class=\"data row0 col5\" >0.000000</td>\n",
       "      <td id=\"T_82da9_row0_col6\" class=\"data row0 col6\" >0.000000</td>\n",
       "      <td id=\"T_82da9_row0_col7\" class=\"data row0 col7\" >0.000000</td>\n",
       "      <td id=\"T_82da9_row0_col8\" class=\"data row0 col8\" >0.000000</td>\n",
       "    </tr>\n",
       "    <tr>\n",
       "      <th id=\"T_82da9_level0_row1\" class=\"row_heading level0 row1\" >1</th>\n",
       "      <td id=\"T_82da9_row1_col0\" class=\"data row1 col0\" >0.000000</td>\n",
       "      <td id=\"T_82da9_row1_col1\" class=\"data row1 col1\" >9682.000000</td>\n",
       "      <td id=\"T_82da9_row1_col2\" class=\"data row1 col2\" >0.000000</td>\n",
       "      <td id=\"T_82da9_row1_col3\" class=\"data row1 col3\" >0.000000</td>\n",
       "      <td id=\"T_82da9_row1_col4\" class=\"data row1 col4\" >0.000000</td>\n",
       "      <td id=\"T_82da9_row1_col5\" class=\"data row1 col5\" >0.000000</td>\n",
       "      <td id=\"T_82da9_row1_col6\" class=\"data row1 col6\" >0.000000</td>\n",
       "      <td id=\"T_82da9_row1_col7\" class=\"data row1 col7\" >0.000000</td>\n",
       "      <td id=\"T_82da9_row1_col8\" class=\"data row1 col8\" >0.000000</td>\n",
       "    </tr>\n",
       "    <tr>\n",
       "      <th id=\"T_82da9_level0_row2\" class=\"row_heading level0 row2\" >2</th>\n",
       "      <td id=\"T_82da9_row2_col0\" class=\"data row2 col0\" >0.000000</td>\n",
       "      <td id=\"T_82da9_row2_col1\" class=\"data row2 col1\" >0.000000</td>\n",
       "      <td id=\"T_82da9_row2_col2\" class=\"data row2 col2\" >8512.000000</td>\n",
       "      <td id=\"T_82da9_row2_col3\" class=\"data row2 col3\" >0.000000</td>\n",
       "      <td id=\"T_82da9_row2_col4\" class=\"data row2 col4\" >0.000000</td>\n",
       "      <td id=\"T_82da9_row2_col5\" class=\"data row2 col5\" >0.000000</td>\n",
       "      <td id=\"T_82da9_row2_col6\" class=\"data row2 col6\" >0.000000</td>\n",
       "      <td id=\"T_82da9_row2_col7\" class=\"data row2 col7\" >0.000000</td>\n",
       "      <td id=\"T_82da9_row2_col8\" class=\"data row2 col8\" >0.000000</td>\n",
       "    </tr>\n",
       "    <tr>\n",
       "      <th id=\"T_82da9_level0_row3\" class=\"row_heading level0 row3\" >3</th>\n",
       "      <td id=\"T_82da9_row3_col0\" class=\"data row3 col0\" >0.000000</td>\n",
       "      <td id=\"T_82da9_row3_col1\" class=\"data row3 col1\" >0.000000</td>\n",
       "      <td id=\"T_82da9_row3_col2\" class=\"data row3 col2\" >0.000000</td>\n",
       "      <td id=\"T_82da9_row3_col3\" class=\"data row3 col3\" >6967.000000</td>\n",
       "      <td id=\"T_82da9_row3_col4\" class=\"data row3 col4\" >0.000000</td>\n",
       "      <td id=\"T_82da9_row3_col5\" class=\"data row3 col5\" >0.000000</td>\n",
       "      <td id=\"T_82da9_row3_col6\" class=\"data row3 col6\" >0.000000</td>\n",
       "      <td id=\"T_82da9_row3_col7\" class=\"data row3 col7\" >0.000000</td>\n",
       "      <td id=\"T_82da9_row3_col8\" class=\"data row3 col8\" >0.000000</td>\n",
       "    </tr>\n",
       "    <tr>\n",
       "      <th id=\"T_82da9_level0_row4\" class=\"row_heading level0 row4\" >4</th>\n",
       "      <td id=\"T_82da9_row4_col0\" class=\"data row4 col0\" >0.000000</td>\n",
       "      <td id=\"T_82da9_row4_col1\" class=\"data row4 col1\" >0.000000</td>\n",
       "      <td id=\"T_82da9_row4_col2\" class=\"data row4 col2\" >0.000000</td>\n",
       "      <td id=\"T_82da9_row4_col3\" class=\"data row4 col3\" >0.000000</td>\n",
       "      <td id=\"T_82da9_row4_col4\" class=\"data row4 col4\" >5510.000000</td>\n",
       "      <td id=\"T_82da9_row4_col5\" class=\"data row4 col5\" >0.000000</td>\n",
       "      <td id=\"T_82da9_row4_col6\" class=\"data row4 col6\" >0.000000</td>\n",
       "      <td id=\"T_82da9_row4_col7\" class=\"data row4 col7\" >0.000000</td>\n",
       "      <td id=\"T_82da9_row4_col8\" class=\"data row4 col8\" >0.000000</td>\n",
       "    </tr>\n",
       "    <tr>\n",
       "      <th id=\"T_82da9_level0_row5\" class=\"row_heading level0 row5\" >5</th>\n",
       "      <td id=\"T_82da9_row5_col0\" class=\"data row5 col0\" >0.000000</td>\n",
       "      <td id=\"T_82da9_row5_col1\" class=\"data row5 col1\" >0.000000</td>\n",
       "      <td id=\"T_82da9_row5_col2\" class=\"data row5 col2\" >0.000000</td>\n",
       "      <td id=\"T_82da9_row5_col3\" class=\"data row5 col3\" >0.000000</td>\n",
       "      <td id=\"T_82da9_row5_col4\" class=\"data row5 col4\" >0.000000</td>\n",
       "      <td id=\"T_82da9_row5_col5\" class=\"data row5 col5\" >4127.000000</td>\n",
       "      <td id=\"T_82da9_row5_col6\" class=\"data row5 col6\" >0.000000</td>\n",
       "      <td id=\"T_82da9_row5_col7\" class=\"data row5 col7\" >0.000000</td>\n",
       "      <td id=\"T_82da9_row5_col8\" class=\"data row5 col8\" >0.000000</td>\n",
       "    </tr>\n",
       "    <tr>\n",
       "      <th id=\"T_82da9_level0_row6\" class=\"row_heading level0 row6\" >6</th>\n",
       "      <td id=\"T_82da9_row6_col0\" class=\"data row6 col0\" >0.000000</td>\n",
       "      <td id=\"T_82da9_row6_col1\" class=\"data row6 col1\" >0.000000</td>\n",
       "      <td id=\"T_82da9_row6_col2\" class=\"data row6 col2\" >0.000000</td>\n",
       "      <td id=\"T_82da9_row6_col3\" class=\"data row6 col3\" >0.000000</td>\n",
       "      <td id=\"T_82da9_row6_col4\" class=\"data row6 col4\" >0.000000</td>\n",
       "      <td id=\"T_82da9_row6_col5\" class=\"data row6 col5\" >0.000000</td>\n",
       "      <td id=\"T_82da9_row6_col6\" class=\"data row6 col6\" >2613.000000</td>\n",
       "      <td id=\"T_82da9_row6_col7\" class=\"data row6 col7\" >0.000000</td>\n",
       "      <td id=\"T_82da9_row6_col8\" class=\"data row6 col8\" >0.000000</td>\n",
       "    </tr>\n",
       "    <tr>\n",
       "      <th id=\"T_82da9_level0_row7\" class=\"row_heading level0 row7\" >7</th>\n",
       "      <td id=\"T_82da9_row7_col0\" class=\"data row7 col0\" >0.000000</td>\n",
       "      <td id=\"T_82da9_row7_col1\" class=\"data row7 col1\" >0.000000</td>\n",
       "      <td id=\"T_82da9_row7_col2\" class=\"data row7 col2\" >0.000000</td>\n",
       "      <td id=\"T_82da9_row7_col3\" class=\"data row7 col3\" >0.000000</td>\n",
       "      <td id=\"T_82da9_row7_col4\" class=\"data row7 col4\" >0.000000</td>\n",
       "      <td id=\"T_82da9_row7_col5\" class=\"data row7 col5\" >0.000000</td>\n",
       "      <td id=\"T_82da9_row7_col6\" class=\"data row7 col6\" >0.000000</td>\n",
       "      <td id=\"T_82da9_row7_col7\" class=\"data row7 col7\" >1418.000000</td>\n",
       "      <td id=\"T_82da9_row7_col8\" class=\"data row7 col8\" >0.000000</td>\n",
       "    </tr>\n",
       "    <tr>\n",
       "      <th id=\"T_82da9_level0_row8\" class=\"row_heading level0 row8\" >8</th>\n",
       "      <td id=\"T_82da9_row8_col0\" class=\"data row8 col0\" >0.000000</td>\n",
       "      <td id=\"T_82da9_row8_col1\" class=\"data row8 col1\" >0.000000</td>\n",
       "      <td id=\"T_82da9_row8_col2\" class=\"data row8 col2\" >0.000000</td>\n",
       "      <td id=\"T_82da9_row8_col3\" class=\"data row8 col3\" >0.000000</td>\n",
       "      <td id=\"T_82da9_row8_col4\" class=\"data row8 col4\" >0.000000</td>\n",
       "      <td id=\"T_82da9_row8_col5\" class=\"data row8 col5\" >0.000000</td>\n",
       "      <td id=\"T_82da9_row8_col6\" class=\"data row8 col6\" >0.000000</td>\n",
       "      <td id=\"T_82da9_row8_col7\" class=\"data row8 col7\" >0.000000</td>\n",
       "      <td id=\"T_82da9_row8_col8\" class=\"data row8 col8\" >342.000000</td>\n",
       "    </tr>\n",
       "  </tbody>\n",
       "</table>\n"
      ],
      "text/plain": [
       "<pandas.io.formats.style.Styler at 0x1551d3b7e8e0>"
      ]
     },
     "execution_count": 13,
     "metadata": {},
     "output_type": "execute_result"
    }
   ],
   "source": [
    "mapping_dist = np.diag(nominal)\n",
    "pd.DataFrame(mapping_dist).style.background_gradient(cmap='RdBu')\n",
    "# TODO make more realistic mapping distribution"
   ]
  },
  {
   "cell_type": "markdown",
   "metadata": {},
   "source": [
    "## Set up the custom modifier"
   ]
  },
  {
   "cell_type": "code",
   "execution_count": 14,
   "metadata": {},
   "outputs": [],
   "source": [
    "# Predicted yields for cvl = csl = 0.5\n",
    "alt_yields = [\n",
    "    3060.11993791, 3291.07870052, 3498.17781623, 3511.67481092,\n",
    "    3491.33134808, 3427.05956019, 3063.72913742, 2741.03878409,\n",
    "    1658.45873021\n",
    "    ]"
   ]
  },
  {
   "cell_type": "code",
   "execution_count": 15,
   "metadata": {},
   "outputs": [
    {
     "data": {
      "text/plain": [
       "{'custom': (publik.pyhf_modifier.custom_modifier.add.<locals>._builder,\n",
       "  publik.pyhf_modifier.custom_modifier.add.<locals>._applier),\n",
       " 'histosys': (pyhf.modifiers.histosys.histosys_builder,\n",
       "  pyhf.modifiers.histosys.histosys_combined),\n",
       " 'lumi': (pyhf.modifiers.lumi.lumi_builder, pyhf.modifiers.lumi.lumi_combined),\n",
       " 'normfactor': (pyhf.modifiers.normfactor.normfactor_builder,\n",
       "  pyhf.modifiers.normfactor.normfactor_combined),\n",
       " 'normsys': (pyhf.modifiers.normsys.normsys_builder,\n",
       "  pyhf.modifiers.normsys.normsys_combined),\n",
       " 'shapefactor': (pyhf.modifiers.shapefactor.shapefactor_builder,\n",
       "  pyhf.modifiers.shapefactor.shapefactor_combined),\n",
       " 'shapesys': (pyhf.modifiers.shapesys.shapesys_builder,\n",
       "  pyhf.modifiers.shapesys.shapesys_combined),\n",
       " 'staterror': (pyhf.modifiers.staterror.staterror_builder,\n",
       "  pyhf.modifiers.staterror.staterror_combined)}"
      ]
     },
     "execution_count": 15,
     "metadata": {},
     "output_type": "execute_result"
    }
   ],
   "source": [
    "new_params = {\n",
    "                'cvl'   :{'inits': (1.,), 'bounds': ((0., 10.),), 'paramset_type': 'unconstrained'},\n",
    "                'csl'   :{'inits': (0.,), 'bounds': ((0., 10.),), 'paramset_type': 'unconstrained'},\n",
    "                'FF'   :{'inits': (fp0, fp1, fp2, f01, f02), \n",
    "                         'bounds': ((0., 1.),(-4., -1.),(4., 6.),(-1., 2.),(-2., 0.)), \n",
    "                         'cov': cov, \n",
    "                         'paramset_type': 'constrained_by_normal'}\n",
    "            }\n",
    "\n",
    "cmod = modifier.Modifier(new_params, alt.distribution, null.distribution, mapping_dist, binning)\n",
    "cmod.expanded_pyhf"
   ]
  },
  {
   "cell_type": "code",
   "execution_count": 16,
   "metadata": {},
   "outputs": [
    {
     "data": {
      "text/plain": [
       "{'channels': [{'name': 'singlechannel',\n",
       "   'samples': [{'name': 'signal',\n",
       "     'data': array([10829.,  9682.,  8512.,  6967.,  5510.,  4127.,  2613.,  1418.,\n",
       "              342.]),\n",
       "     'modifiers': [{'name': 'mu', 'type': 'normfactor', 'data': None},\n",
       "      {'name': 'theory',\n",
       "       'type': 'custom',\n",
       "       'data': {'expr': 'weight_function',\n",
       "        'ibin': [0, 1, 2, 3, 4, 5, 6, 7, 8]}}]}]}]}"
      ]
     },
     "execution_count": 16,
     "metadata": {},
     "output_type": "execute_result"
    }
   ],
   "source": [
    "spec = {\n",
    "  \"channels\": [\n",
    "    {\n",
    "      \"name\": \"singlechannel\",\n",
    "      \"samples\": [\n",
    "        {\n",
    "          \"name\": \"signal\",\n",
    "          \"data\": nominal,\n",
    "          \"modifiers\": [\n",
    "            {\n",
    "                \"name\": \"mu\",\n",
    "                \"type\": \"normfactor\",\n",
    "                \"data\": None\n",
    "            }\n",
    "          ]\n",
    "        },\n",
    "      ]\n",
    "    }\n",
    "  ]\n",
    "}\n",
    "model = pyhf.Model(spec)\n",
    "\n",
    "custom_mod = {\n",
    "                \"name\": \"theory\",\n",
    "                \"type\": \"custom\",\n",
    "                \"data\":\n",
    "                    {\n",
    "                        \"expr\": \"weight_function\",\n",
    "                        \"ibin\": [0, 1, 2, 3, 4, 5, 6, 7, 8]\n",
    "                    }\n",
    "              }\n",
    "\n",
    "model = modifier.add_to_model(model, ['singlechannel'], ['signal'], cmod.expanded_pyhf, custom_mod)\n",
    "data = alt_yields + model.config.auxdata\n",
    "model.spec"
   ]
  },
  {
   "cell_type": "code",
   "execution_count": 17,
   "metadata": {},
   "outputs": [
    {
     "data": {
      "text/plain": [
       "{'cvl': {'slice': slice(0, 1, None),\n",
       "  'paramset': <pyhf.parameters.paramsets.unconstrained at 0x1551d3962fd0>},\n",
       " 'csl': {'slice': slice(1, 2, None),\n",
       "  'paramset': <pyhf.parameters.paramsets.unconstrained at 0x1551ff4d2040>},\n",
       " 'FF_decorrelated[0]': {'slice': slice(2, 3, None),\n",
       "  'paramset': <pyhf.parameters.paramsets.constrained_by_normal at 0x1551ff4d2070>},\n",
       " 'FF_decorrelated[1]': {'slice': slice(3, 4, None),\n",
       "  'paramset': <pyhf.parameters.paramsets.constrained_by_normal at 0x1551ff4d20a0>},\n",
       " 'FF_decorrelated[2]': {'slice': slice(4, 5, None),\n",
       "  'paramset': <pyhf.parameters.paramsets.constrained_by_normal at 0x1551ff4d20d0>},\n",
       " 'FF_decorrelated[3]': {'slice': slice(5, 6, None),\n",
       "  'paramset': <pyhf.parameters.paramsets.constrained_by_normal at 0x1551ff4d2100>},\n",
       " 'FF_decorrelated[4]': {'slice': slice(6, 7, None),\n",
       "  'paramset': <pyhf.parameters.paramsets.constrained_by_normal at 0x1551ff4d2130>},\n",
       " 'mu': {'slice': slice(7, 8, None),\n",
       "  'paramset': <pyhf.parameters.paramsets.unconstrained at 0x1551ff4d2160>}}"
      ]
     },
     "execution_count": 17,
     "metadata": {},
     "output_type": "execute_result"
    }
   ],
   "source": [
    "model.config.par_map"
   ]
  },
  {
   "cell_type": "code",
   "execution_count": 18,
   "metadata": {},
   "outputs": [
    {
     "name": "stdout",
     "output_type": "stream",
     "text": [
      "Expected yields \n",
      " array([3060.11987968, 3291.07860218, 3498.17769043, 3511.67467657,\n",
      "       3491.33121699, 3427.05944231, 3063.72904785, 2741.03872259,\n",
      "       1658.45870581])\n"
     ]
    },
    {
     "data": {
      "text/plain": [
       "<matplotlib.patches.StepPatch at 0x1551ff49c640>"
      ]
     },
     "execution_count": 18,
     "metadata": {},
     "output_type": "execute_result"
    },
    {
     "data": {
      "image/png": "[encoded data removed]",
      "text/plain": [
       "<Figure size 640x480 with 1 Axes>"
      ]
     },
     "metadata": {},
     "output_type": "display_data"
    }
   ],
   "source": [
    "init = model.config.suggested_init()\n",
    "init[0] = 0.5\n",
    "init[1] = 0.5\n",
    "expected = model.expected_actualdata(init)\n",
    "\n",
    "print('Expected yields \\n', repr(expected))\n",
    "\n",
    "plt.stairs(nominal, binning)\n",
    "plt.stairs(expected, binning)"
   ]
  },
  {
   "cell_type": "markdown",
   "metadata": {},
   "source": [
    "## Perform the fit"
   ]
  },
  {
   "cell_type": "code",
   "execution_count": 19,
   "metadata": {},
   "outputs": [
    {
     "name": "stderr",
     "output_type": "stream",
     "text": [
      "/home/l/Lorenz.Gaertner/publik-group/venv_publik_group/lib/python3.8/site-packages/scipy/optimize/_optimize.py:353: RuntimeWarning: Values in x were outside bounds during a minimize step, clipping to bounds\n",
      "  warnings.warn(\"Values in x were outside bounds during a \"\n"
     ]
    },
    {
     "data": {
      "text/plain": [
       "{'cvl': 0.5000003232965906,\n",
       " 'csl': 0.49999953864113406,\n",
       " 'FF[0]': 0.6664428497172201,\n",
       " 'FF[1]': -2.544902366255794,\n",
       " 'FF[2]': 4.781799874297943,\n",
       " 'FF[3]': 0.24895023421689433,\n",
       " 'FF[4]': -0.9592884452670959,\n",
       " 'mu': 1.0}"
      ]
     },
     "execution_count": 19,
     "metadata": {},
     "output_type": "execute_result"
    }
   ],
   "source": [
    "fixed = model.config.suggested_fixed()\n",
    "fixed[-1] = True\n",
    "\n",
    "best_fit = pyhf.infer.mle.fit(data, model, fixed_params=fixed)\n",
    "\n",
    "best_fit_dict = modifier.par_dict(model, best_fit)\n",
    "best_fit_dict = cmod.rotate_pars(best_fit_dict)\n",
    "best_fit_dict"
   ]
  },
  {
   "cell_type": "code",
   "execution_count": 20,
   "metadata": {},
   "outputs": [
    {
     "data": {
      "text/plain": [
       "[<matplotlib.lines.Line2D at 0x1551ff391a00>]"
      ]
     },
     "execution_count": 20,
     "metadata": {},
     "output_type": "execute_result"
    },
    {
     "data": {
      "image/png": "[encoded data removed]",
      "text/plain": [
       "<Figure size 640x480 with 1 Axes>"
      ]
     },
     "metadata": {},
     "output_type": "display_data"
    }
   ],
   "source": [
    "plt.stairs(model.expected_actualdata(model.config.suggested_init()), binning)\n",
    "plt.stairs(model.expected_actualdata(best_fit), binning)\n",
    "bin_cents = (binning[:-1] + binning[1:])/2\n",
    "plt.plot(bin_cents, data[:9], \"o\")"
   ]
  },
  {
   "cell_type": "code",
   "execution_count": null,
   "metadata": {},
   "outputs": [],
   "source": []
  }
 ],
 "metadata": {
  "kernelspec": {
   "display_name": "venv_publik_toys",
   "language": "python",
   "name": "python3"
  },
  "language_info": {
   "codemirror_mode": {
    "name": "ipython",
    "version": 3
   },
   "file_extension": ".py",
   "mimetype": "text/x-python",
   "name": "python",
   "nbconvert_exporter": "python",
   "pygments_lexer": "ipython3",
   "version": "3.8.10"
  }
 },
 "nbformat": 4,
 "nbformat_minor": 2
}
