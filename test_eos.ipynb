{
 "cells": [
  {
   "cell_type": "code",
   "execution_count": 1,
   "metadata": {},
   "outputs": [],
   "source": [
    "%reload_ext autoreload\n",
    "%autoreload 2\n",
    "\n",
    "import numpy as np\n",
    "import pandas as pd\n",
    "import pyhf\n",
    "import eos\n",
    "import numbers\n",
    "import matplotlib.pyplot as plt\n",
    "from publik.pyhf_modifier import modifier\n",
    "from publik.pyhf_modifier import plot"
   ]
  },
  {
   "cell_type": "code",
   "execution_count": 2,
   "metadata": {},
   "outputs": [],
   "source": [
    "def analysis():\n",
    "    \"\"\"\n",
    "    Specify the likelihoods and FF parameter ranges \n",
    "    \n",
    "    Returns:\n",
    "        EOS analysis instance\n",
    "    \"\"\"\n",
    "\n",
    "    # form factor expansion f+_0,1,2 are expansion parameters up to 2nd order\n",
    "    # there is no f0_0 because of a constriant which removes one parameter\n",
    "\n",
    "    parameters = [\n",
    "        0.33772497529184886, -0.87793473613271, -0.07935870922121949, \n",
    "        0.3719622997220613, 0.07388594710238389, 0.327935912834808, \n",
    "        -0.9490004115927961, -0.23146429907794228\n",
    "        ]\n",
    "    paramerror = [\n",
    "        0.010131234226468245, 0.09815140228051167, 0.26279803480131697, \n",
    "        0.07751034526769873, 0.14588095119443809, 0.019809720318176644, \n",
    "        0.16833757660616938, 0.36912754148836896\n",
    "        ]\n",
    "    sigma = 15\n",
    "    analysis_args = {\n",
    "        'priors': [\n",
    "            { 'parameter': 'B->K::alpha^f+_0@BSZ2015', 'min': parameters[0]-sigma*paramerror[0], 'max': parameters[0]+sigma*paramerror[0], 'type': 'uniform' },\n",
    "            { 'parameter': 'B->K::alpha^f+_1@BSZ2015', 'min': parameters[1]-sigma*paramerror[1], 'max': parameters[1]+sigma*paramerror[1], 'type': 'uniform' },\n",
    "            { 'parameter': 'B->K::alpha^f+_2@BSZ2015', 'min': parameters[2]-sigma*paramerror[2], 'max': parameters[2]+sigma*paramerror[2], 'type': 'uniform' },\n",
    "            { 'parameter': 'B->K::alpha^f0_1@BSZ2015', 'min': parameters[3]-sigma*paramerror[3], 'max': parameters[3]+sigma*paramerror[3], 'type': 'uniform' },\n",
    "            { 'parameter': 'B->K::alpha^f0_2@BSZ2015', 'min': parameters[4]-sigma*paramerror[4], 'max': parameters[4]+sigma*paramerror[4], 'type': 'uniform' },\n",
    "            { 'parameter': 'B->K::alpha^fT_0@BSZ2015', 'min': parameters[5]-sigma*paramerror[5], 'max': parameters[5]+sigma*paramerror[5], 'type': 'uniform' },\n",
    "            { 'parameter': 'B->K::alpha^fT_1@BSZ2015', 'min': parameters[6]-sigma*paramerror[6], 'max': parameters[6]+sigma*paramerror[6], 'type': 'uniform' },\n",
    "            { 'parameter': 'B->K::alpha^fT_2@BSZ2015', 'min': parameters[7]-sigma*paramerror[7], 'max': parameters[7]+sigma*paramerror[7], 'type': 'uniform' }\n",
    "        ],\n",
    "        'likelihood': [\n",
    "            'B->K::f_0+f_++f_T@FLAG:2021A', #ONLY IN v1.0.3\n",
    "            'B->K::f_0+f_++f_T@HPQCD:2022A'\n",
    "        ]\n",
    "    }\n",
    "\n",
    "    analysis = eos.Analysis(**analysis_args)\n",
    "    analysis.optimize()\n",
    "    return analysis"
   ]
  },
  {
   "cell_type": "markdown",
   "metadata": {},
   "source": [
    "## Produce samples"
   ]
  },
  {
   "cell_type": "code",
   "execution_count": 3,
   "metadata": {},
   "outputs": [],
   "source": [
    "sam_ana = analysis()\n",
    "# sam_cvl = 6.0\n",
    "# sam_csl = 2.0\n",
    "# sam_ctl = 2.0\n",
    "# sam_ana.parameters['sbnunu::Re{cVL}'].set(sam_cvl)\n",
    "# sam_ana.parameters['sbnunu::Re{cSL}'].set(sam_csl)\n",
    "# sam_ana.parameters['sbnunu::Re{cTL}'].set(sam_ctl)"
   ]
  },
  {
   "cell_type": "code",
   "execution_count": 4,
   "metadata": {},
   "outputs": [
    {
     "name": "stderr",
     "output_type": "stream",
     "text": [
      "/home/lorenz/publik-group/venv_publik_group/lib/python3.10/site-packages/tqdm/auto.py:21: TqdmWarning: IProgress not found. Please update jupyter and ipywidgets. See https://ipywidgets.readthedocs.io/en/stable/user_install.html\n",
      "  from .autonotebook import tqdm as notebook_tqdm\n",
      "                                                           \r"
     ]
    }
   ],
   "source": [
    "p = sam_ana.parameters\n",
    "k = eos.Kinematics(q2=1.0, q2_min=0.0, q2_max=22.90)\n",
    "o = eos.Options(**{'form-factors': 'BSZ2015', 'model': 'WET'})\n",
    "pdf = eos.SignalPDF.make('B^-->K^-nunu::dGamma/dq2', p, k, o)\n",
    "\n",
    "null_samples, pdf_values = pdf.sample_mcmc(50000, stride=5, pre_N=10000, preruns=5, cov_scale=0.1, rng=np.random.mtrand.RandomState(seed=1234))"
   ]
  },
  {
   "cell_type": "code",
   "execution_count": 5,
   "metadata": {},
   "outputs": [
    {
     "data": {
      "image/png": "[encoded data removed]",
      "text/plain": [
       "<Figure size 800x550 with 1 Axes>"
      ]
     },
     "metadata": {},
     "output_type": "display_data"
    }
   ],
   "source": [
    "binning = np.linspace(0.0, 22.9, 13) \n",
    "\n",
    "null_yields, _, _ = plt.hist(null_samples, binning, histtype='step')"
   ]
  },
  {
   "cell_type": "markdown",
   "metadata": {},
   "source": [
    "## Define null and alternative predictions"
   ]
  },
  {
   "cell_type": "code",
   "execution_count": 6,
   "metadata": {},
   "outputs": [],
   "source": [
    "ana = analysis()\n",
    "cvl = ana.parameters['sbnunu::Re{cVL}'         ].evaluate()\n",
    "csl = ana.parameters['sbnunu::Re{cSL}'         ].evaluate()\n",
    "ctl = ana.parameters['sbnunu::Re{cTL}'         ].evaluate()\n",
    "fp0 = ana.parameters['B->K::alpha^f+_0@BSZ2015'].evaluate()\n",
    "fp1 = ana.parameters['B->K::alpha^f+_1@BSZ2015'].evaluate()\n",
    "fp2 = ana.parameters['B->K::alpha^f+_2@BSZ2015'].evaluate()\n",
    "f01 = ana.parameters['B->K::alpha^f0_1@BSZ2015'].evaluate()\n",
    "f02 = ana.parameters['B->K::alpha^f0_2@BSZ2015'].evaluate()\n",
    "fT0 = ana.parameters['B->K::alpha^fT_0@BSZ2015'].evaluate()\n",
    "fT1 = ana.parameters['B->K::alpha^fT_1@BSZ2015'].evaluate()\n",
    "fT2 = ana.parameters['B->K::alpha^fT_2@BSZ2015'].evaluate()"
   ]
  },
  {
   "cell_type": "code",
   "execution_count": 7,
   "metadata": {},
   "outputs": [],
   "source": [
    "class null:\n",
    "    def __init__(self):\n",
    "        self.parameters = eos.Parameters()\n",
    "        self.options = eos.Options(**{'form-factors': 'BSZ2015', 'model': 'WET'})\n",
    "\n",
    "    def distribution(self, q2):\n",
    "        if isinstance(q2, numbers.Number):\n",
    "            obs = eos.Observable.make(\n",
    "                'B->Knunu::dBR/dq2', \n",
    "                self.parameters, \n",
    "                eos.Kinematics(q2=q2),\n",
    "                self.options).evaluate()\n",
    "        else:\n",
    "            obs = np.array([eos.Observable.make(\n",
    "                'B->Knunu::dBR/dq2', \n",
    "                self.parameters, \n",
    "                eos.Kinematics(q2=q),\n",
    "                self.options).evaluate() \n",
    "                   for q in q2])\n",
    "            \n",
    "        return obs\n",
    "    \n",
    "class alt:\n",
    "    def __init__(self):\n",
    "        self.ana = analysis()\n",
    "        self.options = eos.Options(**{'form-factors': 'BSZ2015', 'model': 'WET'})\n",
    "\n",
    "    def distribution(self, q2, cvl, csl, ctl,  fp0, fp1, fp2, f01, f02, fT0, fT1, fT2):\n",
    "        self.ana.parameters['sbnunu::Re{cVL}'         ].set(cvl)\n",
    "        self.ana.parameters['sbnunu::Re{cSL}'         ].set(csl)\n",
    "        self.ana.parameters['sbnunu::Re{cTL}'         ].set(ctl)\n",
    "        self.ana.parameters['B->K::alpha^f+_0@BSZ2015'].set(fp0)\n",
    "        self.ana.parameters['B->K::alpha^f+_1@BSZ2015'].set(fp1)\n",
    "        self.ana.parameters['B->K::alpha^f+_2@BSZ2015'].set(fp2)\n",
    "        self.ana.parameters['B->K::alpha^f0_1@BSZ2015'].set(f01)\n",
    "        self.ana.parameters['B->K::alpha^f0_2@BSZ2015'].set(f02)\n",
    "        self.ana.parameters['B->K::alpha^fT_0@BSZ2015'].set(fT0)\n",
    "        self.ana.parameters['B->K::alpha^fT_1@BSZ2015'].set(fT1)\n",
    "        self.ana.parameters['B->K::alpha^fT_2@BSZ2015'].set(fT2)\n",
    "\n",
    "        if isinstance(q2, numbers.Number):\n",
    "            obs = eos.Observable.make(\n",
    "                'B->Knunu::dBR/dq2', \n",
    "                self.ana.parameters, \n",
    "                eos.Kinematics(q2=q2),\n",
    "                self.options).evaluate()\n",
    "        else:\n",
    "            obs = np.array([eos.Observable.make(\n",
    "                'B->Knunu::dBR/dq2', \n",
    "                self.ana.parameters, \n",
    "                eos.Kinematics(q2=q),\n",
    "                self.options).evaluate() \n",
    "                   for q in q2])\n",
    "            \n",
    "        return obs\n",
    "    \n",
    "null = null()\n",
    "alt = alt()"
   ]
  },
  {
   "cell_type": "code",
   "execution_count": 8,
   "metadata": {},
   "outputs": [
    {
     "name": "stderr",
     "output_type": "stream",
     "text": [
      "Pre-runs:   0%|          | 0/5 [00:00<?, ?it/s]"
     ]
    },
    {
     "name": "stderr",
     "output_type": "stream",
     "text": [
      "                                                           \r"
     ]
    },
    {
     "data": {
      "text/html": [
       "<style type=\"text/css\">\n",
       "#T_08153_row0_col0 {\n",
       "  background-color: #730421;\n",
       "  color: #f1f1f1;\n",
       "}\n",
       "#T_08153_row0_col1, #T_08153_row0_col2, #T_08153_row0_col3, #T_08153_row0_col4 {\n",
       "  background-color: #700320;\n",
       "  color: #f1f1f1;\n",
       "}\n",
       "#T_08153_row0_col5, #T_08153_row0_col6, #T_08153_row0_col7, #T_08153_row2_col5, #T_08153_row5_col0, #T_08153_row5_col1, #T_08153_row5_col2, #T_08153_row5_col3, #T_08153_row5_col4 {\n",
       "  background-color: #67001f;\n",
       "  color: #f1f1f1;\n",
       "}\n",
       "#T_08153_row1_col0 {\n",
       "  background-color: #f6f7f7;\n",
       "  color: #000000;\n",
       "}\n",
       "#T_08153_row1_col1 {\n",
       "  background-color: #fce0d0;\n",
       "  color: #000000;\n",
       "}\n",
       "#T_08153_row1_col2 {\n",
       "  background-color: #f6b191;\n",
       "  color: #000000;\n",
       "}\n",
       "#T_08153_row1_col3 {\n",
       "  background-color: #f9f0eb;\n",
       "  color: #000000;\n",
       "}\n",
       "#T_08153_row1_col4 {\n",
       "  background-color: #fbe6da;\n",
       "  color: #000000;\n",
       "}\n",
       "#T_08153_row1_col5 {\n",
       "  background-color: #8d0c25;\n",
       "  color: #f1f1f1;\n",
       "}\n",
       "#T_08153_row1_col6, #T_08153_row3_col5 {\n",
       "  background-color: #ab162a;\n",
       "  color: #f1f1f1;\n",
       "}\n",
       "#T_08153_row1_col7 {\n",
       "  background-color: #ae172a;\n",
       "  color: #f1f1f1;\n",
       "}\n",
       "#T_08153_row2_col0 {\n",
       "  background-color: #78b4d5;\n",
       "  color: #000000;\n",
       "}\n",
       "#T_08153_row2_col1, #T_08153_row2_col2, #T_08153_row4_col0, #T_08153_row4_col3, #T_08153_row4_col4, #T_08153_row7_col5, #T_08153_row7_col6, #T_08153_row7_col7 {\n",
       "  background-color: #053061;\n",
       "  color: #f1f1f1;\n",
       "}\n",
       "#T_08153_row2_col3 {\n",
       "  background-color: #71b0d3;\n",
       "  color: #f1f1f1;\n",
       "}\n",
       "#T_08153_row2_col4 {\n",
       "  background-color: #5fa5cd;\n",
       "  color: #f1f1f1;\n",
       "}\n",
       "#T_08153_row2_col6 {\n",
       "  background-color: #cc4c44;\n",
       "  color: #f1f1f1;\n",
       "}\n",
       "#T_08153_row2_col7 {\n",
       "  background-color: #f19e7d;\n",
       "  color: #000000;\n",
       "}\n",
       "#T_08153_row3_col0 {\n",
       "  background-color: #deebf2;\n",
       "  color: #000000;\n",
       "}\n",
       "#T_08153_row3_col1 {\n",
       "  background-color: #e48066;\n",
       "  color: #f1f1f1;\n",
       "}\n",
       "#T_08153_row3_col2 {\n",
       "  background-color: #bb2a34;\n",
       "  color: #f1f1f1;\n",
       "}\n",
       "#T_08153_row3_col3 {\n",
       "  background-color: #edf2f5;\n",
       "  color: #000000;\n",
       "}\n",
       "#T_08153_row3_col4 {\n",
       "  background-color: #f8f4f2;\n",
       "  color: #000000;\n",
       "}\n",
       "#T_08153_row3_col6, #T_08153_row5_col5 {\n",
       "  background-color: #991027;\n",
       "  color: #f1f1f1;\n",
       "}\n",
       "#T_08153_row3_col7 {\n",
       "  background-color: #840924;\n",
       "  color: #f1f1f1;\n",
       "}\n",
       "#T_08153_row4_col1 {\n",
       "  background-color: #f9ede5;\n",
       "  color: #000000;\n",
       "}\n",
       "#T_08153_row4_col2 {\n",
       "  background-color: #e58368;\n",
       "  color: #f1f1f1;\n",
       "}\n",
       "#T_08153_row4_col5 {\n",
       "  background-color: #c53e3d;\n",
       "  color: #f1f1f1;\n",
       "}\n",
       "#T_08153_row4_col6 {\n",
       "  background-color: #ba2832;\n",
       "  color: #f1f1f1;\n",
       "}\n",
       "#T_08153_row4_col7 {\n",
       "  background-color: #a51429;\n",
       "  color: #f1f1f1;\n",
       "}\n",
       "#T_08153_row5_col6 {\n",
       "  background-color: #8a0b25;\n",
       "  color: #f1f1f1;\n",
       "}\n",
       "#T_08153_row5_col7 {\n",
       "  background-color: #810823;\n",
       "  color: #f1f1f1;\n",
       "}\n",
       "#T_08153_row6_col0 {\n",
       "  background-color: #fcd7c2;\n",
       "  color: #000000;\n",
       "}\n",
       "#T_08153_row6_col1 {\n",
       "  background-color: #ec9374;\n",
       "  color: #f1f1f1;\n",
       "}\n",
       "#T_08153_row6_col2 {\n",
       "  background-color: #c94741;\n",
       "  color: #f1f1f1;\n",
       "}\n",
       "#T_08153_row6_col3 {\n",
       "  background-color: #fcd3bc;\n",
       "  color: #000000;\n",
       "}\n",
       "#T_08153_row6_col4 {\n",
       "  background-color: #f7b99c;\n",
       "  color: #000000;\n",
       "}\n",
       "#T_08153_row6_col5 {\n",
       "  background-color: #d7e8f1;\n",
       "  color: #000000;\n",
       "}\n",
       "#T_08153_row6_col6 {\n",
       "  background-color: #f3f5f6;\n",
       "  color: #000000;\n",
       "}\n",
       "#T_08153_row6_col7 {\n",
       "  background-color: #fbe3d4;\n",
       "  color: #000000;\n",
       "}\n",
       "#T_08153_row7_col0 {\n",
       "  background-color: #e3edf3;\n",
       "  color: #000000;\n",
       "}\n",
       "#T_08153_row7_col1 {\n",
       "  background-color: #a2cde3;\n",
       "  color: #000000;\n",
       "}\n",
       "#T_08153_row7_col2 {\n",
       "  background-color: #bddbea;\n",
       "  color: #000000;\n",
       "}\n",
       "#T_08153_row7_col3, #T_08153_row7_col4 {\n",
       "  background-color: #e0ecf3;\n",
       "  color: #000000;\n",
       "}\n",
       "</style>\n",
       "<table id=\"T_08153\">\n",
       "  <thead>\n",
       "    <tr>\n",
       "      <th class=\"blank level0\" >&nbsp;</th>\n",
       "      <th id=\"T_08153_level0_col0\" class=\"col_heading level0 col0\" >0</th>\n",
       "      <th id=\"T_08153_level0_col1\" class=\"col_heading level0 col1\" >1</th>\n",
       "      <th id=\"T_08153_level0_col2\" class=\"col_heading level0 col2\" >2</th>\n",
       "      <th id=\"T_08153_level0_col3\" class=\"col_heading level0 col3\" >3</th>\n",
       "      <th id=\"T_08153_level0_col4\" class=\"col_heading level0 col4\" >4</th>\n",
       "      <th id=\"T_08153_level0_col5\" class=\"col_heading level0 col5\" >5</th>\n",
       "      <th id=\"T_08153_level0_col6\" class=\"col_heading level0 col6\" >6</th>\n",
       "      <th id=\"T_08153_level0_col7\" class=\"col_heading level0 col7\" >7</th>\n",
       "    </tr>\n",
       "  </thead>\n",
       "  <tbody>\n",
       "    <tr>\n",
       "      <th id=\"T_08153_level0_row0\" class=\"row_heading level0 row0\" >0</th>\n",
       "      <td id=\"T_08153_row0_col0\" class=\"data row0 col0\" >0.000109</td>\n",
       "      <td id=\"T_08153_row0_col1\" class=\"data row0 col1\" >0.000696</td>\n",
       "      <td id=\"T_08153_row0_col2\" class=\"data row0 col2\" >0.000979</td>\n",
       "      <td id=\"T_08153_row0_col3\" class=\"data row0 col3\" >0.000775</td>\n",
       "      <td id=\"T_08153_row0_col4\" class=\"data row0 col4\" >0.001303</td>\n",
       "      <td id=\"T_08153_row0_col5\" class=\"data row0 col5\" >0.000088</td>\n",
       "      <td id=\"T_08153_row0_col6\" class=\"data row0 col6\" >0.000565</td>\n",
       "      <td id=\"T_08153_row0_col7\" class=\"data row0 col7\" >0.000760</td>\n",
       "    </tr>\n",
       "    <tr>\n",
       "      <th id=\"T_08153_level0_row1\" class=\"row_heading level0 row1\" >1</th>\n",
       "      <td id=\"T_08153_row1_col0\" class=\"data row1 col0\" >0.000696</td>\n",
       "      <td id=\"T_08153_row1_col1\" class=\"data row1 col1\" >0.009307</td>\n",
       "      <td id=\"T_08153_row1_col2\" class=\"data row1 col2\" >0.021609</td>\n",
       "      <td id=\"T_08153_row1_col3\" class=\"data row1 col3\" >0.005688</td>\n",
       "      <td id=\"T_08153_row1_col4\" class=\"data row1 col4\" >0.010247</td>\n",
       "      <td id=\"T_08153_row1_col5\" class=\"data row1 col5\" >0.000392</td>\n",
       "      <td id=\"T_08153_row1_col6\" class=\"data row1 col6\" >0.006202</td>\n",
       "      <td id=\"T_08153_row1_col7\" class=\"data row1 col7\" >0.014710</td>\n",
       "    </tr>\n",
       "    <tr>\n",
       "      <th id=\"T_08153_level0_row2\" class=\"row_heading level0 row2\" >2</th>\n",
       "      <td id=\"T_08153_row2_col0\" class=\"data row2 col0\" >0.000979</td>\n",
       "      <td id=\"T_08153_row2_col1\" class=\"data row2 col1\" >0.021609</td>\n",
       "      <td id=\"T_08153_row2_col2\" class=\"data row2 col2\" >0.067185</td>\n",
       "      <td id=\"T_08153_row2_col3\" class=\"data row2 col3\" >0.008526</td>\n",
       "      <td id=\"T_08153_row2_col4\" class=\"data row2 col4\" >0.017058</td>\n",
       "      <td id=\"T_08153_row2_col5\" class=\"data row2 col5\" >0.000097</td>\n",
       "      <td id=\"T_08153_row2_col6\" class=\"data row2 col6\" >0.011229</td>\n",
       "      <td id=\"T_08153_row2_col7\" class=\"data row2 col7\" >0.042544</td>\n",
       "    </tr>\n",
       "    <tr>\n",
       "      <th id=\"T_08153_level0_row3\" class=\"row_heading level0 row3\" >3</th>\n",
       "      <td id=\"T_08153_row3_col0\" class=\"data row3 col0\" >0.000775</td>\n",
       "      <td id=\"T_08153_row3_col1\" class=\"data row3 col1\" >0.005688</td>\n",
       "      <td id=\"T_08153_row3_col2\" class=\"data row3 col2\" >0.008526</td>\n",
       "      <td id=\"T_08153_row3_col3\" class=\"data row3 col3\" >0.006233</td>\n",
       "      <td id=\"T_08153_row3_col4\" class=\"data row3 col4\" >0.011288</td>\n",
       "      <td id=\"T_08153_row3_col5\" class=\"data row3 col5\" >0.000612</td>\n",
       "      <td id=\"T_08153_row3_col6\" class=\"data row3 col6\" >0.004714</td>\n",
       "      <td id=\"T_08153_row3_col7\" class=\"data row3 col7\" >0.006588</td>\n",
       "    </tr>\n",
       "    <tr>\n",
       "      <th id=\"T_08153_level0_row4\" class=\"row_heading level0 row4\" >4</th>\n",
       "      <td id=\"T_08153_row4_col0\" class=\"data row4 col0\" >0.001303</td>\n",
       "      <td id=\"T_08153_row4_col1\" class=\"data row4 col1\" >0.010247</td>\n",
       "      <td id=\"T_08153_row4_col2\" class=\"data row4 col2\" >0.017058</td>\n",
       "      <td id=\"T_08153_row4_col3\" class=\"data row4 col3\" >0.011288</td>\n",
       "      <td id=\"T_08153_row4_col4\" class=\"data row4 col4\" >0.022037</td>\n",
       "      <td id=\"T_08153_row4_col5\" class=\"data row4 col5\" >0.000978</td>\n",
       "      <td id=\"T_08153_row4_col6\" class=\"data row4 col6\" >0.008112</td>\n",
       "      <td id=\"T_08153_row4_col7\" class=\"data row4 col7\" >0.012782</td>\n",
       "    </tr>\n",
       "    <tr>\n",
       "      <th id=\"T_08153_level0_row5\" class=\"row_heading level0 row5\" >5</th>\n",
       "      <td id=\"T_08153_row5_col0\" class=\"data row5 col0\" >0.000088</td>\n",
       "      <td id=\"T_08153_row5_col1\" class=\"data row5 col1\" >0.000392</td>\n",
       "      <td id=\"T_08153_row5_col2\" class=\"data row5 col2\" >0.000097</td>\n",
       "      <td id=\"T_08153_row5_col3\" class=\"data row5 col3\" >0.000612</td>\n",
       "      <td id=\"T_08153_row5_col4\" class=\"data row5 col4\" >0.000978</td>\n",
       "      <td id=\"T_08153_row5_col5\" class=\"data row5 col5\" >0.000473</td>\n",
       "      <td id=\"T_08153_row5_col6\" class=\"data row5 col6\" >0.003446</td>\n",
       "      <td id=\"T_08153_row5_col7\" class=\"data row5 col7\" >0.005830</td>\n",
       "    </tr>\n",
       "    <tr>\n",
       "      <th id=\"T_08153_level0_row6\" class=\"row_heading level0 row6\" >6</th>\n",
       "      <td id=\"T_08153_row6_col0\" class=\"data row6 col0\" >0.000565</td>\n",
       "      <td id=\"T_08153_row6_col1\" class=\"data row6 col1\" >0.006202</td>\n",
       "      <td id=\"T_08153_row6_col2\" class=\"data row6 col2\" >0.011229</td>\n",
       "      <td id=\"T_08153_row6_col3\" class=\"data row6 col3\" >0.004714</td>\n",
       "      <td id=\"T_08153_row6_col4\" class=\"data row6 col4\" >0.008112</td>\n",
       "      <td id=\"T_08153_row6_col5\" class=\"data row6 col5\" >0.003446</td>\n",
       "      <td id=\"T_08153_row6_col6\" class=\"data row6 col6\" >0.031871</td>\n",
       "      <td id=\"T_08153_row6_col7\" class=\"data row6 col7\" >0.061918</td>\n",
       "    </tr>\n",
       "    <tr>\n",
       "      <th id=\"T_08153_level0_row7\" class=\"row_heading level0 row7\" >7</th>\n",
       "      <td id=\"T_08153_row7_col0\" class=\"data row7 col0\" >0.000760</td>\n",
       "      <td id=\"T_08153_row7_col1\" class=\"data row7 col1\" >0.014710</td>\n",
       "      <td id=\"T_08153_row7_col2\" class=\"data row7 col2\" >0.042544</td>\n",
       "      <td id=\"T_08153_row7_col3\" class=\"data row7 col3\" >0.006588</td>\n",
       "      <td id=\"T_08153_row7_col4\" class=\"data row7 col4\" >0.012782</td>\n",
       "      <td id=\"T_08153_row7_col5\" class=\"data row7 col5\" >0.005830</td>\n",
       "      <td id=\"T_08153_row7_col6\" class=\"data row7 col6\" >0.061918</td>\n",
       "      <td id=\"T_08153_row7_col7\" class=\"data row7 col7\" >0.144128</td>\n",
       "    </tr>\n",
       "  </tbody>\n",
       "</table>\n"
      ],
      "text/plain": [
       "<pandas.io.formats.style.Styler at 0x7fae5c227040>"
      ]
     },
     "execution_count": 8,
     "metadata": {},
     "output_type": "execute_result"
    }
   ],
   "source": [
    "# get covariance matrix\n",
    "pars = []\n",
    "for n in range(0,5):\n",
    "    rng = np.random.mtrand.RandomState(74205+n)\n",
    "    p, _ = alt.ana.sample(N=5000, stride=5, pre_N=1000, preruns=5, rng=rng)\n",
    "    pars += p.tolist()\n",
    "pars = np.array(pars)\n",
    "cov = np.cov(pars.T).tolist()\n",
    "pd.DataFrame(cov).style.background_gradient(cmap='RdBu')"
   ]
  },
  {
   "cell_type": "markdown",
   "metadata": {},
   "source": [
    "## Set up mapping distribution"
   ]
  },
  {
   "cell_type": "code",
   "execution_count": 9,
   "metadata": {},
   "outputs": [],
   "source": [
    "mapping_dist = np.diag(null_yields)\n",
    "# TODO make more realistic mapping distribution"
   ]
  },
  {
   "cell_type": "markdown",
   "metadata": {},
   "source": [
    "## Set up the custom modifier"
   ]
  },
  {
   "cell_type": "code",
   "execution_count": 10,
   "metadata": {},
   "outputs": [
    {
     "data": {
      "text/plain": [
       "{'custom': (publik.pyhf_modifier.custom_modifier.add.<locals>._builder,\n",
       "  publik.pyhf_modifier.custom_modifier.add.<locals>._applier),\n",
       " 'histosys': (pyhf.modifiers.histosys.histosys_builder,\n",
       "  pyhf.modifiers.histosys.histosys_combined),\n",
       " 'lumi': (pyhf.modifiers.lumi.lumi_builder, pyhf.modifiers.lumi.lumi_combined),\n",
       " 'normfactor': (pyhf.modifiers.normfactor.normfactor_builder,\n",
       "  pyhf.modifiers.normfactor.normfactor_combined),\n",
       " 'normsys': (pyhf.modifiers.normsys.normsys_builder,\n",
       "  pyhf.modifiers.normsys.normsys_combined),\n",
       " 'shapefactor': (pyhf.modifiers.shapefactor.shapefactor_builder,\n",
       "  pyhf.modifiers.shapefactor.shapefactor_combined),\n",
       " 'shapesys': (pyhf.modifiers.shapesys.shapesys_builder,\n",
       "  pyhf.modifiers.shapesys.shapesys_combined),\n",
       " 'staterror': (pyhf.modifiers.staterror.staterror_builder,\n",
       "  pyhf.modifiers.staterror.staterror_combined)}"
      ]
     },
     "execution_count": 10,
     "metadata": {},
     "output_type": "execute_result"
    }
   ],
   "source": [
    "# TODO Why do I have to initialize csl and ctl to >0. for the fit to work properly?\n",
    "new_params = {\n",
    "                'cvl'   :{'inits': (6.,), 'bounds': ((0., 10.),), 'paramset_type': 'unconstrained'},\n",
    "                'csl'   :{'inits': (0.5,), 'bounds': ((0., 5.),), 'paramset_type': 'unconstrained'},\n",
    "                'ctl'   :{'inits': (0.5,), 'bounds': ((0., 5.),), 'paramset_type': 'unconstrained'},\n",
    "                'FF'    :{'inits': (fp0, fp1, fp2, f01, f02, fT0, fT1, fT2), \n",
    "                         'bounds': (), \n",
    "                         'cov': cov, \n",
    "                         'paramset_type': 'constrained_by_normal'}\n",
    "            }\n",
    "\n",
    "cmod = modifier.Modifier(new_params, alt.distribution, null.distribution, mapping_dist, binning)\n",
    "cmod.expanded_pyhf"
   ]
  },
  {
   "cell_type": "code",
   "execution_count": 11,
   "metadata": {},
   "outputs": [
    {
     "data": {
      "image/png": "[encoded data removed]",
      "text/plain": [
       "<Figure size 800x550 with 1 Axes>"
      ]
     },
     "metadata": {},
     "output_type": "display_data"
    },
    {
     "name": "stdout",
     "output_type": "stream",
     "text": [
      "weights :  [0.68205075 0.84446179 1.01411677 1.19322938 1.38516801 1.59532707\n",
      " 1.83293338 2.11522554 2.47869363 3.01679801 4.06251709 7.8291499 ]\n"
     ]
    },
    {
     "data": {
      "image/png": "[encoded data removed]",
      "text/plain": [
       "<Figure size 800x550 with 1 Axes>"
      ]
     },
     "metadata": {},
     "output_type": "display_data"
    },
    {
     "name": "stdout",
     "output_type": "stream",
     "text": [
      "weights :  [0.68205075 0.84446179 1.01411677 1.19322938 1.38516801 1.59532707\n",
      " 1.83293338 2.11522554 2.47869363 3.01679801 4.06251709 7.8291499 ]\n"
     ]
    }
   ],
   "source": [
    "cvl = 5.\n",
    "csl = 3.\n",
    "ctl = 2.\n",
    "\n",
    "pars = (cvl, csl, ctl,fp0, fp1, fp2, f01, f02, fT0, fT1, fT2)\n",
    "lims = [0.0, 22.9]\n",
    "plot.dists(cmod, pars, lims)\n",
    "plot.dists(cmod, pars, lims, plot_dists=False, plot_weights=True)"
   ]
  },
  {
   "cell_type": "code",
   "execution_count": 12,
   "metadata": {},
   "outputs": [
    {
     "data": {
      "image/png": "[encoded data removed]",
      "text/plain": [
       "<Figure size 800x550 with 2 Axes>"
      ]
     },
     "metadata": {},
     "output_type": "display_data"
    }
   ],
   "source": [
    "plot.map(cmod)"
   ]
  },
  {
   "cell_type": "code",
   "execution_count": 13,
   "metadata": {},
   "outputs": [],
   "source": [
    "# Predicted yields for cvl = 5., csl = 3., ctl = 2.\n",
    "alt_yields =[4119.58653784, 4836.23269317, 5653.70101686, 6522.19176571,\n",
    "       7249.96934123, 7925.5848826 , 8458.98754928, 8657.61815211,\n",
    "       8511.83392261, 8097.08585075, 6873.77891388, 3695.3587547 ]"
   ]
  },
  {
   "cell_type": "code",
   "execution_count": 14,
   "metadata": {},
   "outputs": [
    {
     "data": {
      "text/plain": [
       "{'channels': [{'name': 'singlechannel',\n",
       "   'samples': [{'name': 'signal',\n",
       "     'data': [6040.0,\n",
       "      5727.0,\n",
       "      5575.0,\n",
       "      5466.0,\n",
       "      5234.0,\n",
       "      4968.0,\n",
       "      4615.0,\n",
       "      4093.0,\n",
       "      3434.0,\n",
       "      2684.0,\n",
       "      1692.0,\n",
       "      472.0],\n",
       "     'modifiers': [{'name': 'mu', 'type': 'normfactor', 'data': None},\n",
       "      {'name': 'theory',\n",
       "       'type': 'custom',\n",
       "       'data': {'expr': 'weight_function',\n",
       "        'ibin': [0, 1, 2, 3, 4, 5, 6, 7, 8, 9, 10, 11]}}]}]}]}"
      ]
     },
     "execution_count": 14,
     "metadata": {},
     "output_type": "execute_result"
    }
   ],
   "source": [
    "spec = {\n",
    "  \"channels\": [\n",
    "    {\n",
    "      \"name\": \"singlechannel\",\n",
    "      \"samples\": [\n",
    "        {\n",
    "          \"name\": \"signal\",\n",
    "          \"data\": null_yields.tolist(),\n",
    "          \"modifiers\": [\n",
    "            {\n",
    "                \"name\": \"mu\",\n",
    "                \"type\": \"normfactor\",\n",
    "                \"data\": None\n",
    "            }\n",
    "          ]\n",
    "        },\n",
    "      ]\n",
    "    }\n",
    "  ]\n",
    "}\n",
    "model = pyhf.Model(spec)\n",
    "\n",
    "custom_mod = {\n",
    "                \"name\": \"theory\",\n",
    "                \"type\": \"custom\",\n",
    "                \"data\":\n",
    "                    {\n",
    "                        \"expr\": \"weight_function\",\n",
    "                        \"ibin\": [i for i in range(len(binning)-1)],\n",
    "                    }\n",
    "              }\n",
    "\n",
    "model = modifier.add_to_model(model, ['singlechannel'], ['signal'], cmod.expanded_pyhf, custom_mod)\n",
    "data = alt_yields + model.config.auxdata\n",
    "model.spec"
   ]
  },
  {
   "cell_type": "code",
   "execution_count": 15,
   "metadata": {},
   "outputs": [
    {
     "data": {
      "text/plain": [
       "{'cvl': {'slice': slice(0, 1, None),\n",
       "  'paramset': <pyhf.parameters.paramsets.unconstrained at 0x7fae5c056410>},\n",
       " 'csl': {'slice': slice(1, 2, None),\n",
       "  'paramset': <pyhf.parameters.paramsets.unconstrained at 0x7fae5c056440>},\n",
       " 'ctl': {'slice': slice(2, 3, None),\n",
       "  'paramset': <pyhf.parameters.paramsets.unconstrained at 0x7fae5c056470>},\n",
       " 'FF_decorrelated[0]': {'slice': slice(3, 4, None),\n",
       "  'paramset': <pyhf.parameters.paramsets.constrained_by_normal at 0x7fae5c0564a0>},\n",
       " 'FF_decorrelated[1]': {'slice': slice(4, 5, None),\n",
       "  'paramset': <pyhf.parameters.paramsets.constrained_by_normal at 0x7fae5c0564d0>},\n",
       " 'FF_decorrelated[2]': {'slice': slice(5, 6, None),\n",
       "  'paramset': <pyhf.parameters.paramsets.constrained_by_normal at 0x7fae5c056500>},\n",
       " 'FF_decorrelated[3]': {'slice': slice(6, 7, None),\n",
       "  'paramset': <pyhf.parameters.paramsets.constrained_by_normal at 0x7fae5c056530>},\n",
       " 'FF_decorrelated[4]': {'slice': slice(7, 8, None),\n",
       "  'paramset': <pyhf.parameters.paramsets.constrained_by_normal at 0x7fae5c056560>},\n",
       " 'FF_decorrelated[5]': {'slice': slice(8, 9, None),\n",
       "  'paramset': <pyhf.parameters.paramsets.constrained_by_normal at 0x7fae5c056590>},\n",
       " 'FF_decorrelated[6]': {'slice': slice(9, 10, None),\n",
       "  'paramset': <pyhf.parameters.paramsets.constrained_by_normal at 0x7fae5c0565c0>},\n",
       " 'FF_decorrelated[7]': {'slice': slice(10, 11, None),\n",
       "  'paramset': <pyhf.parameters.paramsets.constrained_by_normal at 0x7fae5c0565f0>},\n",
       " 'mu': {'slice': slice(11, 12, None),\n",
       "  'paramset': <pyhf.parameters.paramsets.unconstrained at 0x7fae5c056620>}}"
      ]
     },
     "execution_count": 15,
     "metadata": {},
     "output_type": "execute_result"
    }
   ],
   "source": [
    "model.config.par_map"
   ]
  },
  {
   "cell_type": "code",
   "execution_count": 16,
   "metadata": {},
   "outputs": [
    {
     "name": "stdout",
     "output_type": "stream",
     "text": [
      "Expected yields \n",
      " array([4119.58653784, 4836.23269317, 5653.70101686, 6522.19176571,\n",
      "       7249.96934123, 7925.5848826 , 8458.98754928, 8657.61815211,\n",
      "       8511.83392261, 8097.08585075, 6873.77891388, 3695.3587547 ])\n"
     ]
    },
    {
     "data": {
      "text/plain": [
       "<matplotlib.patches.StepPatch at 0x7fae5c0ef520>"
      ]
     },
     "execution_count": 16,
     "metadata": {},
     "output_type": "execute_result"
    },
    {
     "data": {
      "image/png": "[encoded data removed]",
      "text/plain": [
       "<Figure size 800x550 with 1 Axes>"
      ]
     },
     "metadata": {},
     "output_type": "display_data"
    }
   ],
   "source": [
    "init = model.config.suggested_init()\n",
    "init[0] = 5.\n",
    "init[1] = 3.\n",
    "init[2] = 2.\n",
    "expected = model.expected_actualdata(init)\n",
    "\n",
    "print('Expected yields \\n', repr(expected))\n",
    "\n",
    "plt.stairs(null_yields, binning)\n",
    "plt.stairs(expected, binning)"
   ]
  },
  {
   "cell_type": "markdown",
   "metadata": {},
   "source": [
    "## Perform the fit"
   ]
  },
  {
   "cell_type": "code",
   "execution_count": 17,
   "metadata": {},
   "outputs": [
    {
     "name": "stdout",
     "output_type": "stream",
     "text": [
      "{'cvl': 5.000146503305089, 'csl': 2.9999149770132845, 'ctl': 2.000100152058302, 'FF_decorrelated[0]': 0.00024695377364384084, 'FF_decorrelated[1]': -0.00047005734193358964, 'FF_decorrelated[2]': -0.0013223869151699134, 'FF_decorrelated[3]': -0.0006773878535242698, 'FF_decorrelated[4]': -0.0009135793206931001, 'FF_decorrelated[5]': 0.0010636215914640707, 'FF_decorrelated[6]': 2.503117439404086e-05, 'FF_decorrelated[7]': -0.001930424967897627, 'mu': 1.0}\n"
     ]
    },
    {
     "data": {
      "text/plain": [
       "{'cvl': 5.000146503305089,\n",
       " 'csl': 2.9999149770132845,\n",
       " 'ctl': 2.000100152058302,\n",
       " 'FF[0]': 0.33796785657541784,\n",
       " 'FF[1]': -0.884514673387057,\n",
       " 'FF[2]': -0.11074405135183303,\n",
       " 'FF[3]': 0.37412574978612373,\n",
       " 'FF[4]': 0.07859320520780888,\n",
       " 'FF[5]': 0.3268642302728662,\n",
       " 'FF[6]': -0.9625796591527654,\n",
       " 'FF[7]': -0.2781519536406128,\n",
       " 'mu': 1.0}"
      ]
     },
     "execution_count": 17,
     "metadata": {},
     "output_type": "execute_result"
    }
   ],
   "source": [
    "fixed = model.config.suggested_fixed()\n",
    "fixed[-1] = True\n",
    "\n",
    "best_fit = pyhf.infer.mle.fit(data, model, fixed_params=fixed)\n",
    "\n",
    "best_fit_dict = modifier.par_dict(model, best_fit)\n",
    "print(best_fit_dict)\n",
    "best_fit_dict = cmod.rotate_pars(best_fit_dict)\n",
    "best_fit_dict"
   ]
  },
  {
   "cell_type": "code",
   "execution_count": 18,
   "metadata": {},
   "outputs": [],
   "source": [
    "# TODO compute chi square between FF parameters"
   ]
  },
  {
   "cell_type": "code",
   "execution_count": 20,
   "metadata": {},
   "outputs": [
    {
     "data": {
      "text/plain": [
       "[<matplotlib.lines.Line2D at 0x7fae941e1ed0>]"
      ]
     },
     "execution_count": 20,
     "metadata": {},
     "output_type": "execute_result"
    },
    {
     "data": {
      "image/png": "[encoded data removed]",
      "text/plain": [
       "<Figure size 800x550 with 1 Axes>"
      ]
     },
     "metadata": {},
     "output_type": "display_data"
    }
   ],
   "source": [
    "plt.stairs(model.expected_actualdata(model.config.suggested_init()), binning)\n",
    "plt.stairs(model.expected_actualdata(best_fit), binning)\n",
    "bin_cents = (binning[:-1] + binning[1:])/2\n",
    "plt.plot(bin_cents, alt_yields, 'og')"
   ]
  },
  {
   "cell_type": "code",
   "execution_count": null,
   "metadata": {},
   "outputs": [],
   "source": []
  }
 ],
 "metadata": {
  "kernelspec": {
   "display_name": "venv_publik_toys",
   "language": "python",
   "name": "python3"
  },
  "language_info": {
   "codemirror_mode": {
    "name": "ipython",
    "version": 3
   },
   "file_extension": ".py",
   "mimetype": "text/x-python",
   "name": "python",
   "nbconvert_exporter": "python",
   "pygments_lexer": "ipython3",
   "version": "3.8.10"
  }
 },
 "nbformat": 4,
 "nbformat_minor": 2
}
