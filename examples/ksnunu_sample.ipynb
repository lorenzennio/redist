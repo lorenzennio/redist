{
 "cells": [
  {
   "cell_type": "code",
   "execution_count": null,
   "metadata": {},
   "outputs": [],
   "source": [
    "%reload_ext autoreload\n",
    "%autoreload 2\n",
    "\n",
    "import numpy as np\n",
    "import matplotlib.pyplot as plt\n",
    "import matplotlib.lines as mlines\n",
    "from redist import modifier\n",
    "import ksnunu_utils\n",
    "\n",
    "from Bayesian_pyhf import plotting\n",
    "import arviz as az\n",
    "import corner"
   ]
  },
  {
   "cell_type": "code",
   "execution_count": null,
   "metadata": {},
   "outputs": [],
   "source": [
    "null = ksnunu_utils.null_pred()\n",
    "alt = ksnunu_utils.alt_pred()"
   ]
  },
  {
   "cell_type": "code",
   "execution_count": null,
   "metadata": {},
   "outputs": [],
   "source": [
    "model, alt_yields = modifier.load('ksnunu_model.json', alt.distribution, null.distribution, return_data=True)"
   ]
  },
  {
   "cell_type": "markdown",
   "metadata": {},
   "source": [
    "## Load and plot samples"
   ]
  },
  {
   "cell_type": "code",
   "execution_count": null,
   "metadata": {},
   "outputs": [],
   "source": [
    "post_data = az.from_json( 'samples/ksnunu_post_data.json')\n",
    "post_pred = az.from_json( 'samples/ksnunu_post_pred.json')\n",
    "prior_pred = az.from_json('samples/ksnunu_prior_pred.json')"
   ]
  },
  {
   "cell_type": "code",
   "execution_count": null,
   "metadata": {},
   "outputs": [],
   "source": [
    "post_data.posterior"
   ]
  },
  {
   "cell_type": "code",
   "execution_count": null,
   "metadata": {},
   "outputs": [],
   "source": [
    "plotting.prior_posterior_predictives(model=model, data=alt_yields, post_pred=post_pred, prior_pred=prior_pred)\n",
    "plt.show()"
   ]
  },
  {
   "cell_type": "code",
   "execution_count": null,
   "metadata": {},
   "outputs": [],
   "source": [
    "az.plot_trace(prior_pred.prior)"
   ]
  },
  {
   "cell_type": "code",
   "execution_count": null,
   "metadata": {},
   "outputs": [],
   "source": [
    "cvl = r'$C_{VL}$'\n",
    "cvr = r'$C_{VR}$'\n",
    "csl = r'$C_{SL}$'\n",
    "csr = r'$C_{SR}$'\n",
    "ctl = r'$C_{TL}$'\n",
    "labels = [cvl, cvr, csl + ' - ' + csr, ctl]\n",
    "\n",
    "# file = '../results/samples/posterior_corner.pdf'\n",
    "\n",
    "fig = corner.corner(post_data.posterior, \n",
    "                    var_names=['cvl', 'cvr', 'csl', 'ctl'],\n",
    "                    bins=30, \n",
    "                    levels=(0.68, 0.95), \n",
    "                    quantiles=(0.025, 0.975), \n",
    "                    range = [(3, 6), (-1, 3), (-1, 3), (0.8, 1.2)],\n",
    "                    smooth=1.5,\n",
    "                    labels=labels,\n",
    "                    color='#1E88E5',\n",
    "                    plot_datapoints=False\n",
    "                    );\n",
    "\n",
    "handles, labs = fig.axes[0].get_legend_handles_labels()\n",
    "by_label = dict(zip(labs, handles))\n",
    "fig.legend(by_label.values(), by_label.keys())\n",
    "\n",
    "# plt.savefig(file)\n",
    "plt.show()"
   ]
  },
  {
   "cell_type": "markdown",
   "metadata": {},
   "source": [
    "## Compare to simple reweighting"
   ]
  },
  {
   "cell_type": "code",
   "execution_count": null,
   "metadata": {},
   "outputs": [],
   "source": [
    "post_data_1b = az.from_json( 'samples/ksnunu_1b_post_data.json')"
   ]
  },
  {
   "cell_type": "code",
   "execution_count": null,
   "metadata": {},
   "outputs": [],
   "source": [
    "cvl = r'$C_{VL}$'\n",
    "cvr = r'$C_{VR}$'\n",
    "csl = r'$C_{SL}$'\n",
    "csr = r'$C_{SR}$'\n",
    "ctl = r'$C_{TL}$'\n",
    "labels = [cvl, cvr, csl + ' - ' + csr, ctl]\n",
    "\n",
    "# file = '../results/samples/posterior_corner.pdf'\n",
    "\n",
    "fig = corner.corner(post_data_1b.posterior, \n",
    "                    var_names=['cvl', 'cvr', 'csl', 'ctl'],\n",
    "                    bins=30, \n",
    "                    levels=(0.68, 0.95), \n",
    "                    quantiles=(0.025, 0.975), \n",
    "                    range = [(3, 6), (-1, 3), (-1, 3), (0.8, 1.2)],\n",
    "                    smooth=1.5,\n",
    "                    labels=labels,\n",
    "                    color='blue',\n",
    "                    plot_datapoints=False\n",
    "                    );\n",
    "\n",
    "fig = corner.corner(post_data.posterior, \n",
    "                    var_names=['cvl', 'cvr', 'csl', 'ctl'],\n",
    "                    bins=30, \n",
    "                    levels=(0.68, 0.95), \n",
    "                    quantiles=(0.025, 0.975), \n",
    "                    range = [(3, 6), (-1, 3), (-1, 3), (0.8, 1.2)],\n",
    "                    smooth=1.5,\n",
    "                    labels=labels,\n",
    "                    color='red',\n",
    "                    plot_datapoints=False,\n",
    "                    fig=fig\n",
    "                    );\n",
    "\n",
    "\n",
    "fig.legend(\n",
    "        handles=[\n",
    "            mlines.Line2D([], [], color='blue', label='no shape info'),\n",
    "            mlines.Line2D([], [], color='red', label='with shape info'),\n",
    "        ],\n",
    "        fontsize=20, loc=\"upper right\"\n",
    "    )\n",
    "\n",
    "# plt.savefig(file)\n",
    "plt.show()"
   ]
  },
  {
   "cell_type": "code",
   "execution_count": null,
   "metadata": {},
   "outputs": [],
   "source": []
  }
 ],
 "metadata": {
  "kernelspec": {
   "display_name": "Python 3 (ipykernel)",
   "language": "python",
   "name": "python3"
  },
  "language_info": {
   "codemirror_mode": {
    "name": "ipython",
    "version": 3
   },
   "file_extension": ".py",
   "mimetype": "text/x-python",
   "name": "python",
   "nbconvert_exporter": "python",
   "pygments_lexer": "ipython3",
   "version": "3.10.12"
  }
 },
 "nbformat": 4,
 "nbformat_minor": 2
}
