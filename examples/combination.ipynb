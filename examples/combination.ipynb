{
 "cells": [
  {
   "cell_type": "code",
   "execution_count": 1,
   "metadata": {},
   "outputs": [],
   "source": [
    "%reload_ext autoreload\n",
    "%autoreload 2\n",
    "\n",
    "import numpy as np\n",
    "import pandas as pd\n",
    "from copy import deepcopy\n",
    "import pyhf\n",
    "import eos\n",
    "import matplotlib.pyplot as plt\n",
    "from redist import modifier\n",
    "from redist import plot\n",
    "import knunu_utils \n",
    "import ksnunu_utils "
   ]
  },
  {
   "cell_type": "markdown",
   "metadata": {},
   "source": [
    "# Combining $B \\to K \\nu \\nu$ and $B \\to K^* \\nu \\nu$ in terms of the WET"
   ]
  },
  {
   "cell_type": "code",
   "execution_count": 2,
   "metadata": {},
   "outputs": [],
   "source": [
    "files       = ['knunu_model.json', 'ksnunu_model.json']\n",
    "alt_dists   = [knunu_utils.alt_pred().distribution, ksnunu_utils.alt_pred().distribution]\n",
    "null_dists  = [knunu_utils.null_pred().distribution, ksnunu_utils.null_pred().distribution]\n",
    "\n",
    "\n",
    "model, data = modifier.combine(files, alt_dists, null_dists, return_data=True)"
   ]
  },
  {
   "cell_type": "code",
   "execution_count": 5,
   "metadata": {},
   "outputs": [
    {
     "name": "stdout",
     "output_type": "stream",
     "text": [
      "W MnPosDef Matrix forced pos-def by adding to diagonal 0.0584944\n",
      "W MnPosDef non-positive diagonal element in covariance matrix[ 1 ] = -21.2211\n",
      "W MnPosDef Added to diagonal of Error matrix a value 21.7211\n",
      "W DavidonErrorUpdator delgam < 0 : first derivatives increasing along search line\n",
      "W VariableMetricBuilder Matrix not pos.def, gdel = 0.00220831 > 0\n",
      "W MnPosDef non-positive diagonal element in covariance matrix[ 1 ] = -0.0475644\n",
      "W MnPosDef Added to diagonal of Error matrix a value 0.547565\n",
      "W VariableMetricBuilder gdel = -0.900653\n"
     ]
    },
    {
     "data": {
      "text/plain": [
       "{'cvl': array([4.92830499, 0.35692574]),\n",
       " 'cvr': array([0.59095835, 0.36178484]),\n",
       " 'csl': array([0.46266657, 2.58111029]),\n",
       " 'csr': array([0.46267738, 2.58111316]),\n",
       " 'ctl': array([0.52492741, 0.05073522]),\n",
       " 'FFK_decorrelated[0]': array([0.03616621, 0.96508691]),\n",
       " 'FFK_decorrelated[1]': array([0.05112302, 0.94065153]),\n",
       " 'FFK_decorrelated[2]': array([-0.00738125,  0.98139734]),\n",
       " 'FFK_decorrelated[3]': array([0.00889685, 0.9915314 ]),\n",
       " 'FFK_decorrelated[4]': array([0.01449737, 0.98711868]),\n",
       " 'FFK_decorrelated[5]': array([-0.00756161,  0.99263384]),\n",
       " 'FFK_decorrelated[6]': array([7.27745088e-04, 9.93351627e-01]),\n",
       " 'FFK_decorrelated[7]': array([6.60989558e-04, 9.92908400e-01]),\n",
       " 'mu': array([1., 0.]),\n",
       " 'stat': [[1.008651074006022, 0.01748249043929001],\n",
       "  [0.9835609029302717, 0.017045880386776346],\n",
       "  [0.9982961122835804, 0.01893993152776302],\n",
       "  [1.0190565733808048, 0.021883082194486814],\n",
       "  [0.9833810343216567, 0.024344795038228007],\n",
       "  [1.005992250479184, 0.02928363451192556],\n",
       "  [0.9964562662417891, 0.03512637749714642],\n",
       "  [0.9990495125451468, 0.0439766639555117],\n",
       "  [1.0170903710968242, 0.058682653257219],\n",
       "  [0.9823817751446646, 0.09212160681411041],\n",
       "  [0.9973724678159286, 0.012938998598942042],\n",
       "  [1.0057121309938686, 0.014566847731462385],\n",
       "  [0.9969851930746474, 0.017210877375051836],\n",
       "  [1.000501630340275, 0.020914867960035],\n",
       "  [1.0029391241483765, 0.025692286481043936],\n",
       "  [0.9925921151904976, 0.031890530740058654],\n",
       "  [1.0015377729554469, 0.039740511550769964],\n",
       "  [1.0150150826854487, 0.0516342825448442],\n",
       "  [0.9961196830231751, 0.06696105410338177],\n",
       "  [0.9939381810331369, 0.09248115292688791],\n",
       "  [0.9683359254821299, 0.13941452218767547],\n",
       "  [1.0333500627983456, 0.2707218716820458]],\n",
       " 'FFKs_decorrelated[0]': array([0.17545891, 0.83625992]),\n",
       " 'FFKs_decorrelated[1]': array([-9.75490135e-05,  9.45156942e-01]),\n",
       " 'FFKs_decorrelated[2]': array([-0.04928798,  0.94321551]),\n",
       " 'FFKs_decorrelated[3]': array([-0.01964981,  0.98961669]),\n",
       " 'FFKs_decorrelated[4]': array([0.02434165, 0.98943859]),\n",
       " 'FFKs_decorrelated[5]': array([-0.01948543,  0.99060614]),\n",
       " 'FFKs_decorrelated[6]': array([0.02557598, 0.98691904]),\n",
       " 'FFKs_decorrelated[7]': array([0.0044905 , 0.99333176])}"
      ]
     },
     "execution_count": 5,
     "metadata": {},
     "output_type": "execute_result"
    }
   ],
   "source": [
    "fixed = model.config.suggested_fixed()\n",
    "fixed[model.config.par_map['mu']['slice']] = [True]\n",
    "# fixed[model.config.par_map['cvr']['slice']] = [True]\n",
    "# fixed[model.config.par_map['csr']['slice']] = [True]\n",
    "\n",
    "\n",
    "# pyhf.set_backend(\"numpy\", pyhf.optimize.scipy_optimizer())\n",
    "# best_fit = pyhf.infer.mle.fit(data, model, fixed_params=fixed)\n",
    "pyhf.set_backend(\"numpy\", pyhf.optimize.minuit_optimizer(verbose=True, strategy=2))\n",
    "best_fit, twice_nll, OptimizeResult = pyhf.infer.mle.fit(\n",
    "    data,\n",
    "    model,\n",
    "    fixed_params=fixed,\n",
    "    return_uncertainties=True,\n",
    "    return_fitted_val=True,\n",
    "    return_result_obj=True\n",
    "    )\n",
    "\n",
    "best_fit_dict = modifier.par_dict(model, best_fit)\n",
    "best_fit_dict\n"
   ]
  },
  {
   "cell_type": "code",
   "execution_count": 6,
   "metadata": {},
   "outputs": [
    {
     "data": {
      "text/plain": [
       "[<matplotlib.lines.Line2D at 0x1492f1b01390>]"
      ]
     },
     "execution_count": 6,
     "metadata": {},
     "output_type": "execute_result"
    },
    {
     "data": {
      "image/png": "[encoded data removed]",
      "text/plain": [
       "<Figure size 800x550 with 1 Axes>"
      ]
     },
     "metadata": {},
     "output_type": "display_data"
    }
   ],
   "source": [
    "plt.stairs(model.expected_actualdata(model.config.suggested_init()))\n",
    "plt.stairs(model.expected_actualdata(best_fit[:,0]))\n",
    "plt.plot(data[:22], 'og')"
   ]
  },
  {
   "cell_type": "code",
   "execution_count": null,
   "metadata": {},
   "outputs": [],
   "source": []
  }
 ],
 "metadata": {
  "kernelspec": {
   "display_name": "Python 3 (ipykernel)",
   "language": "python",
   "name": "python3"
  }
 },
 "nbformat": 4,
 "nbformat_minor": 2
}
