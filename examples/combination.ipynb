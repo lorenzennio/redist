{
 "cells": [
  {
   "cell_type": "code",
   "execution_count": 1,
   "metadata": {},
   "outputs": [],
   "source": [
    "%reload_ext autoreload\n",
    "%autoreload 2\n",
    "\n",
    "import numpy as np\n",
    "import pandas as pd\n",
    "from copy import deepcopy\n",
    "import pyhf\n",
    "import eos\n",
    "import matplotlib.pyplot as plt\n",
    "from redist import modifier\n",
    "from redist import plot\n",
    "import knunu_utils \n",
    "import ksnunu_utils "
   ]
  },
  {
   "cell_type": "markdown",
   "metadata": {},
   "source": [
    "# Combining $B \\to K \\nu \\nu$ and $B \\to K^* \\nu \\nu$ in terms of the WET"
   ]
  },
  {
   "cell_type": "code",
   "execution_count": 2,
   "metadata": {},
   "outputs": [],
   "source": [
    "files       = ['knunu_model.json', 'ksnunu_model.json']\n",
    "alt_dists   = [knunu_utils.alt_pred().distribution, ksnunu_utils.alt_pred().distribution]\n",
    "null_dists  = [knunu_utils.null_pred().distribution, ksnunu_utils.null_pred().distribution]\n",
    "\n",
    "\n",
    "model, data = modifier.combine(files, alt_dists, null_dists, return_data=True)"
   ]
  },
  {
   "cell_type": "code",
   "execution_count": 3,
   "metadata": {},
   "outputs": [
    {
     "name": "stdout",
     "output_type": "stream",
     "text": [
      "W MnPosDef Matrix forced pos-def by adding to diagonal 0.307808\n",
      "W MnPosDef non-positive diagonal element in covariance matrix[ 1 ] = -27.3388\n",
      "W MnPosDef non-positive diagonal element in covariance matrix[ 3 ] = -30.644\n",
      "W MnPosDef Added to diagonal of Error matrix a value 31.144\n",
      "W DavidonErrorUpdator delgam < 0 : first derivatives increasing along search line\n",
      "W VariableMetricBuilder Matrix not pos.def, gdel = 0.0140523 > 0\n",
      "W MnPosDef non-positive diagonal element in covariance matrix[ 3 ] = -0.0366536\n",
      "W MnPosDef Added to diagonal of Error matrix a value 0.536655\n",
      "W VariableMetricBuilder gdel = -478.749\n",
      "W MnPosDef Matrix forced pos-def by adding to diagonal 0.0105946\n"
     ]
    },
    {
     "data": {
      "text/plain": [
       "{'cvl': array([4.85437466, 0.07200405]),\n",
       " 'cvr': array([0.70432088, 0.07439713]),\n",
       " 'csl': array([0.5411467 , 0.14233008]),\n",
       " 'csr': array([1.35596163, 0.14299391]),\n",
       " 'ctl': array([1.01826808, 0.00572575]),\n",
       " 'FFK_decorrelated[0]': array([0.23453428, 0.83879134]),\n",
       " 'FFK_decorrelated[1]': array([0.36216866, 0.71449162]),\n",
       " 'FFK_decorrelated[2]': array([-0.06655465,  0.55615036]),\n",
       " 'FFK_decorrelated[3]': array([0.0220126 , 0.97721131]),\n",
       " 'FFK_decorrelated[4]': array([0.11768287, 0.90890967]),\n",
       " 'FFK_decorrelated[5]': array([-0.07444227,  0.7505644 ]),\n",
       " 'FFK_decorrelated[6]': array([0.02552801, 0.97249097]),\n",
       " 'FFK_decorrelated[7]': array([0.04276539, 0.92770915]),\n",
       " 'mu': array([1., 0.]),\n",
       " 'stat': [[1.0029355796225548, 0.004964526160047611],\n",
       "  [0.9952728028045432, 0.004642646905132608],\n",
       "  [0.9976909298411188, 0.005149804816325709],\n",
       "  [1.0023590934793507, 0.005968429869597225],\n",
       "  [1.00301169856777, 0.006932487988359215],\n",
       "  [1.0024329912661012, 0.008190013992276146],\n",
       "  [0.9970782565050952, 0.009801418032292564],\n",
       "  [1.0005590286112878, 0.012405820980199933],\n",
       "  [0.9907798241487623, 0.01703175522867928],\n",
       "  [1.0170425134288321, 0.026672875064242874],\n",
       "  [0.9986302060809376, 0.004162647633689787],\n",
       "  [1.0037740289607857, 0.004548225163664876],\n",
       "  [0.9962094357990448, 0.00534382971917835],\n",
       "  [0.9987956398592462, 0.006462817976174207],\n",
       "  [1.0049166213265954, 0.007899443281793372],\n",
       "  [0.9987636556730306, 0.009597947815504437],\n",
       "  [1.002632183755278, 0.011853995661757932],\n",
       "  [1.0016604353614404, 0.014917913326225551],\n",
       "  [1.0055023057935457, 0.019255445863364418],\n",
       "  [0.9966559728572163, 0.026058259232529246],\n",
       "  [0.9477427910218785, 0.03800372081437309],\n",
       "  [1.034680013194406, 0.06784333072878185]],\n",
       " 'FFKs_decorrelated[0]': array([0.10751761, 0.72959504]),\n",
       " 'FFKs_decorrelated[1]': array([0.11146681, 0.86934335]),\n",
       " 'FFKs_decorrelated[2]': array([-0.09764231,  0.86516573]),\n",
       " 'FFKs_decorrelated[3]': array([-0.16686212,  0.72929385]),\n",
       " 'FFKs_decorrelated[4]': array([0.04473999, 0.9305796 ]),\n",
       " 'FFKs_decorrelated[5]': array([-0.0313067 ,  0.87479417]),\n",
       " 'FFKs_decorrelated[6]': array([0.00108949, 0.98547954]),\n",
       " 'FFKs_decorrelated[7]': array([0.11223088, 0.71548255]),\n",
       " 'FFKs_decorrelated[8]': array([0.02602641, 0.87512386]),\n",
       " 'FFKs_decorrelated[9]': array([-0.02448639,  0.98237549]),\n",
       " 'FFKs_decorrelated[10]': array([-0.01130988,  0.90592492]),\n",
       " 'FFKs_decorrelated[11]': array([0.03305324, 0.96667097]),\n",
       " 'FFKs_decorrelated[12]': array([0.0483463 , 0.92878994]),\n",
       " 'FFKs_decorrelated[13]': array([-0.01475334,  0.98635753])}"
      ]
     },
     "execution_count": 3,
     "metadata": {},
     "output_type": "execute_result"
    }
   ],
   "source": [
    "fixed = model.config.suggested_fixed()\n",
    "fixed[model.config.par_map['mu']['slice']] = [True]\n",
    "\n",
    "# pyhf.set_backend(\"numpy\", pyhf.optimize.scipy_optimizer())\n",
    "# best_fit = pyhf.infer.mle.fit(data, model, fixed_params=fixed)\n",
    "pyhf.set_backend(\"numpy\", pyhf.optimize.minuit_optimizer(verbose=True, strategy=2))\n",
    "best_fit, twice_nll, OptimizeResult = pyhf.infer.mle.fit(\n",
    "    data,\n",
    "    model,\n",
    "    fixed_params=fixed,\n",
    "    return_uncertainties=True,\n",
    "    return_fitted_val=True,\n",
    "    return_result_obj=True\n",
    "    )\n",
    "\n",
    "best_fit_dict = modifier.par_dict(model, best_fit)\n",
    "best_fit_dict\n"
   ]
  },
  {
   "cell_type": "code",
   "execution_count": 4,
   "metadata": {},
   "outputs": [
    {
     "data": {
      "text/plain": [
       "[<matplotlib.lines.Line2D at 0x7f41ac180d00>]"
      ]
     },
     "execution_count": 4,
     "metadata": {},
     "output_type": "execute_result"
    },
    {
     "data": {
      "image/png": "[encoded data removed]",
      "text/plain": [
       "<Figure size 800x550 with 1 Axes>"
      ]
     },
     "metadata": {},
     "output_type": "display_data"
    }
   ],
   "source": [
    "plt.stairs(model.expected_actualdata(model.config.suggested_init()))\n",
    "plt.stairs(model.expected_actualdata(best_fit[:,0]))\n",
    "x = np.linspace(0.5, 21.5, 22)\n",
    "plt.plot(x, data[:22], 'og')"
   ]
  },
  {
   "cell_type": "code",
   "execution_count": null,
   "metadata": {},
   "outputs": [],
   "source": []
  }
 ],
 "metadata": {
  "kernelspec": {
   "display_name": "Python 3 (ipykernel)",
   "language": "python",
   "name": "python3"
  },
  "language_info": {
   "codemirror_mode": {
    "name": "ipython",
    "version": 3
   },
   "file_extension": ".py",
   "mimetype": "text/x-python",
   "name": "python",
   "nbconvert_exporter": "python",
   "pygments_lexer": "ipython3",
   "version": "3.10.12"
  }
 },
 "nbformat": 4,
 "nbformat_minor": 2
}
