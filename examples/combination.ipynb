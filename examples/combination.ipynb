{
 "cells": [
  {
   "cell_type": "code",
   "execution_count": 67,
   "metadata": {},
   "outputs": [],
   "source": [
    "%reload_ext autoreload\n",
    "%autoreload 2\n",
    "\n",
    "import numpy as np\n",
    "import pandas as pd\n",
    "from copy import deepcopy\n",
    "import pyhf\n",
    "import eos\n",
    "import matplotlib.pyplot as plt\n",
    "from redist import modifier\n",
    "from redist import plot\n",
    "import knunu_utils \n",
    "import ksnunu_utils "
   ]
  },
  {
   "cell_type": "markdown",
   "metadata": {},
   "source": [
    "# Combining $B \\to K \\nu \\nu$ and $B \\to K^* \\nu \\nu$ in terms of the WET"
   ]
  },
  {
   "cell_type": "code",
   "execution_count": 68,
   "metadata": {},
   "outputs": [],
   "source": [
    "files       = ['knunu_model.json', 'ksnunu_model.json']\n",
    "alt_dists   = [knunu_utils.alt_pred().distribution, ksnunu_utils.alt_pred().distribution]\n",
    "null_dists  = [knunu_utils.null_pred().distribution, ksnunu_utils.null_pred().distribution]\n",
    "\n",
    "\n",
    "model, data = modifier.combine(files, alt_dists, null_dists, return_data=True)"
   ]
  },
  {
   "cell_type": "code",
   "execution_count": 71,
   "metadata": {},
   "outputs": [
    {
     "name": "stdout",
     "output_type": "stream",
     "text": [
      "W MnPosDef Matrix forced pos-def by adding to diagonal 0.00491165\n",
      "W MnPosDef Matrix forced pos-def by adding to diagonal 0.00491218\n",
      "W MnPosDef Matrix forced pos-def by adding to diagonal 0.00497816\n"
     ]
    },
    {
     "data": {
      "text/plain": [
       "{'cvl': array([5.00277384, 0.02282009]),\n",
       " 'cvr': array([0.95662381, 0.04846647]),\n",
       " 'csl': array([1.01390824, 0.12757968]),\n",
       " 'csr': array([1.01404079, 0.1319954 ]),\n",
       " 'ctl': array([0.99660497, 0.00492732]),\n",
       " 'FFK_decorrelated[0]': array([-0.12032181,  0.80143516]),\n",
       " 'FFK_decorrelated[1]': array([-0.09228683,  0.63821456]),\n",
       " 'FFK_decorrelated[2]': array([0.11328962, 0.47697114]),\n",
       " 'FFK_decorrelated[3]': array([0., 0.]),\n",
       " 'FFK_decorrelated[4]': array([0., 0.]),\n",
       " 'FFK_decorrelated[5]': array([0., 0.]),\n",
       " 'FFK_decorrelated[6]': array([0., 0.]),\n",
       " 'FFK_decorrelated[7]': array([0., 0.]),\n",
       " 'mu': array([1., 0.]),\n",
       " 'stat': [[0.9986583930975028, 0.0023507925847049416],\n",
       "  [1.0015471304727501, 0.001994760200042467],\n",
       "  [1.0007490994592414, 0.0018456126073575496],\n",
       "  [0.9989076653636698, 0.0018065101217148993],\n",
       "  [1.0006705360382047, 0.0017939251700113679],\n",
       "  [0.9989872998078422, 0.001793139094292684],\n",
       "  [1.0000171534844633, 0.001821092590682527],\n",
       "  [1.0003473472348985, 0.0019397357166753282],\n",
       "  [1.000614900696658, 0.0023380563462724324],\n",
       "  [0.999137090027961, 0.0034218669019299153],\n",
       "  [0.9996932831743246, 0.002603332349812748],\n",
       "  [1.0016486939050173, 0.002993654055981232],\n",
       "  [0.9973125058887815, 0.003990646207167603],\n",
       "  [1.0016069978613227, 0.005363447279584266],\n",
       "  [0.9999410304421407, 0.007327344768015331],\n",
       "  [0.9976153064201106, 0.010588038385930587],\n",
       "  [0.9999477051893314, 0.016896255357455592],\n",
       "  [1.0145634235215026, 0.03253994590185061]],\n",
       " 'FFKs_decorrelated[0]': array([0.08437758, 0.94941876]),\n",
       " 'FFKs_decorrelated[1]': array([0.00774156, 0.10508402]),\n",
       " 'FFKs_decorrelated[2]': array([-0.00244577,  0.11323522]),\n",
       " 'FFKs_decorrelated[3]': array([0., 0.]),\n",
       " 'FFKs_decorrelated[4]': array([0., 0.]),\n",
       " 'FFKs_decorrelated[5]': array([0., 0.]),\n",
       " 'FFKs_decorrelated[6]': array([0., 0.]),\n",
       " 'FFKs_decorrelated[7]': array([0., 0.]),\n",
       " 'FFKs_decorrelated[8]': array([0., 0.]),\n",
       " 'FFKs_decorrelated[9]': array([0., 0.]),\n",
       " 'FFKs_decorrelated[10]': array([0., 0.]),\n",
       " 'FFKs_decorrelated[11]': array([0., 0.]),\n",
       " 'FFKs_decorrelated[12]': array([0., 0.]),\n",
       " 'FFKs_decorrelated[13]': array([0., 0.]),\n",
       " 'FFKs_decorrelated[14]': array([0., 0.]),\n",
       " 'FFKs_decorrelated[15]': array([0., 0.]),\n",
       " 'FFKs_decorrelated[16]': array([0., 0.]),\n",
       " 'FFKs_decorrelated[17]': array([0., 0.]),\n",
       " 'FFKs_decorrelated[18]': array([0., 0.])}"
      ]
     },
     "execution_count": 71,
     "metadata": {},
     "output_type": "execute_result"
    }
   ],
   "source": [
    "fixed = model.config.suggested_fixed()\n",
    "fixed[model.config.par_map['mu']['slice']] = [True]\n",
    "\n",
    "for i in range(3, 19):\n",
    "    fixed[model.config.par_map[f'FFKs_decorrelated[{i}]']['slice']] = [True]\n",
    "\n",
    "for i in range(3, 8):\n",
    "    fixed[model.config.par_map[f'FFK_decorrelated[{i}]']['slice']] = [True]\n",
    "\n",
    "pyhf.set_backend(\"numpy\", pyhf.optimize.scipy_optimizer())\n",
    "best_fit = pyhf.infer.mle.fit(data, model, fixed_params=fixed)\n",
    "pyhf.set_backend(\"numpy\", pyhf.optimize.minuit_optimizer(verbose=True, strategy=2))\n",
    "best_fit, twice_nll, OptimizeResult = pyhf.infer.mle.fit(\n",
    "    data,\n",
    "    model,\n",
    "    init_pars=best_fit.tolist(),\n",
    "    fixed_params=fixed,\n",
    "    return_uncertainties=True,\n",
    "    return_fitted_val=True,\n",
    "    return_result_obj=True\n",
    "    )\n",
    "\n",
    "best_fit_dict = modifier.par_dict(model, best_fit)\n",
    "best_fit_dict\n"
   ]
  },
  {
   "cell_type": "code",
   "execution_count": 72,
   "metadata": {},
   "outputs": [
    {
     "data": {
      "text/plain": [
       "[<matplotlib.lines.Line2D at 0x14c785e84e50>]"
      ]
     },
     "execution_count": 72,
     "metadata": {},
     "output_type": "execute_result"
    },
    {
     "data": {
      "image/png": "[encoded data removed]",
      "text/plain": [
       "<Figure size 800x550 with 1 Axes>"
      ]
     },
     "metadata": {},
     "output_type": "display_data"
    }
   ],
   "source": [
    "plt.stairs(model.expected_actualdata(model.config.suggested_init()))\n",
    "plt.stairs(model.expected_actualdata(best_fit[:,0]))\n",
    "x = np.linspace(0.5, 21.5, 22)\n",
    "plt.plot(x, data[:22], 'og')"
   ]
  },
  {
   "cell_type": "code",
   "execution_count": null,
   "metadata": {},
   "outputs": [],
   "source": []
  }
 ],
 "metadata": {
  "kernelspec": {
   "display_name": "Python 3 (ipykernel)",
   "language": "python",
   "name": "python3"
  },
  "language_info": {
   "codemirror_mode": {
    "name": "ipython",
    "version": 3
   },
   "file_extension": ".py",
   "mimetype": "text/x-python",
   "name": "python",
   "nbconvert_exporter": "python",
   "pygments_lexer": "ipython3",
   "version": "3.10.12"
  }
 },
 "nbformat": 4,
 "nbformat_minor": 2
}
