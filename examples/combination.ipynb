{
 "cells": [
  {
   "cell_type": "code",
   "execution_count": 19,
   "metadata": {},
   "outputs": [],
   "source": [
    "%reload_ext autoreload\n",
    "%autoreload 2\n",
    "\n",
    "import numpy as np\n",
    "import pandas as pd\n",
    "from copy import deepcopy\n",
    "import pyhf\n",
    "import eos\n",
    "import matplotlib.pyplot as plt\n",
    "from redist import modifier\n",
    "from redist import plot\n",
    "import knunu_utils \n",
    "import ksnunu_utils "
   ]
  },
  {
   "cell_type": "markdown",
   "metadata": {},
   "source": [
    "# Combining $B \\to K \\nu \\nu$ and $B \\to K^* \\nu \\nu$ in terms of the WET"
   ]
  },
  {
   "cell_type": "code",
   "execution_count": 20,
   "metadata": {},
   "outputs": [],
   "source": [
    "files       = ['knunu_model.json', 'ksnunu_model.json']\n",
    "alt_dists   = [knunu_utils.alt_pred().distribution, ksnunu_utils.alt_pred().distribution]\n",
    "null_dists  = [knunu_utils.null_pred().distribution, ksnunu_utils.null_pred().distribution]\n",
    "\n",
    "\n",
    "model, data = modifier.combine(files, alt_dists, null_dists, return_data=True)"
   ]
  },
  {
   "cell_type": "code",
   "execution_count": 21,
   "metadata": {},
   "outputs": [
    {
     "name": "stdout",
     "output_type": "stream",
     "text": [
      "W MnPosDef Matrix forced pos-def by adding to diagonal 1.72208\n",
      "W DavidonErrorUpdator delgam < 0 : first derivatives increasing along search line\n",
      "W VariableMetricBuilder Matrix not pos.def, gdel = 38647.8 > 0\n",
      "W MnPosDef non-positive diagonal element in covariance matrix[ 36 ] = -0.00103491\n",
      "W MnPosDef Added to diagonal of Error matrix a value 0.501036\n",
      "W VariableMetricBuilder gdel = -3.15815e+10\n",
      "W VariableMetricBuilder No improvement in line search\n",
      "W VariableMetricBuilder Iterations finish without convergence; Edm 5.84225e+06 Requested 0.0002\n",
      "W MnPosDef non-positive diagonal element in covariance matrix[ 35 ] = -8546.06\n",
      "W MnPosDef non-positive diagonal element in covariance matrix[ 37 ] = -2882.82\n",
      "W MnPosDef non-positive diagonal element in covariance matrix[ 40 ] = -1352.97\n",
      "W MnPosDef Added to diagonal of Error matrix a value 8546.56\n",
      "W MnPosDef Matrix forced pos-def by adding to diagonal 86.2344\n",
      "W MnPosDef non-positive diagonal element in covariance matrix[ 1 ] = -17.5088\n",
      "W MnPosDef non-positive diagonal element in covariance matrix[ 3 ] = -52.1039\n",
      "W MnPosDef Added to diagonal of Error matrix a value 52.6039\n",
      "W MnPosDef Matrix forced pos-def by adding to diagonal 0.714931\n",
      "W DavidonErrorUpdator delgam < 0 : first derivatives increasing along search line\n",
      "W VariableMetricBuilder Matrix not pos.def., try to make pos.def.\n",
      "W MnPosDef non-positive diagonal element in covariance matrix[ 3 ] = -0.00281392\n",
      "W MnPosDef Added to diagonal of Error matrix a value 0.502815\n",
      "W MnPosDef Matrix forced pos-def by adding to diagonal 0.00959978\n"
     ]
    },
    {
     "data": {
      "text/plain": [
       "{'cvl': array([5.07876952, 0.07330957]),\n",
       " 'cvr': array([0.48223221, 0.07532145]),\n",
       " 'csl': array([0.8690364, 0.1548035]),\n",
       " 'csr': array([1.03661555, 0.15528714]),\n",
       " 'ctl': array([1.0052339 , 0.00598246]),\n",
       " 'FFK_decorrelated[0]': array([0.23272837, 0.84482465]),\n",
       " 'FFK_decorrelated[1]': array([0.30461774, 0.71955123]),\n",
       " 'FFK_decorrelated[2]': array([-0.08116293,  0.5679216 ]),\n",
       " 'FFK_decorrelated[3]': array([0.02708115, 0.97846348]),\n",
       " 'FFK_decorrelated[4]': array([0.10233505, 0.91280606]),\n",
       " 'FFK_decorrelated[5]': array([-0.07087679,  0.7622222 ]),\n",
       " 'FFK_decorrelated[6]': array([0.02072115, 0.97422845]),\n",
       " 'FFK_decorrelated[7]': array([0.03791591, 0.93153645]),\n",
       " 'mu': array([1., 0.]),\n",
       " 'stat': [[1.0046647920514207, 0.0049930728751587106],\n",
       "  [0.9922497556996117, 0.0045729420073709615],\n",
       "  [0.998280034895996, 0.005090273888984809],\n",
       "  [1.0029009126359623, 0.005922935348197489],\n",
       "  [1.0026777303562613, 0.00685166177453056],\n",
       "  [0.9998844497010129, 0.008114748876896782],\n",
       "  [1.0065166481300016, 0.009754567027919547],\n",
       "  [0.991273839378199, 0.011889870221539423],\n",
       "  [0.9955955793600724, 0.01594005865565351],\n",
       "  [1.0133480035746028, 0.026025885486895994],\n",
       "  [0.9997446590125855, 0.004165705518913487],\n",
       "  [1.0000905702395793, 0.004552563667850729],\n",
       "  [1.0009381999914857, 0.005360304141036776],\n",
       "  [0.9955596216868265, 0.006447245476181029],\n",
       "  [1.0058062152270861, 0.007900904394277208],\n",
       "  [0.9961284660149805, 0.009593292552609212],\n",
       "  [1.0066438832725348, 0.01191743149957819],\n",
       "  [1.0059250197355183, 0.014938790378924482],\n",
       "  [0.9990809453656743, 0.01918238848616116],\n",
       "  [0.9945642877370039, 0.026047480540988932],\n",
       "  [0.9518433621963932, 0.03828242478861876],\n",
       "  [1.035927662102226, 0.06762229032669154]],\n",
       " 'FFKs_decorrelated[0]': array([0.30479139, 0.53901603]),\n",
       " 'FFKs_decorrelated[1]': array([-0.02370875,  0.78274629]),\n",
       " 'FFKs_decorrelated[2]': array([0.01905424, 0.85129693]),\n",
       " 'FFKs_decorrelated[3]': array([-0.08407777,  0.89221092]),\n",
       " 'FFKs_decorrelated[4]': array([0.05147613, 0.86956538]),\n",
       " 'FFKs_decorrelated[5]': array([-0.01963485,  0.96821331]),\n",
       " 'FFKs_decorrelated[6]': array([0.02132585, 0.94517387]),\n",
       " 'FFKs_decorrelated[7]': array([0.01842546, 0.96071693])}"
      ]
     },
     "execution_count": 21,
     "metadata": {},
     "output_type": "execute_result"
    }
   ],
   "source": [
    "fixed = model.config.suggested_fixed()\n",
    "fixed[model.config.par_map['mu']['slice']] = [True]\n",
    "\n",
    "# pyhf.set_backend(\"numpy\", pyhf.optimize.scipy_optimizer())\n",
    "# best_fit = pyhf.infer.mle.fit(data, model, fixed_params=fixed)\n",
    "pyhf.set_backend(\"numpy\", pyhf.optimize.minuit_optimizer(verbose=True, strategy=2))\n",
    "best_fit, twice_nll, OptimizeResult = pyhf.infer.mle.fit(\n",
    "    data,\n",
    "    model,\n",
    "    fixed_params=fixed,\n",
    "    return_uncertainties=True,\n",
    "    return_fitted_val=True,\n",
    "    return_result_obj=True\n",
    "    )\n",
    "\n",
    "best_fit_dict = modifier.par_dict(model, best_fit)\n",
    "best_fit_dict\n"
   ]
  },
  {
   "cell_type": "code",
   "execution_count": 22,
   "metadata": {},
   "outputs": [
    {
     "data": {
      "text/plain": [
       "[<matplotlib.lines.Line2D at 0x149d56e28460>]"
      ]
     },
     "execution_count": 22,
     "metadata": {},
     "output_type": "execute_result"
    },
    {
     "data": {
      "image/png": "[encoded data removed]",
      "text/plain": [
       "<Figure size 800x550 with 1 Axes>"
      ]
     },
     "metadata": {},
     "output_type": "display_data"
    }
   ],
   "source": [
    "plt.stairs(model.expected_actualdata(model.config.suggested_init()))\n",
    "plt.stairs(model.expected_actualdata(best_fit[:,0]))\n",
    "x = np.linspace(0.5, 21.5, 22)\n",
    "plt.plot(x, data[:22], 'og')"
   ]
  },
  {
   "cell_type": "code",
   "execution_count": null,
   "metadata": {},
   "outputs": [],
   "source": []
  }
 ],
 "metadata": {
  "kernelspec": {
   "display_name": "Python 3 (ipykernel)",
   "language": "python",
   "name": "python3"
  },
  "language_info": {
   "codemirror_mode": {
    "name": "ipython",
    "version": 3
   },
   "file_extension": ".py",
   "mimetype": "text/x-python",
   "name": "python",
   "nbconvert_exporter": "python",
   "pygments_lexer": "ipython3",
   "version": "3.10.12"
  }
 },
 "nbformat": 4,
 "nbformat_minor": 2
}
