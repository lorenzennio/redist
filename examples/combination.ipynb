{
 "cells": [
  {
   "cell_type": "code",
   "execution_count": 1,
   "metadata": {},
   "outputs": [],
   "source": [
    "%reload_ext autoreload\n",
    "%autoreload 2\n",
    "\n",
    "import numpy as np\n",
    "import pandas as pd\n",
    "from copy import deepcopy\n",
    "import pyhf\n",
    "import eos\n",
    "import matplotlib.pyplot as plt\n",
    "from redist import modifier\n",
    "from redist import plot\n",
    "import knunu_utils \n",
    "import ksnunu_utils "
   ]
  },
  {
   "cell_type": "markdown",
   "metadata": {},
   "source": [
    "# Combining $B \\to K \\nu \\nu$ and $B \\to K^* \\nu \\nu$ in terms of the WET"
   ]
  },
  {
   "cell_type": "code",
   "execution_count": 2,
   "metadata": {},
   "outputs": [],
   "source": [
    "files       = ['knunu_model.json', 'ksnunu_model.json']\n",
    "alt_dists   = [knunu_utils.alt_pred().distribution, ksnunu_utils.alt_pred().distribution]\n",
    "null_dists  = [knunu_utils.null_pred().distribution, ksnunu_utils.null_pred().distribution]\n",
    "\n",
    "\n",
    "model, data = modifier.combine(files, alt_dists, null_dists, return_data=True)"
   ]
  },
  {
   "cell_type": "code",
   "execution_count": 3,
   "metadata": {},
   "outputs": [
    {
     "name": "stderr",
     "output_type": "stream",
     "text": [
      "/home/lorenz/venv_redist/lib/python3.10/site-packages/scipy/optimize/_optimize.py:404: RuntimeWarning: Values in x were outside bounds during a minimize step, clipping to bounds\n",
      "  warnings.warn(\"Values in x were outside bounds during a \"\n"
     ]
    },
    {
     "name": "stdout",
     "output_type": "stream",
     "text": [
      "W MnPosDef Matrix forced pos-def by adding to diagonal 0.162072\n"
     ]
    },
    {
     "data": {
      "text/plain": [
       "{'cvl': array([4.85443689, 0.42845851]),\n",
       " 'cvr': array([1.18072257, 0.3826954 ]),\n",
       " 'csl': array([0.96059275, 0.89268155]),\n",
       " 'csr': array([0.96041443, 0.8844495 ]),\n",
       " 'ctl': array([1.01753435, 0.02642752]),\n",
       " 'FFK_decorrelated[0]': array([0.41606566, 0.9530486 ]),\n",
       " 'FFK_decorrelated[1]': array([0.97354713, 0.78417367]),\n",
       " 'FFK_decorrelated[2]': array([0.09538137, 1.02828097]),\n",
       " 'FFK_decorrelated[3]': array([-0.00528055,  0.99410392]),\n",
       " 'FFK_decorrelated[4]': array([0.25986385, 0.98009495]),\n",
       " 'FFK_decorrelated[5]': array([-0.14372452,  0.99881788]),\n",
       " 'FFK_decorrelated[6]': array([0.06036543, 0.99439919]),\n",
       " 'FFK_decorrelated[7]': array([0.0753746 , 0.99229983]),\n",
       " 'mu': array([1., 0.]),\n",
       " 'stat': [[1.0084257349922492, 0.004989737463059196],\n",
       "  [0.9923989509995025, 0.0038410845115838255],\n",
       "  [0.9960899210946468, 0.0034939321739987372],\n",
       "  [0.9982273673360574, 0.003444265291878079],\n",
       "  [1.0046974868640153, 0.003379339634812739],\n",
       "  [1.0018696315547495, 0.003374879443452883],\n",
       "  [1.001713710807039, 0.0035558798817577064],\n",
       "  [0.9991861135033887, 0.003856314687551654],\n",
       "  [0.9911105638272042, 0.004554536096279371],\n",
       "  [1.0115965622485692, 0.006998484811696737],\n",
       "  [0.9979088412368244, 0.004168505790357324],\n",
       "  [1.0005162562736762, 0.004472116381906532],\n",
       "  [1.0026675646493082, 0.005292098161640335],\n",
       "  [1.0046724523824906, 0.006390822672362739],\n",
       "  [1.0001840948804, 0.007789262131773167],\n",
       "  [0.9957935211634693, 0.009483879618823854],\n",
       "  [1.0021117723706474, 0.011733482888605984],\n",
       "  [0.9968820611262655, 0.014714165000895507],\n",
       "  [1.0046351008523493, 0.01923164923239601],\n",
       "  [0.9873494118985753, 0.026290011800048696],\n",
       "  [0.9448875050374657, 0.04015668577954229],\n",
       "  [1.0696140442566597, 0.072759426649597]],\n",
       " 'FFKs_decorrelated[0]': array([0.16783875, 0.99116296]),\n",
       " 'FFKs_decorrelated[1]': array([-0.02988768,  0.84030185]),\n",
       " 'FFKs_decorrelated[2]': array([-0.41556791,  0.90950224]),\n",
       " 'FFKs_decorrelated[3]': array([0.0494573 , 0.82253845]),\n",
       " 'FFKs_decorrelated[4]': array([0.26136178, 0.97639288]),\n",
       " 'FFKs_decorrelated[5]': array([-0.04321463,  0.89381499]),\n",
       " 'FFKs_decorrelated[6]': array([0.00179527, 0.99822528]),\n",
       " 'FFKs_decorrelated[7]': array([0.11648321, 0.99075569]),\n",
       " 'FFKs_decorrelated[8]': array([0.01896483, 0.94347305]),\n",
       " 'FFKs_decorrelated[9]': array([-0.02257155,  0.98220172]),\n",
       " 'FFKs_decorrelated[10]': array([-0.09877133,  0.94896947]),\n",
       " 'FFKs_decorrelated[11]': array([0.05038714, 0.98655575]),\n",
       " 'FFKs_decorrelated[12]': array([0.08906536, 0.98333706]),\n",
       " 'FFKs_decorrelated[13]': array([-0.02605577,  0.99278015])}"
      ]
     },
     "execution_count": 3,
     "metadata": {},
     "output_type": "execute_result"
    }
   ],
   "source": [
    "fixed = model.config.suggested_fixed()\n",
    "fixed[model.config.par_map['mu']['slice']] = [True]\n",
    "\n",
    "pyhf.set_backend(\"numpy\", pyhf.optimize.scipy_optimizer())\n",
    "best_fit = pyhf.infer.mle.fit(data, model, fixed_params=fixed)\n",
    "pyhf.set_backend(\"numpy\", pyhf.optimize.minuit_optimizer(verbose=True, strategy=2))\n",
    "best_fit, twice_nll, OptimizeResult = pyhf.infer.mle.fit(\n",
    "    data,\n",
    "    model,\n",
    "    init_pars=best_fit.tolist(),\n",
    "    fixed_params=fixed,\n",
    "    return_uncertainties=True,\n",
    "    return_fitted_val=True,\n",
    "    return_result_obj=True\n",
    "    )\n",
    "\n",
    "best_fit_dict = modifier.par_dict(model, best_fit)\n",
    "best_fit_dict\n"
   ]
  },
  {
   "cell_type": "code",
   "execution_count": 4,
   "metadata": {},
   "outputs": [
    {
     "data": {
      "text/plain": [
       "[<matplotlib.lines.Line2D at 0x7f1d48792e30>]"
      ]
     },
     "execution_count": 4,
     "metadata": {},
     "output_type": "execute_result"
    },
    {
     "data": {
      "image/png": "[encoded data removed]",
      "text/plain": [
       "<Figure size 800x550 with 1 Axes>"
      ]
     },
     "metadata": {},
     "output_type": "display_data"
    }
   ],
   "source": [
    "plt.stairs(model.expected_actualdata(model.config.suggested_init()))\n",
    "plt.stairs(model.expected_actualdata(best_fit[:,0]))\n",
    "x = np.linspace(0.5, 21.5, 22)\n",
    "plt.plot(x, data[:22], 'og')"
   ]
  },
  {
   "cell_type": "code",
   "execution_count": null,
   "metadata": {},
   "outputs": [],
   "source": []
  }
 ],
 "metadata": {
  "kernelspec": {
   "display_name": "Python 3 (ipykernel)",
   "language": "python",
   "name": "python3"
  },
  "language_info": {
   "codemirror_mode": {
    "name": "ipython",
    "version": 3
   },
   "file_extension": ".py",
   "mimetype": "text/x-python",
   "name": "python",
   "nbconvert_exporter": "python",
   "pygments_lexer": "ipython3",
   "version": "3.10.12"
  }
 },
 "nbformat": 4,
 "nbformat_minor": 2
}
