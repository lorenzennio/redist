{
 "cells": [
  {
   "cell_type": "code",
   "execution_count": 10,
   "metadata": {},
   "outputs": [],
   "source": [
    "%reload_ext autoreload\n",
    "%autoreload 2\n",
    "\n",
    "import numpy as np\n",
    "import pandas as pd\n",
    "from copy import deepcopy\n",
    "import pyhf\n",
    "import eos\n",
    "import matplotlib.pyplot as plt\n",
    "from redist import modifier\n",
    "from redist import plot\n",
    "import knunu_utils \n",
    "import ksnunu_utils "
   ]
  },
  {
   "cell_type": "markdown",
   "metadata": {},
   "source": [
    "# Combining $B \\to K \\nu \\nu$ and $B \\to K^* \\nu \\nu$ in terms of the WET"
   ]
  },
  {
   "cell_type": "code",
   "execution_count": 11,
   "metadata": {},
   "outputs": [],
   "source": [
    "files       = ['knunu_model.json', 'ksnunu_model.json']\n",
    "alt_dists   = [knunu_utils.alt_pred().distribution, ksnunu_utils.alt_pred().distribution]\n",
    "null_dists  = [knunu_utils.null_pred().distribution, ksnunu_utils.null_pred().distribution]\n",
    "\n",
    "\n",
    "model, data = modifier.combine(files, alt_dists, null_dists, return_data=True)"
   ]
  },
  {
   "cell_type": "code",
   "execution_count": 12,
   "metadata": {},
   "outputs": [
    {
     "name": "stdout",
     "output_type": "stream",
     "text": [
      "W MnPosDef Matrix forced pos-def by adding to diagonal 1.76156\n",
      "W DavidonErrorUpdator delgam < 0 : first derivatives increasing along search line\n",
      "W VariableMetricBuilder Matrix not pos.def, gdel = 75044.6 > 0\n",
      "W MnPosDef non-positive diagonal element in covariance matrix[ 36 ] = -0.0108837\n",
      "W MnPosDef non-positive diagonal element in covariance matrix[ 38 ] = -0.00228381\n",
      "W MnPosDef non-positive diagonal element in covariance matrix[ 41 ] = -0.00505998\n",
      "W MnPosDef Added to diagonal of Error matrix a value 0.510885\n",
      "W VariableMetricBuilder gdel = -2.62464e+10\n",
      "W VariableMetricBuilder No improvement in line search\n",
      "W VariableMetricBuilder Iterations finish without convergence; Edm 346956 Requested 0.0002\n",
      "W MnPosDef non-positive diagonal element in covariance matrix[ 35 ] = -6839.59\n",
      "W MnPosDef non-positive diagonal element in covariance matrix[ 37 ] = -2582.3\n",
      "W MnPosDef non-positive diagonal element in covariance matrix[ 40 ] = -1242.73\n",
      "W MnPosDef Added to diagonal of Error matrix a value 6840.09\n",
      "W MnPosDef Matrix forced pos-def by adding to diagonal 75.7368\n",
      "W MnPosDef non-positive diagonal element in covariance matrix[ 1 ] = -24.6937\n",
      "W MnPosDef non-positive diagonal element in covariance matrix[ 3 ] = -49.5914\n",
      "W MnPosDef Added to diagonal of Error matrix a value 50.0914\n",
      "W MnPosDef Matrix forced pos-def by adding to diagonal 4.68783\n",
      "W DavidonErrorUpdator delgam < 0 : first derivatives increasing along search line\n",
      "W VariableMetricBuilder Matrix not pos.def, gdel = 0.0266408 > 0\n",
      "W MnPosDef non-positive diagonal element in covariance matrix[ 3 ] = -0.0203278\n",
      "W MnPosDef Added to diagonal of Error matrix a value 0.520329\n",
      "W VariableMetricBuilder gdel = -3323.48\n"
     ]
    },
    {
     "data": {
      "text/plain": [
       "{'cvl': array([5.07667291, 0.31582267]),\n",
       " 'cvr': array([0.48327568, 0.31681639]),\n",
       " 'csl': array([0.90429471, 4.00658637]),\n",
       " 'csr': array([1.00498836, 2.93418209]),\n",
       " 'ctl': array([1.00458739, 0.02307264]),\n",
       " 'FFK_decorrelated[0]': array([0.27574089, 0.95071453]),\n",
       " 'FFK_decorrelated[1]': array([0.4036098 , 0.80820216]),\n",
       " 'FFK_decorrelated[2]': array([-0.07151617,  1.10104719]),\n",
       " 'FFK_decorrelated[3]': array([0.02543056, 0.99344448]),\n",
       " 'FFK_decorrelated[4]': array([0.13059508, 0.98298252]),\n",
       " 'FFK_decorrelated[5]': array([-0.0868045 ,  1.01199296]),\n",
       " 'FFK_decorrelated[6]': array([0.02825237, 0.99370934]),\n",
       " 'FFK_decorrelated[7]': array([0.04648177, 0.99755956]),\n",
       " 'mu': array([1., 0.]),\n",
       " 'stat': [[1.0027923779423997, 0.00534131993516529],\n",
       "  [0.9958168081434637, 0.004737814922529671],\n",
       "  [0.9984240663450212, 0.005340269298139466],\n",
       "  [1.0002100188704306, 0.006129314478276304],\n",
       "  [1.0031641406538854, 0.006972695912587978],\n",
       "  [1.0008908790803137, 0.00825476982031731],\n",
       "  [1.0029723077020811, 0.010128710893654636],\n",
       "  [0.9942403059681107, 0.01283167773710192],\n",
       "  [0.9986149865561029, 0.017881071490699674],\n",
       "  [1.0086858922527102, 0.028463036733155478],\n",
       "  [1.0000575507647944, 0.004214844448353627],\n",
       "  [0.9982866060683373, 0.0045698416148988175],\n",
       "  [1.0025579153871242, 0.005412861642368705],\n",
       "  [0.997965188927738, 0.006532701874274904],\n",
       "  [1.0020170334090812, 0.007967172217695384],\n",
       "  [0.9995454976484963, 0.00970686579993768],\n",
       "  [1.0037060845215255, 0.012001269995263242],\n",
       "  [1.0049060936799028, 0.015056585621439966],\n",
       "  [1.001659728808092, 0.019483992382502813],\n",
       "  [0.9956166841478798, 0.026713990770794227],\n",
       "  [0.9409601961133426, 0.040341554215232944],\n",
       "  [1.0459629504069285, 0.07229695262421365]],\n",
       " 'FFKs_decorrelated[0]': array([0.22905585, 0.86898811]),\n",
       " 'FFKs_decorrelated[1]': array([-0.00592982,  0.84034261]),\n",
       " 'FFKs_decorrelated[2]': array([-0.01702876,  0.9200263 ]),\n",
       " 'FFKs_decorrelated[3]': array([-0.07093803,  1.01904531]),\n",
       " 'FFKs_decorrelated[4]': array([0.05942793, 1.03277761]),\n",
       " 'FFKs_decorrelated[5]': array([-0.01603485,  0.9930738 ]),\n",
       " 'FFKs_decorrelated[6]': array([0.01513473, 0.9920699 ]),\n",
       " 'FFKs_decorrelated[7]': array([0.0203349 , 1.00462061])}"
      ]
     },
     "execution_count": 12,
     "metadata": {},
     "output_type": "execute_result"
    }
   ],
   "source": [
    "fixed = model.config.suggested_fixed()\n",
    "fixed[model.config.par_map['mu']['slice']] = [True]\n",
    "\n",
    "# pyhf.set_backend(\"numpy\", pyhf.optimize.scipy_optimizer())\n",
    "# best_fit = pyhf.infer.mle.fit(data, model, fixed_params=fixed)\n",
    "pyhf.set_backend(\"numpy\", pyhf.optimize.minuit_optimizer(verbose=True, strategy=2))\n",
    "best_fit, twice_nll, OptimizeResult = pyhf.infer.mle.fit(\n",
    "    data,\n",
    "    model,\n",
    "    fixed_params=fixed,\n",
    "    return_uncertainties=True,\n",
    "    return_fitted_val=True,\n",
    "    return_result_obj=True\n",
    "    )\n",
    "\n",
    "best_fit_dict = modifier.par_dict(model, best_fit)\n",
    "best_fit_dict\n"
   ]
  },
  {
   "cell_type": "code",
   "execution_count": 18,
   "metadata": {},
   "outputs": [
    {
     "data": {
      "text/plain": [
       "[<matplotlib.lines.Line2D at 0x149d5c9d3af0>]"
      ]
     },
     "execution_count": 18,
     "metadata": {},
     "output_type": "execute_result"
    },
    {
     "data": {
      "image/png": "[encoded data removed]",
      "text/plain": [
       "<Figure size 800x550 with 1 Axes>"
      ]
     },
     "metadata": {},
     "output_type": "display_data"
    }
   ],
   "source": [
    "plt.stairs(model.expected_actualdata(model.config.suggested_init()))\n",
    "plt.stairs(model.expected_actualdata(best_fit[:,0]))\n",
    "x = np.linspace(0.5, 21.5, 22)\n",
    "plt.plot(x, data[:22], 'og')"
   ]
  },
  {
   "cell_type": "code",
   "execution_count": null,
   "metadata": {},
   "outputs": [],
   "source": []
  }
 ],
 "metadata": {
  "kernelspec": {
   "display_name": "Python 3 (ipykernel)",
   "language": "python",
   "name": "python3"
  },
  "language_info": {
   "codemirror_mode": {
    "name": "ipython",
    "version": 3
   },
   "file_extension": ".py",
   "mimetype": "text/x-python",
   "name": "python",
   "nbconvert_exporter": "python",
   "pygments_lexer": "ipython3",
   "version": "3.10.12"
  }
 },
 "nbformat": 4,
 "nbformat_minor": 2
}
