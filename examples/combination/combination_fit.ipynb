{
 "cells": [
  {
   "cell_type": "code",
   "execution_count": 1,
   "metadata": {},
   "outputs": [
    {
     "name": "stderr",
     "output_type": "stream",
     "text": [
      "/tmp/user/20892/ipykernel_1426554/3656946913.py:5: DeprecationWarning: \n",
      "Pyarrow will become a required dependency of pandas in the next major release of pandas (pandas 3.0),\n",
      "(to allow more performant data types, such as the Arrow string type, and better interoperability with other libraries)\n",
      "but was not found to be installed on your system.\n",
      "If this would cause problems for you,\n",
      "please provide us feedback at https://github.com/pandas-dev/pandas/issues/54466\n",
      "        \n",
      "  import pandas as pd\n"
     ]
    }
   ],
   "source": [
    "%reload_ext autoreload\n",
    "%autoreload 2\n",
    "\n",
    "import numpy as np\n",
    "import pandas as pd\n",
    "from copy import deepcopy\n",
    "import pyhf\n",
    "import eos\n",
    "import matplotlib.pyplot as plt\n",
    "from redist import modifier\n",
    "from redist import plot\n",
    "\n",
    "import sys, os\n",
    "path2add = os.path.abspath(os.path.join(os.getcwd(), os.path.pardir))\n",
    "if (not (path2add in sys.path)) :\n",
    "    sys.path.append(path2add)\n",
    "    \n",
    "from knunu import knunu_utils\n",
    "from ksnunu import ksnunu_utils"
   ]
  },
  {
   "cell_type": "markdown",
   "metadata": {},
   "source": [
    "# Combining $B \\to K \\nu \\nu$ and $B \\to K^* \\nu \\nu$ in terms of the WET"
   ]
  },
  {
   "cell_type": "code",
   "execution_count": 2,
   "metadata": {},
   "outputs": [],
   "source": [
    "files       = ['../knunu/knunu_model.json', '../ksnunu/ksnunu_model.json']\n",
    "alt_dists   = [knunu_utils.alt_pred().distribution, ksnunu_utils.alt_pred().distribution]\n",
    "null_dists  = [knunu_utils.null_pred().distribution, ksnunu_utils.null_pred().distribution]\n",
    "\n",
    "\n",
    "model, data = modifier.combine(files, alt_dists, null_dists, return_data=True)"
   ]
  },
  {
   "cell_type": "code",
   "execution_count": 3,
   "metadata": {},
   "outputs": [
    {
     "name": "stdout",
     "output_type": "stream",
     "text": [
      "W MnPosDef Matrix forced pos-def by adding to diagonal 0.019088\n",
      "W MnPosDef Matrix forced pos-def by adding to diagonal 0.0190527\n",
      "W MnPosDef Matrix forced pos-def by adding to diagonal 0.0194264\n"
     ]
    },
    {
     "data": {
      "text/plain": [
       "{'cvl': array([10.11885139,  0.06943073]),\n",
       " 'cvr': array([3.93354647, 0.10142023]),\n",
       " 'csl': array([2.03216826, 0.24545692]),\n",
       " 'csr': array([2.03219382, 0.24503905]),\n",
       " 'ctl': array([0.96813214, 0.02033002]),\n",
       " 'FFK_decorrelated[0]': array([0.00771893, 0.74670306]),\n",
       " 'FFK_decorrelated[1]': array([0.01125149, 0.67532796]),\n",
       " 'FFK_decorrelated[2]': array([-0.04297932,  0.40227778]),\n",
       " 'FFK_decorrelated[3]': array([0.00301025, 0.95852748]),\n",
       " 'FFK_decorrelated[4]': array([0.01202457, 0.82193875]),\n",
       " 'FFK_decorrelated[5]': array([0.01083418, 0.59622207]),\n",
       " 'FFK_decorrelated[6]': array([-0.00446793,  0.96609187]),\n",
       " 'FFK_decorrelated[7]': array([0.00760963, 0.84429298]),\n",
       " 'mu': array([1., 0.]),\n",
       " 'stat': [[1.002409556703495, 0.008705067300326608],\n",
       "  [0.9968132515720767, 0.0066153070317759854],\n",
       "  [0.9977124549037557, 0.005884174175349366],\n",
       "  [1.0008341575143347, 0.0056909873074170725],\n",
       "  [1.0064862373072578, 0.005589915562980163],\n",
       "  [0.9980109073585758, 0.00546853607801534],\n",
       "  [0.9943631558025327, 0.00547591385252294],\n",
       "  [1.0020635599665146, 0.005857315916802663],\n",
       "  [1.0037145307180728, 0.0072036498545051675],\n",
       "  [0.9963993011635411, 0.011007894718645328],\n",
       "  [1.0002586163463514, 0.007020255062772152],\n",
       "  [0.9994933688020883, 0.006561234806324756],\n",
       "  [0.9990519318790761, 0.008080274658075925],\n",
       "  [1.0010596446527342, 0.010771098370726317],\n",
       "  [1.0005319158086277, 0.014494141348740108],\n",
       "  [0.9995599759851971, 0.020279516297800115],\n",
       "  [1.0104033898584817, 0.031225575593536392],\n",
       "  [0.963880286739772, 0.04772631626289647]],\n",
       " 'FFKs_decorrelated[0]': array([-0.02576168,  0.04910784]),\n",
       " 'FFKs_decorrelated[1]': array([-0.03104656,  0.09756919]),\n",
       " 'FFKs_decorrelated[2]': array([0.01131912, 0.13048045]),\n",
       " 'FFKs_decorrelated[3]': array([0.01220409, 0.33412532]),\n",
       " 'FFKs_decorrelated[4]': array([0.01087773, 0.21541792]),\n",
       " 'FFKs_decorrelated[5]': array([0.01447495, 0.86566004]),\n",
       " 'FFKs_decorrelated[6]': array([0.00925845, 0.28759572]),\n",
       " 'FFKs_decorrelated[7]': array([0.05718149, 0.3395024 ]),\n",
       " 'FFKs_decorrelated[8]': array([0.04879276, 0.1765305 ]),\n",
       " 'FFKs_decorrelated[9]': array([0.00962822, 0.13922148]),\n",
       " 'FFKs_decorrelated[10]': array([-0.00684194,  0.52058827]),\n",
       " 'FFKs_decorrelated[11]': array([0.05026136, 0.12159707]),\n",
       " 'FFKs_decorrelated[12]': array([-0.07410683,  0.15352354]),\n",
       " 'FFKs_decorrelated[13]': array([-0.00159995,  0.90210542]),\n",
       " 'FFKs_decorrelated[14]': array([-0.00125777,  0.42216786]),\n",
       " 'FFKs_decorrelated[15]': array([0.00706163, 0.66814139]),\n",
       " 'FFKs_decorrelated[16]': array([-0.00688424,  0.7298403 ]),\n",
       " 'FFKs_decorrelated[17]': array([-0.00264056,  0.72821808]),\n",
       " 'FFKs_decorrelated[18]': array([-0.00290044,  0.97952299])}"
      ]
     },
     "execution_count": 3,
     "metadata": {},
     "output_type": "execute_result"
    }
   ],
   "source": [
    "fixed = model.config.suggested_fixed()\n",
    "fixed[model.config.par_map['mu']['slice']] = [True]\n",
    "\n",
    "# for i in range(3, 19):\n",
    "#     fixed[model.config.par_map[f'FFKs_decorrelated[{i}]']['slice']] = [True]\n",
    "\n",
    "# for i in range(3, 8):\n",
    "#     fixed[model.config.par_map[f'FFK_decorrelated[{i}]']['slice']] = [True]\n",
    "\n",
    "pyhf.set_backend(\"numpy\", pyhf.optimize.scipy_optimizer())\n",
    "best_fit = pyhf.infer.mle.fit(data, model, fixed_params=fixed)\n",
    "pyhf.set_backend(\"numpy\", pyhf.optimize.minuit_optimizer(verbose=True, strategy=2))\n",
    "best_fit, twice_nll, OptimizeResult = pyhf.infer.mle.fit(\n",
    "    data,\n",
    "    model,\n",
    "    init_pars=best_fit.tolist(),\n",
    "    fixed_params=fixed,\n",
    "    return_uncertainties=True,\n",
    "    return_fitted_val=True,\n",
    "    return_result_obj=True\n",
    "    )\n",
    "\n",
    "best_fit_dict = modifier.par_dict(model, best_fit)\n",
    "best_fit_dict\n"
   ]
  },
  {
   "cell_type": "code",
   "execution_count": 7,
   "metadata": {},
   "outputs": [
    {
     "data": {
      "text/plain": [
       "<matplotlib.legend.Legend at 0x155348d7b280>"
      ]
     },
     "execution_count": 7,
     "metadata": {},
     "output_type": "execute_result"
    },
    {
     "data": {
      "image/png": "[encoded data removed]",
      "text/plain": [
       "<Figure size 800x550 with 1 Axes>"
      ]
     },
     "metadata": {},
     "output_type": "display_data"
    }
   ],
   "source": [
    "inits = model.config.suggested_init()\n",
    "plt.stairs(model.expected_actualdata(inits), label=\"initial\")\n",
    "inits[model.config.par_map['cvl']['slice']] = [10]\n",
    "inits[model.config.par_map['cvr']['slice']] = [4]\n",
    "inits[model.config.par_map['csl']['slice']] = [3]\n",
    "inits[model.config.par_map['csr']['slice']] = [1]\n",
    "inits[model.config.par_map['ctl']['slice']] = [1]\n",
    "plt.stairs(model.expected_actualdata(inits), label=\"true\")\n",
    "plt.stairs(model.expected_actualdata(best_fit[:,0]), label = \"best fit\")\n",
    "x = np.linspace(0.5, 17.5, 18)\n",
    "plt.plot(x, data[:18], 'og')\n",
    "plt.yscale('log')\n",
    "plt.legend()"
   ]
  },
  {
   "cell_type": "code",
   "execution_count": null,
   "metadata": {},
   "outputs": [],
   "source": []
  }
 ],
 "metadata": {
  "kernelspec": {
   "display_name": "Python 3 (ipykernel)",
   "language": "python",
   "name": "python3"
  },
  "language_info": {
   "codemirror_mode": {
    "name": "ipython",
    "version": 3
   },
   "file_extension": ".py",
   "mimetype": "text/x-python",
   "name": "python",
   "nbconvert_exporter": "python",
   "pygments_lexer": "ipython3",
   "version": "3.10.0"
  }
 },
 "nbformat": 4,
 "nbformat_minor": 2
}
