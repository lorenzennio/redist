{
 "cells": [
  {
   "cell_type": "code",
   "execution_count": 1,
   "metadata": {},
   "outputs": [],
   "source": [
    "%reload_ext autoreload\n",
    "%autoreload 2\n",
    "\n",
    "import numpy as np\n",
    "import pandas as pd\n",
    "from copy import deepcopy\n",
    "import pyhf\n",
    "import eos\n",
    "import matplotlib.pyplot as plt\n",
    "from redist import modifier\n",
    "from redist import plot\n",
    "\n",
    "import sys, os\n",
    "path2add = os.path.abspath(os.path.join(os.getcwd(), os.path.pardir))\n",
    "if (not (path2add in sys.path)) :\n",
    "    sys.path.append(path2add)\n",
    "    \n",
    "from knunu import knunu_utils\n",
    "from ksnunu import ksnunu_utils"
   ]
  },
  {
   "cell_type": "markdown",
   "metadata": {},
   "source": [
    "# Combining $B \\to K \\nu \\nu$ and $B \\to K^* \\nu \\nu$ in terms of the WET"
   ]
  },
  {
   "cell_type": "code",
   "execution_count": 2,
   "metadata": {},
   "outputs": [],
   "source": [
    "files       = ['../knunu/knunu_model.json', '../ksnunu/ksnunu_model.json']\n",
    "alt_dists   = [knunu_utils.alt_pred().distribution, ksnunu_utils.alt_pred().distribution]\n",
    "null_dists  = [knunu_utils.null_pred().distribution, ksnunu_utils.null_pred().distribution]\n",
    "\n",
    "\n",
    "model, data = modifier.combine(files, alt_dists, null_dists, return_data=True)"
   ]
  },
  {
   "cell_type": "code",
   "execution_count": 3,
   "metadata": {},
   "outputs": [
    {
     "name": "stdout",
     "output_type": "stream",
     "text": [
      "W MnPosDef Matrix forced pos-def by adding to diagonal 0.706574\n",
      "W MnPosDef Matrix forced pos-def by adding to diagonal 0.0182045\n",
      "W MnPosDef Matrix forced pos-def by adding to diagonal 0.0187037\n",
      "W MnPosDef Matrix forced pos-def by adding to diagonal 0.0190999\n"
     ]
    },
    {
     "data": {
      "text/plain": [
       "{'cvl': array([10.15213501,  0.08001453]),\n",
       " 'cvr': array([3.85526329, 0.11039746]),\n",
       " 'csl': array([3.20541556, 0.16789363]),\n",
       " 'csr': array([0.93254436, 0.16393805]),\n",
       " 'ctl': array([0.98944631, 0.01228002]),\n",
       " 'FFK_decorrelated[0]': array([0.02040015, 0.74613678]),\n",
       " 'FFK_decorrelated[1]': array([0.02962154, 0.67601805]),\n",
       " 'FFK_decorrelated[2]': array([0.00863538, 0.40919993]),\n",
       " 'FFK_decorrelated[3]': array([0.00231917, 0.96517254]),\n",
       " 'FFK_decorrelated[4]': array([0.00468696, 0.8260354 ]),\n",
       " 'FFK_decorrelated[5]': array([4.38267851e-04, 5.99281754e-01]),\n",
       " 'FFK_decorrelated[6]': array([-0.00097945,  0.96624182]),\n",
       " 'FFK_decorrelated[7]': array([0.00245909, 0.84618933]),\n",
       " 'mu': array([1., 0.]),\n",
       " 'stat': [[0.9968863978644812, 0.008211525966054234],\n",
       "  [1.005989481444293, 0.006338094797345983],\n",
       "  [0.9987558868398674, 0.005489139550636124],\n",
       "  [0.9984233810753921, 0.005294190835559265],\n",
       "  [0.9965349660815315, 0.0052525501956640075],\n",
       "  [1.003609620425408, 0.005265733984044618],\n",
       "  [1.0010239381284851, 0.0053078276916833644],\n",
       "  [0.9991222757465896, 0.005611018448848093],\n",
       "  [0.999005321098774, 0.0069425652917391445],\n",
       "  [1.0009454299003295, 0.010870666078229563],\n",
       "  [0.9991865344155981, 0.007015690604180724],\n",
       "  [1.0032984566338448, 0.006591977762194057],\n",
       "  [0.9934259218286263, 0.008062800666465197],\n",
       "  [1.0088768549175209, 0.01078837321648446],\n",
       "  [0.996331058594894, 0.014229698045167716],\n",
       "  [0.9960406008649968, 0.019681859420708048],\n",
       "  [0.9957051956522521, 0.029575546670656316],\n",
       "  [1.015720028314939, 0.05186302428702205]],\n",
       " 'FFKs_decorrelated[0]': array([0.0950269 , 0.05764957]),\n",
       " 'FFKs_decorrelated[1]': array([0.02760371, 0.13787603]),\n",
       " 'FFKs_decorrelated[2]': array([-0.00870962,  0.1412539 ]),\n",
       " 'FFKs_decorrelated[3]': array([0.01844159, 0.39640045]),\n",
       " 'FFKs_decorrelated[4]': array([0.02773999, 0.22687505]),\n",
       " 'FFKs_decorrelated[5]': array([0.00271097, 0.89937472]),\n",
       " 'FFKs_decorrelated[6]': array([0.00658484, 0.31776182]),\n",
       " 'FFKs_decorrelated[7]': array([0.00116782, 0.28489998]),\n",
       " 'FFKs_decorrelated[8]': array([0.00859005, 0.2237046 ]),\n",
       " 'FFKs_decorrelated[9]': array([0.00322176, 0.15939206]),\n",
       " 'FFKs_decorrelated[10]': array([0.00209959, 0.55665842]),\n",
       " 'FFKs_decorrelated[11]': array([0.00131011, 0.1188958 ]),\n",
       " 'FFKs_decorrelated[12]': array([-0.00907996,  0.20232845]),\n",
       " 'FFKs_decorrelated[13]': array([0.00100306, 0.92740526]),\n",
       " 'FFKs_decorrelated[14]': array([-0.00074982,  0.33096763]),\n",
       " 'FFKs_decorrelated[15]': array([-0.00178969,  0.71169142]),\n",
       " 'FFKs_decorrelated[16]': array([0.00126926, 0.79924713]),\n",
       " 'FFKs_decorrelated[17]': array([-0.00079783,  0.56352274]),\n",
       " 'FFKs_decorrelated[18]': array([1.98975055e-04, 9.70780543e-01])}"
      ]
     },
     "execution_count": 3,
     "metadata": {},
     "output_type": "execute_result"
    }
   ],
   "source": [
    "fixed = model.config.suggested_fixed()\n",
    "fixed[model.config.par_map['mu']['slice']] = [True]\n",
    "\n",
    "# for i in range(3, 19):\n",
    "#     fixed[model.config.par_map[f'FFKs_decorrelated[{i}]']['slice']] = [True]\n",
    "\n",
    "# for i in range(3, 8):\n",
    "#     fixed[model.config.par_map[f'FFK_decorrelated[{i}]']['slice']] = [True]\n",
    "\n",
    "pyhf.set_backend(\"numpy\", pyhf.optimize.scipy_optimizer())\n",
    "best_fit = pyhf.infer.mle.fit(data, model, fixed_params=fixed)\n",
    "pyhf.set_backend(\"numpy\", pyhf.optimize.minuit_optimizer(verbose=True, strategy=2))\n",
    "best_fit, twice_nll, OptimizeResult = pyhf.infer.mle.fit(\n",
    "    data,\n",
    "    model,\n",
    "    init_pars=best_fit.tolist(),\n",
    "    fixed_params=fixed,\n",
    "    return_uncertainties=True,\n",
    "    return_fitted_val=True,\n",
    "    return_result_obj=True\n",
    "    )\n",
    "\n",
    "best_fit_dict = modifier.par_dict(model, best_fit)\n",
    "best_fit_dict\n"
   ]
  },
  {
   "cell_type": "code",
   "execution_count": 4,
   "metadata": {},
   "outputs": [
    {
     "data": {
      "image/png": "[encoded data removed]",
      "text/plain": [
       "<Figure size 800x550 with 1 Axes>"
      ]
     },
     "metadata": {},
     "output_type": "display_data"
    }
   ],
   "source": [
    "plt.stairs(model.expected_actualdata(model.config.suggested_init()))\n",
    "plt.stairs(model.expected_actualdata(best_fit[:,0]))\n",
    "x = np.linspace(0.5, 17.5, 18)\n",
    "plt.plot(x, data[:18], 'og')\n",
    "plt.yscale('log')"
   ]
  },
  {
   "cell_type": "code",
   "execution_count": null,
   "metadata": {},
   "outputs": [],
   "source": []
  }
 ],
 "metadata": {
  "kernelspec": {
   "display_name": "Python 3 (ipykernel)",
   "language": "python",
   "name": "python3"
  },
  "language_info": {
   "codemirror_mode": {
    "name": "ipython",
    "version": 3
   },
   "file_extension": ".py",
   "mimetype": "text/x-python",
   "name": "python",
   "nbconvert_exporter": "python",
   "pygments_lexer": "ipython3",
   "version": "3.10.0"
  }
 },
 "nbformat": 4,
 "nbformat_minor": 2
}
