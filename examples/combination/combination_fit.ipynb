{
 "cells": [
  {
   "cell_type": "code",
   "execution_count": 1,
   "metadata": {},
   "outputs": [
    {
     "name": "stderr",
     "output_type": "stream",
     "text": [
      "/tmp/user/20892/ipykernel_280078/3656946913.py:5: DeprecationWarning: \n",
      "Pyarrow will become a required dependency of pandas in the next major release of pandas (pandas 3.0),\n",
      "(to allow more performant data types, such as the Arrow string type, and better interoperability with other libraries)\n",
      "but was not found to be installed on your system.\n",
      "If this would cause problems for you,\n",
      "please provide us feedback at https://github.com/pandas-dev/pandas/issues/54466\n",
      "        \n",
      "  import pandas as pd\n"
     ]
    }
   ],
   "source": [
    "%reload_ext autoreload\n",
    "%autoreload 2\n",
    "\n",
    "import numpy as np\n",
    "import pandas as pd\n",
    "from copy import deepcopy\n",
    "import pyhf\n",
    "import eos\n",
    "import matplotlib.pyplot as plt\n",
    "from redist import modifier\n",
    "from redist import plot\n",
    "\n",
    "import sys, os\n",
    "path2add = os.path.abspath(os.path.join(os.getcwd(), os.path.pardir))\n",
    "if (not (path2add in sys.path)) :\n",
    "    sys.path.append(path2add)\n",
    "    \n",
    "from knunu import knunu_utils\n",
    "from ksnunu import ksnunu_utils"
   ]
  },
  {
   "cell_type": "markdown",
   "metadata": {},
   "source": [
    "# Combining $B \\to K \\nu \\nu$ and $B \\to K^* \\nu \\nu$ in terms of the WET"
   ]
  },
  {
   "cell_type": "code",
   "execution_count": 2,
   "metadata": {},
   "outputs": [],
   "source": [
    "files       = ['../knunu/knunu_model.json', '../ksnunu/ksnunu_model.json']\n",
    "alt_dists   = [knunu_utils.alt_pred().distribution, ksnunu_utils.alt_pred().distribution]\n",
    "null_dists  = [knunu_utils.null_pred().distribution, ksnunu_utils.null_pred().distribution]\n",
    "\n",
    "\n",
    "model, data = modifier.combine(files, alt_dists, null_dists, return_data=True)"
   ]
  },
  {
   "cell_type": "code",
   "execution_count": 5,
   "metadata": {},
   "outputs": [
    {
     "name": "stdout",
     "output_type": "stream",
     "text": [
      "W MnPosDef Matrix forced pos-def by adding to diagonal 1.66751\n",
      "W MnPosDef Matrix forced pos-def by adding to diagonal 0.018998\n"
     ]
    },
    {
     "data": {
      "text/plain": [
       "{'cvl': [9.988762652291708, 0.07066243022554719],\n",
       " 'cvr': [4.008969560137311, 0.10268645509218755],\n",
       " 'csl': [2.806140393064954, 0.21929515270938515],\n",
       " 'csr': [1.152493769688876, 0.216176594756323],\n",
       " 'ctl': [1.0016467933931383, 0.019706715123596175],\n",
       " 'FFK_decorrelated[0]': [-0.02252903098305524, 0.7475494768019135],\n",
       " 'FFK_decorrelated[1]': [-0.04178557066039636, 0.6765301894857785],\n",
       " 'FFK_decorrelated[2]': [-0.04255087302866105, 0.4060368506459856],\n",
       " 'FFK_decorrelated[3]': [0.0012178633274476038, 0.9667017286925246],\n",
       " 'FFK_decorrelated[4]': [0.0013616718717824996, 0.8258292738377508],\n",
       " 'FFK_decorrelated[5]': [-0.0017447499035306074, 0.600125651858044],\n",
       " 'FFK_decorrelated[6]': [-0.002535654917172094, 0.9665625676901062],\n",
       " 'FFK_decorrelated[7]': [0.0007638343014406829, 0.8475206876154426],\n",
       " 'mu': [1.0, 0.0],\n",
       " 'stat': [[0.9995339664997779, 0.008705582145842217],\n",
       "  [1.0015809986102975, 0.006664279215332913],\n",
       "  [0.9974755915047662, 0.005885323985992508],\n",
       "  [1.0041291163969601, 0.005698365271375017],\n",
       "  [0.9948425433679876, 0.005558391200523649],\n",
       "  [1.0001326293656878, 0.005491090685560807],\n",
       "  [1.005551392793896, 0.005531335068364118],\n",
       "  [0.9968616494003627, 0.0058442894473453855],\n",
       "  [0.9986642344929597, 0.007180535465644511],\n",
       "  [1.001815279937867, 0.011105998959583696],\n",
       "  [1.0019008056451357, 0.007038005240522671],\n",
       "  [0.9957905394643088, 0.006564539766028776],\n",
       "  [0.9972804644843768, 0.008085622624717348],\n",
       "  [1.0066864089093512, 0.010775282880350512],\n",
       "  [1.0022165825703764, 0.014410261296706195],\n",
       "  [1.0018364362080086, 0.02009684103322401],\n",
       "  [1.0019256860400005, 0.030553171948391078],\n",
       "  [0.9699477967494513, 0.051989203564334396]],\n",
       " 'FFKs_decorrelated[0]': [-0.04589546933689223, 0.05238138943390573],\n",
       " 'FFKs_decorrelated[1]': [0.018011867398986612, 0.10787492551673802],\n",
       " 'FFKs_decorrelated[2]': [-0.04817643294514071, 0.13910372441775182],\n",
       " 'FFKs_decorrelated[3]': [-0.024123660656514154, 0.3609133126215463],\n",
       " 'FFKs_decorrelated[4]': [-0.014788267390407873, 0.22556882872645434],\n",
       " 'FFKs_decorrelated[5]': [0.001309847907917288, 0.8805224603427555],\n",
       " 'FFKs_decorrelated[6]': [0.0011491177546117991, 0.3036838326324748],\n",
       " 'FFKs_decorrelated[7]': [0.003596886451161592, 0.333584320363297],\n",
       " 'FFKs_decorrelated[8]': [0.004160664530445503, 0.19078457053942147],\n",
       " 'FFKs_decorrelated[9]': [0.0006628246184135714, 0.14903002107582136],\n",
       " 'FFKs_decorrelated[10]': [0.0013032036718929134, 0.5406792581704759],\n",
       " 'FFKs_decorrelated[11]': [0.0035750894131212673, 0.1261074199519161],\n",
       " 'FFKs_decorrelated[12]': [-0.010713490037446097, 0.1638693947458752],\n",
       " 'FFKs_decorrelated[13]': [0.0006489668264992184, 0.9080259293817385],\n",
       " 'FFKs_decorrelated[14]': [-0.0023788780010342197, 0.4120159566085497],\n",
       " 'FFKs_decorrelated[15]': [-0.0024896079028688925, 0.6736846799884643],\n",
       " 'FFKs_decorrelated[16]': [-0.0003045440063334311, 0.7324442100739335],\n",
       " 'FFKs_decorrelated[17]': [-0.0007788726934753296, 0.7150102173413906],\n",
       " 'FFKs_decorrelated[18]': [1.6820428337277395e-05, 0.9809336092332686]}"
      ]
     },
     "execution_count": 5,
     "metadata": {},
     "output_type": "execute_result"
    }
   ],
   "source": [
    "fixed = model.config.suggested_fixed()\n",
    "fixed[model.config.par_map['mu']['slice']] = [True]\n",
    "\n",
    "# for i in range(3, 19):\n",
    "#     fixed[model.config.par_map[f'FFKs_decorrelated[{i}]']['slice']] = [True]\n",
    "\n",
    "# for i in range(3, 8):\n",
    "#     fixed[model.config.par_map[f'FFK_decorrelated[{i}]']['slice']] = [True]\n",
    "\n",
    "init = model.config.suggested_init()\n",
    "init[model.config.par_map['cvl']['slice']] = [10]\n",
    "init[model.config.par_map['cvr']['slice']] = [4]\n",
    "init[model.config.par_map['csl']['slice']] = [3]\n",
    "init[model.config.par_map['csr']['slice']] = [1]\n",
    "init[model.config.par_map['ctl']['slice']] = [1]\n",
    "\n",
    "pyhf.set_backend(\"numpy\", pyhf.optimize.scipy_optimizer())\n",
    "best_fit = pyhf.infer.mle.fit(data, model, fixed_params=fixed, init_pars=init)\n",
    "pyhf.set_backend(\"numpy\", pyhf.optimize.minuit_optimizer(verbose=True, strategy=2))\n",
    "best_fit, twice_nll, OptimizeResult = pyhf.infer.mle.fit(\n",
    "    data,\n",
    "    model,\n",
    "    init_pars=best_fit.tolist(),\n",
    "    fixed_params=fixed,\n",
    "    return_uncertainties=True,\n",
    "    return_fitted_val=True,\n",
    "    return_result_obj=True\n",
    "    )\n",
    "\n",
    "best_fit_dict = modifier.par_dict(model, best_fit)\n",
    "best_fit_dict\n"
   ]
  },
  {
   "cell_type": "code",
   "execution_count": 4,
   "metadata": {},
   "outputs": [
    {
     "data": {
      "image/png": "[encoded data removed]",
      "text/plain": [
       "<Figure size 800x550 with 1 Axes>"
      ]
     },
     "metadata": {},
     "output_type": "display_data"
    }
   ],
   "source": [
    "plt.stairs(model.expected_actualdata(model.config.suggested_init()))\n",
    "plt.stairs(model.expected_actualdata(best_fit[:,0]))\n",
    "x = np.linspace(0.5, 17.5, 18)\n",
    "plt.plot(x, data[:18], 'og')\n",
    "plt.yscale('log')"
   ]
  },
  {
   "cell_type": "code",
   "execution_count": null,
   "metadata": {},
   "outputs": [],
   "source": []
  }
 ],
 "metadata": {
  "kernelspec": {
   "display_name": "Python 3 (ipykernel)",
   "language": "python",
   "name": "python3"
  },
  "language_info": {
   "codemirror_mode": {
    "name": "ipython",
    "version": 3
   },
   "file_extension": ".py",
   "mimetype": "text/x-python",
   "name": "python",
   "nbconvert_exporter": "python",
   "pygments_lexer": "ipython3",
   "version": "3.10.0"
  }
 },
 "nbformat": 4,
 "nbformat_minor": 2
}
