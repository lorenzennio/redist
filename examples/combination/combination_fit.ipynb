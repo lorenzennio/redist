{
 "cells": [
  {
   "cell_type": "code",
   "execution_count": 1,
   "metadata": {},
   "outputs": [
    {
     "name": "stderr",
     "output_type": "stream",
     "text": [
      "/tmp/user/20892/ipykernel_3368731/3656946913.py:5: DeprecationWarning: \n",
      "Pyarrow will become a required dependency of pandas in the next major release of pandas (pandas 3.0),\n",
      "(to allow more performant data types, such as the Arrow string type, and better interoperability with other libraries)\n",
      "but was not found to be installed on your system.\n",
      "If this would cause problems for you,\n",
      "please provide us feedback at https://github.com/pandas-dev/pandas/issues/54466\n",
      "        \n",
      "  import pandas as pd\n"
     ]
    }
   ],
   "source": [
    "%reload_ext autoreload\n",
    "%autoreload 2\n",
    "\n",
    "import numpy as np\n",
    "import pandas as pd\n",
    "from copy import deepcopy\n",
    "import pyhf\n",
    "import eos\n",
    "import matplotlib.pyplot as plt\n",
    "from redist import modifier\n",
    "from redist import plot\n",
    "\n",
    "import sys, os\n",
    "path2add = os.path.abspath(os.path.join(os.getcwd(), os.path.pardir))\n",
    "if (not (path2add in sys.path)) :\n",
    "    sys.path.append(path2add)\n",
    "    \n",
    "from knunu import knunu_utils\n",
    "from ksnunu import ksnunu_utils"
   ]
  },
  {
   "cell_type": "markdown",
   "metadata": {},
   "source": [
    "# Combining $B \\to K \\nu \\nu$ and $B \\to K^* \\nu \\nu$ in terms of the WET"
   ]
  },
  {
   "cell_type": "code",
   "execution_count": 2,
   "metadata": {},
   "outputs": [],
   "source": [
    "files       = ['../knunu/knunu_model.json', '../ksnunu/ksnunu_model.json']\n",
    "alt_dists   = [knunu_utils.alt_pred().distribution, ksnunu_utils.alt_pred().distribution]\n",
    "null_dists  = [knunu_utils.null_pred().distribution, ksnunu_utils.null_pred().distribution]\n",
    "\n",
    "\n",
    "model, data = modifier.combine(files, alt_dists, null_dists, return_data=True)"
   ]
  },
  {
   "cell_type": "code",
   "execution_count": 3,
   "metadata": {},
   "outputs": [
    {
     "name": "stdout",
     "output_type": "stream",
     "text": [
      "W MnPosDef Matrix forced pos-def by adding to diagonal 0.0388025\n",
      "W MnPosDef Matrix forced pos-def by adding to diagonal 0.0192415\n",
      "W MnPosDef Matrix forced pos-def by adding to diagonal 0.0193776\n"
     ]
    },
    {
     "data": {
      "text/plain": [
       "{'cvl': array([10.23201583,  0.06907874]),\n",
       " 'cvr': array([3.836926  , 0.10078374]),\n",
       " 'csl': array([1.98389803, 0.24438352]),\n",
       " 'csr': array([1.98390167, 0.24536953]),\n",
       " 'ctl': array([0.94809656, 0.02036953]),\n",
       " 'FFK_decorrelated[0]': array([0.15298485, 0.74286652]),\n",
       " 'FFK_decorrelated[1]': array([0.1867815, 0.6731246]),\n",
       " 'FFK_decorrelated[2]': array([-0.15588629,  0.39895545]),\n",
       " 'FFK_decorrelated[3]': array([0.0293944 , 0.96635678]),\n",
       " 'FFK_decorrelated[4]': array([0.07394686, 0.7940167 ]),\n",
       " 'FFK_decorrelated[5]': array([0.04897611, 0.58511469]),\n",
       " 'FFK_decorrelated[6]': array([-0.01176353,  0.9662898 ]),\n",
       " 'FFK_decorrelated[7]': array([0.0400873 , 0.84288924]),\n",
       " 'mu': array([1., 0.]),\n",
       " 'stat': [[0.9980131359464, 0.008695955238540776],\n",
       "  [1.0037850477427612, 0.006666964273072784],\n",
       "  [1.0014082645624856, 0.0058976630067677505],\n",
       "  [0.9959538183304808, 0.005685563664403148],\n",
       "  [0.9971963856722724, 0.00556326042558819],\n",
       "  [1.0016321234174663, 0.005480779109332423],\n",
       "  [1.0027111335369496, 0.005497560601193996],\n",
       "  [1.0009093593475873, 0.005853603061301893],\n",
       "  [0.9989894880302844, 0.00719266999526097],\n",
       "  [0.9988494587036069, 0.011049572606334601],\n",
       "  [0.9986298604498932, 0.007017798771124739],\n",
       "  [1.0031798293840866, 0.006581029890480539],\n",
       "  [0.9940599435714789, 0.008051918278307035],\n",
       "  [1.0097558386519767, 0.01081658854381784],\n",
       "  [0.9977201207172578, 0.014380673928201193],\n",
       "  [0.9983134941231278, 0.020138766793336038],\n",
       "  [0.9930224741637778, 0.030613853658787826],\n",
       "  [0.9886818315119333, 0.053067126986804714]],\n",
       " 'FFKs_decorrelated[0]': array([0.16568672, 0.04979585]),\n",
       " 'FFKs_decorrelated[1]': array([-0.10252127,  0.09964152]),\n",
       " 'FFKs_decorrelated[2]': array([0.18875955, 0.13020968]),\n",
       " 'FFKs_decorrelated[3]': array([0.15040085, 0.34142476]),\n",
       " 'FFKs_decorrelated[4]': array([0.11295806, 0.21747019]),\n",
       " 'FFKs_decorrelated[5]': array([0.04858996, 0.8597721 ]),\n",
       " 'FFKs_decorrelated[6]': array([0.04161127, 0.29097091]),\n",
       " 'FFKs_decorrelated[7]': array([0.20044845, 0.32395758]),\n",
       " 'FFKs_decorrelated[8]': array([0.16580723, 0.18329663]),\n",
       " 'FFKs_decorrelated[9]': array([0.0792858 , 0.13836379]),\n",
       " 'FFKs_decorrelated[10]': array([-0.02093686,  0.51758752]),\n",
       " 'FFKs_decorrelated[11]': array([0.18250437, 0.12222907]),\n",
       " 'FFKs_decorrelated[12]': array([-0.23343136,  0.1569763 ]),\n",
       " 'FFKs_decorrelated[13]': array([-0.01019585,  0.90871939]),\n",
       " 'FFKs_decorrelated[14]': array([0.01105622, 0.41429731]),\n",
       " 'FFKs_decorrelated[15]': array([0.02442523, 0.65499806]),\n",
       " 'FFKs_decorrelated[16]': array([-0.03776735,  0.71651398]),\n",
       " 'FFKs_decorrelated[17]': array([-0.01434115,  0.73037023]),\n",
       " 'FFKs_decorrelated[18]': array([-0.00642649,  0.97677959])}"
      ]
     },
     "execution_count": 3,
     "metadata": {},
     "output_type": "execute_result"
    }
   ],
   "source": [
    "fixed = model.config.suggested_fixed()\n",
    "fixed[model.config.par_map['mu']['slice']] = [True]\n",
    "\n",
    "# for i in range(3, 19):\n",
    "#     fixed[model.config.par_map[f'FFKs_decorrelated[{i}]']['slice']] = [True]\n",
    "\n",
    "# for i in range(3, 8):\n",
    "#     fixed[model.config.par_map[f'FFK_decorrelated[{i}]']['slice']] = [True]\n",
    "\n",
    "pyhf.set_backend(\"numpy\", pyhf.optimize.scipy_optimizer())\n",
    "best_fit = pyhf.infer.mle.fit(data, model, fixed_params=fixed)\n",
    "pyhf.set_backend(\"numpy\", pyhf.optimize.minuit_optimizer(verbose=True, strategy=2))\n",
    "best_fit, twice_nll, OptimizeResult = pyhf.infer.mle.fit(\n",
    "    data,\n",
    "    model,\n",
    "    init_pars=best_fit.tolist(),\n",
    "    fixed_params=fixed,\n",
    "    return_uncertainties=True,\n",
    "    return_fitted_val=True,\n",
    "    return_result_obj=True\n",
    "    )\n",
    "\n",
    "best_fit_dict = modifier.par_dict(model, best_fit)\n",
    "best_fit_dict\n"
   ]
  },
  {
   "cell_type": "code",
   "execution_count": 4,
   "metadata": {},
   "outputs": [
    {
     "data": {
      "image/png": "[encoded data removed]",
      "text/plain": [
       "<Figure size 800x550 with 1 Axes>"
      ]
     },
     "metadata": {},
     "output_type": "display_data"
    }
   ],
   "source": [
    "plt.stairs(model.expected_actualdata(model.config.suggested_init()))\n",
    "plt.stairs(model.expected_actualdata(best_fit[:,0]))\n",
    "x = np.linspace(0.5, 17.5, 18)\n",
    "plt.plot(x, data[:18], 'og')\n",
    "plt.yscale('log')"
   ]
  },
  {
   "cell_type": "code",
   "execution_count": null,
   "metadata": {},
   "outputs": [],
   "source": []
  }
 ],
 "metadata": {
  "kernelspec": {
   "display_name": "Python 3 (ipykernel)",
   "language": "python",
   "name": "python3"
  },
  "language_info": {
   "codemirror_mode": {
    "name": "ipython",
    "version": 3
   },
   "file_extension": ".py",
   "mimetype": "text/x-python",
   "name": "python",
   "nbconvert_exporter": "python",
   "pygments_lexer": "ipython3",
   "version": "3.10.0"
  }
 },
 "nbformat": 4,
 "nbformat_minor": 2
}
