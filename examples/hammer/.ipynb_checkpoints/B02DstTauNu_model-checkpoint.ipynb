{
 "cells": [
  {
   "cell_type": "code",
   "execution_count": 1,
   "id": "ff67a864",
   "metadata": {},
   "outputs": [],
   "source": [
    "## import some modules between which also our hammer_fit\n",
    "\n",
    "import numpy as np\n",
    "import pyhf\n",
    "import matplotlib.pyplot as plt\n",
    "import json\n",
    "from redist import modifier\n",
    "from redist import modifier_hammer"
   ]
  },
  {
   "cell_type": "code",
   "execution_count": 2,
   "id": "cbbe6eda",
   "metadata": {},
   "outputs": [
    {
     "ename": "TypeError",
     "evalue": "expected bytes, dict found",
     "output_type": "error",
     "traceback": [
      "\u001b[0;31m---------------------------------------------------------------------------\u001b[0m",
      "\u001b[0;31mTypeError\u001b[0m                                 Traceback (most recent call last)",
      "Cell \u001b[0;32mIn[2], line 9\u001b[0m\n\u001b[1;32m      6\u001b[0m reader \u001b[38;5;241m=\u001b[39m modifier_hammer\u001b[38;5;241m.\u001b[39mReader(\u001b[38;5;124m\"\u001b[39m\u001b[38;5;124m./B02DstTauNu_config.json\u001b[39m\u001b[38;5;124m\"\u001b[39m)\n\u001b[1;32m      8\u001b[0m \u001b[38;5;66;03m# createFitter produces a fitter object able handle the hammer histograms and produce the templates\u001b[39;00m\n\u001b[0;32m----> 9\u001b[0m fitter \u001b[38;5;241m=\u001b[39m \u001b[43mreader\u001b[49m\u001b[38;5;241;43m.\u001b[39;49m\u001b[43mcreateFitter\u001b[49m\u001b[43m(\u001b[49m\u001b[43m)\u001b[49m\n\u001b[1;32m     11\u001b[0m \u001b[38;5;66;03m# store in your fitter your data (this is not necessary as you can always fit external data)\u001b[39;00m\n\u001b[1;32m     12\u001b[0m \u001b[38;5;66;03m# the parameters are defined in the json file and here we produce a SM like toy we aim to fit\u001b[39;00m\n\u001b[1;32m     13\u001b[0m params_toy \u001b[38;5;241m=\u001b[39m {\u001b[38;5;124m\"\u001b[39m\u001b[38;5;124mSM\u001b[39m\u001b[38;5;124m\"\u001b[39m : \u001b[38;5;241m1.\u001b[39m, \u001b[38;5;124m\"\u001b[39m\u001b[38;5;124mRe_S_qLlL\u001b[39m\u001b[38;5;124m\"\u001b[39m : \u001b[38;5;241m0.\u001b[39m, \u001b[38;5;124m\"\u001b[39m\u001b[38;5;124mIm_S_qLlL\u001b[39m\u001b[38;5;124m\"\u001b[39m : \u001b[38;5;241m0.\u001b[39m, \u001b[38;5;124m\"\u001b[39m\u001b[38;5;124mRe_S_qRlL\u001b[39m\u001b[38;5;124m\"\u001b[39m : \u001b[38;5;241m0.\u001b[39m, \u001b[38;5;124m\"\u001b[39m\u001b[38;5;124mIm_S_qRlL\u001b[39m\u001b[38;5;124m\"\u001b[39m : \u001b[38;5;241m0.\u001b[39m,  \u001b[38;5;124m\"\u001b[39m\u001b[38;5;124mRe_V_qLlL\u001b[39m\u001b[38;5;124m\"\u001b[39m : \u001b[38;5;241m0.\u001b[39m, \u001b[38;5;124m\"\u001b[39m\u001b[38;5;124mIm_V_qLlL\u001b[39m\u001b[38;5;124m\"\u001b[39m : \u001b[38;5;241m0.\u001b[39m , \u001b[38;5;124m\"\u001b[39m\u001b[38;5;124mRe_V_qRlL\u001b[39m\u001b[38;5;124m\"\u001b[39m : \u001b[38;5;241m0.\u001b[39m, \u001b[38;5;124m\"\u001b[39m\u001b[38;5;124mIm_V_qRlL\u001b[39m\u001b[38;5;124m\"\u001b[39m : \u001b[38;5;241m0.\u001b[39m, \u001b[38;5;124m\"\u001b[39m\u001b[38;5;124mRe_T_qLlL\u001b[39m\u001b[38;5;124m\"\u001b[39m : \u001b[38;5;241m0.\u001b[39m, \u001b[38;5;124m\"\u001b[39m\u001b[38;5;124mIm_T_qLlL\u001b[39m\u001b[38;5;124m\"\u001b[39m : \u001b[38;5;241m0.\u001b[39m, \u001b[38;5;124m\"\u001b[39m\u001b[38;5;124mdelta_RhoSq\u001b[39m\u001b[38;5;124m\"\u001b[39m : \u001b[38;5;241m0.\u001b[39m, \u001b[38;5;124m\"\u001b[39m\u001b[38;5;124mdelta_cSt\u001b[39m\u001b[38;5;124m\"\u001b[39m : \u001b[38;5;241m0.\u001b[39m, \u001b[38;5;124m\"\u001b[39m\u001b[38;5;124mdelta_chi21\u001b[39m\u001b[38;5;124m\"\u001b[39m : \u001b[38;5;241m0.\u001b[39m, \u001b[38;5;124m\"\u001b[39m\u001b[38;5;124mdelta_chi2p\u001b[39m\u001b[38;5;124m\"\u001b[39m : \u001b[38;5;241m0.\u001b[39m, \u001b[38;5;124m\"\u001b[39m\u001b[38;5;124mdelta_chi3p\u001b[39m\u001b[38;5;124m\"\u001b[39m : \u001b[38;5;241m0.\u001b[39m, \u001b[38;5;124m\"\u001b[39m\u001b[38;5;124mdelta_eta1\u001b[39m\u001b[38;5;124m\"\u001b[39m : \u001b[38;5;241m0.\u001b[39m, \u001b[38;5;124m\"\u001b[39m\u001b[38;5;124mdelta_etap\u001b[39m\u001b[38;5;124m\"\u001b[39m : \u001b[38;5;241m0.\u001b[39m, \u001b[38;5;124m\"\u001b[39m\u001b[38;5;124mdelta_phi1p\u001b[39m\u001b[38;5;124m\"\u001b[39m : \u001b[38;5;241m0.\u001b[39m, \u001b[38;5;124m\"\u001b[39m\u001b[38;5;124mdelta_beta21\u001b[39m\u001b[38;5;124m\"\u001b[39m : \u001b[38;5;241m0.\u001b[39m, \u001b[38;5;124m\"\u001b[39m\u001b[38;5;124mdelta_beta3p\u001b[39m\u001b[38;5;124m\"\u001b[39m : \u001b[38;5;241m0.\u001b[39m,\u001b[38;5;124m\"\u001b[39m\u001b[38;5;124mlumi\u001b[39m\u001b[38;5;124m\"\u001b[39m : \u001b[38;5;241m1.\u001b[39m}\n",
      "File \u001b[0;32m~/.conda/envs/env_2024_11_25/lib/python3.10/site-packages/redist/modifier_hammer.py:770\u001b[0m, in \u001b[0;36mReader.createFitter\u001b[0;34m(self, verbose)\u001b[0m\n\u001b[1;32m    768\u001b[0m \u001b[38;5;28;01mif\u001b[39;00m is_hammer_weighted:\n\u001b[1;32m    769\u001b[0m     \u001b[38;5;28;01mfor\u001b[39;00m fileName \u001b[38;5;129;01min\u001b[39;00m fileNames:\n\u001b[0;32m--> 770\u001b[0m         hac_list\u001b[38;5;241m.\u001b[39mappend(\u001b[43mHammerCacher\u001b[49m\u001b[43m(\u001b[49m\u001b[43mfileName\u001b[49m\u001b[43m,\u001b[49m\u001b[43m \u001b[49m\u001b[43mhistoname\u001b[49m\u001b[43m,\u001b[49m\u001b[43m \u001b[49m\u001b[43mffscheme\u001b[49m\u001b[43m,\u001b[49m\u001b[43m \u001b[49m\u001b[43mwcscheme\u001b[49m\u001b[43m,\u001b[49m\u001b[43m \u001b[49m\u001b[43mformfactors\u001b[49m\u001b[43m,\u001b[49m\u001b[43m \u001b[49m\u001b[43m_wilsoncoefficients\u001b[49m\u001b[43m,\u001b[49m\u001b[43m \u001b[49m\u001b[43mscalefactor\u001b[49m\u001b[43m,\u001b[49m\u001b[43m \u001b[49m\u001b[43mhisto_infos\u001b[49m\u001b[43m)\u001b[49m)\n\u001b[1;32m    771\u001b[0m     cacher \u001b[38;5;241m=\u001b[39m MultiHammerCacher(hac_list)\n\u001b[1;32m    772\u001b[0m     \u001b[38;5;28;01mif\u001b[39;00m wcscheme \u001b[38;5;241m==\u001b[39m \u001b[38;5;124m\"\u001b[39m\u001b[38;5;124mBtoCTauNu\u001b[39m\u001b[38;5;124m\"\u001b[39m:\n",
      "File \u001b[0;32m~/.conda/envs/env_2024_11_25/lib/python3.10/site-packages/redist/modifier_hammer.py:210\u001b[0m, in \u001b[0;36mHammerCacher.__init__\u001b[0;34m(self, fileName, histoName, FFscheme, WilsonSet, FormFactors, WilsonCoefficients, scaleFactor, histo_infos, verbose)\u001b[0m\n\u001b[1;32m    208\u001b[0m \u001b[38;5;28mself\u001b[39m\u001b[38;5;241m.\u001b[39m_ham\u001b[38;5;241m.\u001b[39mset_ff_eigenvectors(\u001b[38;5;124m\"\u001b[39m\u001b[38;5;124mBtoD*\u001b[39m\u001b[38;5;124m\"\u001b[39m,\u001b[38;5;124m\"\u001b[39m\u001b[38;5;124mBLPRXPVar\u001b[39m\u001b[38;5;124m\"\u001b[39m,\u001b[38;5;28mself\u001b[39m\u001b[38;5;241m.\u001b[39m_FFs)\n\u001b[1;32m    209\u001b[0m \u001b[38;5;28mself\u001b[39m\u001b[38;5;241m.\u001b[39m_ham\u001b[38;5;241m.\u001b[39mset_wilson_coefficients(\u001b[38;5;28mself\u001b[39m\u001b[38;5;241m.\u001b[39m_WilsonSet, \u001b[38;5;28mself\u001b[39m\u001b[38;5;241m.\u001b[39m_wcs)\n\u001b[0;32m--> 210\u001b[0m \u001b[38;5;28mself\u001b[39m\u001b[38;5;241m.\u001b[39m_histo \u001b[38;5;241m=\u001b[39m \u001b[38;5;28;43mself\u001b[39;49m\u001b[38;5;241;43m.\u001b[39;49m\u001b[43m_ham\u001b[49m\u001b[38;5;241;43m.\u001b[39;49m\u001b[43mget_histogram\u001b[49m\u001b[43m(\u001b[49m\u001b[43mhistoName\u001b[49m\u001b[43m,\u001b[49m\u001b[43m \u001b[49m\u001b[43mFFscheme\u001b[49m\u001b[43m)\u001b[49m\n\u001b[1;32m    211\u001b[0m dims \u001b[38;5;241m=\u001b[39m \u001b[38;5;28mself\u001b[39m\u001b[38;5;241m.\u001b[39m_ham\u001b[38;5;241m.\u001b[39mget_histogram_shape(histoName)\n\u001b[1;32m    212\u001b[0m dims \u001b[38;5;241m=\u001b[39m dims[\u001b[38;5;241m1\u001b[39m:] \u001b[38;5;241m+\u001b[39m dims[:\u001b[38;5;241m1\u001b[39m]\n",
      "File \u001b[0;32mhammerlib.pyx:889\u001b[0m, in \u001b[0;36mhammerlib.Hammer.get_histogram\u001b[0;34m()\u001b[0m\n",
      "File \u001b[0;32m<stringsource>:15\u001b[0m, in \u001b[0;36mstring.from_py.__pyx_convert_string_from_py_6libcpp_6string_std__in_string\u001b[0;34m()\u001b[0m\n",
      "\u001b[0;31mTypeError\u001b[0m: expected bytes, dict found"
     ]
    }
   ],
   "source": [
    "# you can define your fitter in a json file and it will contain all the informations about:\n",
    "#   - WCs to pass to Hammer\n",
    "#   - FF parametrization in use\n",
    "#   - the location of the file containing the hammer histograms\n",
    "\n",
    "reader = modifier_hammer.Reader(\"./B02DstTauNu_config.json\")\n",
    "\n",
    "# createFitter produces a fitter object able handle the hammer histograms and produce the templates\n",
    "fitter = reader.createFitter()\n",
    "\n",
    "# store in your fitter your data (this is not necessary as you can always fit external data)\n",
    "# the parameters are defined in the json file and here we produce a SM like toy we aim to fit\n",
    "params_toy = {\"SM\" : 1., \"Re_S_qLlL\" : 0., \"Im_S_qLlL\" : 0., \"Re_S_qRlL\" : 0., \"Im_S_qRlL\" : 0.,  \"Re_V_qLlL\" : 0., \"Im_V_qLlL\" : 0. , \"Re_V_qRlL\" : 0., \"Im_V_qRlL\" : 0., \"Re_T_qLlL\" : 0., \"Im_T_qLlL\" : 0., \"delta_RhoSq\" : 0., \"delta_cSt\" : 0., \"delta_chi21\" : 0., \"delta_chi2p\" : 0., \"delta_chi3p\" : 0., \"delta_eta1\" : 0., \"delta_etap\" : 0., \"delta_phi1p\" : 0., \"delta_beta21\" : 0., \"delta_beta3p\" : 0.,\"lumi\" : 1.}\n",
    "toy_data = fitter._template_list[0].generate_toy(**params_toy) + fitter._template_list[1].generate_toy(**params_toy)\n",
    "\n",
    "fitter.upload_data(toy_data)"
   ]
  },
  {
   "cell_type": "code",
   "execution_count": null,
   "id": "b6fa0569",
   "metadata": {
    "scrolled": false
   },
   "outputs": [],
   "source": [
    "# let's look to what is now inside the fitter object\n",
    "# - a toy dataset (Data)\n",
    "# - a template for B2DstTauNu varying with the WCs and the FFs\n",
    "# - a template for B2DstMuNu varying with the FFs (NP in tau-mode only)\n",
    "fitter.plot(**params_toy)"
   ]
  },
  {
   "cell_type": "code",
   "execution_count": null,
   "id": "38ca4e00",
   "metadata": {},
   "outputs": [],
   "source": [
    "# definition of the alternative model (the nul model is stored in the fitter object)\n",
    "SM_dist = fitter.nul_pdf()\n",
    "\n",
    "def NP_dist(**kwargs):\n",
    "    params_NP = {\"SM\" : kwargs[\"SM\"], \"Re_S_qLlL\" : kwargs[\"Re_S_qLlL\"], \"Im_S_qLlL\" : kwargs[\"Im_S_qLlL\"], \"Re_S_qRlL\" : kwargs[\"Re_S_qRlL\"], \"Im_S_qRlL\" : kwargs[\"Im_S_qRlL\"],  \"Re_V_qLlL\" : kwargs[\"Re_V_qLlL\"], \"Im_V_qLlL\" : kwargs[\"Im_V_qLlL\"], \"Re_V_qRlL\" : kwargs[\"Re_V_qRlL\"], \"Im_V_qRlL\" : kwargs[\"Im_V_qRlL\"], \"Re_T_qLlL\" : kwargs[\"Re_T_qLlL\"], \"Im_T_qLlL\" : kwargs[\"Im_T_qLlL\"],\"delta_RhoSq\" : kwargs[\"FFs[8]\"], \"delta_cSt\" : kwargs[\"FFs[0]\"], \"delta_chi21\" : kwargs[\"FFs[6]\"], \"delta_chi2p\" : kwargs[\"FFs[2]\"], \"delta_chi3p\" : kwargs[\"FFs[9]\"], \"delta_eta1\" : kwargs[\"FFs[7]\"], \"delta_etap\" : kwargs[\"FFs[3]\"], \"delta_phi1p\" : kwargs[\"FFs[1]\"], \"delta_beta21\" : kwargs[\"FFs[5]\"], \"delta_beta3p\" : kwargs[\"FFs[4]\"],\"lumi\" : 1.}\n",
    "    res = np.zeros(fitter._template_list[0]._nobs)\n",
    "    for temp in fitter._template_list:\n",
    "        res += temp.generate_template(**params_NP)\n",
    "    return res"
   ]
  },
  {
   "cell_type": "code",
   "execution_count": null,
   "id": "f8ccf32e",
   "metadata": {},
   "outputs": [],
   "source": [
    "# Definition of the custom modifiers as the Wilson coefficients and the eigenvectors of the FFs\n",
    "\n",
    "new_params = {\n",
    "                'SM'   :{'inits': (1.,), 'bounds': ((0., 10.),), 'paramset_type': 'unconstrained'},\n",
    "                'Re_S_qLlL'   :{'inits': (0.,), 'bounds': ((-1.,1.),), 'paramset_type': 'unconstrained'},\n",
    "                'Im_S_qLlL'   :{'inits': (0.,), 'bounds': ((-2.,2.),), 'paramset_type': 'unconstrained'},\n",
    "                'Re_S_qRlL'   :{'inits': (0.,), 'bounds': ((-1.,1.),), 'paramset_type': 'unconstrained'},\n",
    "                'Im_S_qRlL'   :{'inits': (0.,), 'bounds': ((-2.,2.),), 'paramset_type': 'unconstrained'},\n",
    "                'Re_V_qLlL'   :{'inits': (0.,), 'bounds': ((-0.3,0.3),), 'paramset_type': 'unconstrained'},\n",
    "                'Im_V_qLlL'   :{'inits': (0.,), 'bounds': ((-1.,1.),), 'paramset_type': 'unconstrained'},\n",
    "                'Re_V_qRlL'   :{'inits': (0.,), 'bounds': ((-0.3,0.3),), 'paramset_type': 'unconstrained'},\n",
    "                'Im_V_qRlL'   :{'inits': (0.,), 'bounds': ((-1.,1.),), 'paramset_type': 'unconstrained'},\n",
    "                'Re_T_qLlL'   :{'inits': (0.,), 'bounds': ((-0.1,0.1),), 'paramset_type': 'unconstrained'},\n",
    "                'Im_T_qLlL'   :{'inits': (0.,), 'bounds': ((-0.2,0.2),), 'paramset_type': 'unconstrained'},\n",
    "                'FFs'         :{'inits': (0.,0.,0.,0.,0.,0.,0.,0.,0.,0.), 'bounds': (),\n",
    "                                'cov': [[0.05*0.05,0.,0.,0.,0.,0.,0.,0.,0.,0.],\n",
    "                                        [0.,0.05*0.05,0.,0.,0.,0.,0.,0.,0.,0.],\n",
    "                                        [0.,0.,0.05*0.05,0.,0.,0.,0.,0.,0.,0.],\n",
    "                                        [0.,0.,0.,0.05*0.05,0.,0.,0.,0.,0.,0.],\n",
    "                                        [0.,0.,0.,0.,0.05*0.05,0.,0.,0.,0.,0.],\n",
    "                                        [0.,0.,0.,0.,0.,0.05*0.05,0.,0.,0.,0.],\n",
    "                                        [0.,0.,0.,0.,0.,0.,0.05*0.05,0.,0.,0.],\n",
    "                                        [0.,0.,0.,0.,0.,0.,0.,0.05*0.05,0.,0.],\n",
    "                                        [0.,0.,0.,0.,0.,0.,0.,0.,0.05*0.05,0.],\n",
    "                                        [0.,0.,0.,0.,0.,0.,0.,0.,0.,0.05*0.05],],\n",
    "                                'paramset_type': 'constrained_by_normal'}\n",
    "                }         \n",
    "\n",
    "\n",
    "cmod = modifier_hammer.Modifier_Hammer(new_params, NP_dist, SM_dist)"
   ]
  },
  {
   "cell_type": "code",
   "execution_count": null,
   "id": "e6a27ce6",
   "metadata": {},
   "outputs": [],
   "source": [
    "# create and save the pyhf model\n",
    "\n",
    "data_init = SM_dist()\n",
    "\n",
    "spec = {\n",
    "  \"channels\": [\n",
    "    {\n",
    "      \"name\": \"doublechannel\",\n",
    "      \"samples\": [\n",
    "        {\n",
    "          \"name\": \"signal\",\n",
    "          \"data\": data_init.tolist(),\n",
    "          \"modifiers\": [\n",
    "            {\n",
    "                \"name\": \"mu\",\n",
    "                \"type\": \"normfactor\",\n",
    "                \"data\": None\n",
    "            }\n",
    "          ]\n",
    "        },\n",
    "      ]\n",
    "    } \n",
    "  ]\n",
    "}\n",
    "\n",
    "\n",
    "model = pyhf.Model(spec)\n",
    "custom_mod = {\n",
    "                \"name\": \"custom_modifier\",\n",
    "                \"type\": \"custom\",\n",
    "                \"data\":\n",
    "                    {\n",
    "                        \"expr\": \"custom_weight_fn\",\n",
    "                    }\n",
    "              }\n",
    "\n",
    "model = modifier.add_to_model(model, ['doublechannel'], ['signal'], cmod.expanded_pyhf, custom_mod)\n",
    "modifier_hammer.save_hammer('B02DstTauNu_model.json', model.spec, [cmod], fitter._data.tolist())"
   ]
  }
 ],
 "metadata": {
  "kernelspec": {
   "display_name": "Python 3 (ipykernel)",
   "language": "python",
   "name": "python3"
  },
  "language_info": {
   "codemirror_mode": {
    "name": "ipython",
    "version": 3
   },
   "file_extension": ".py",
   "mimetype": "text/x-python",
   "name": "python",
   "nbconvert_exporter": "python",
   "pygments_lexer": "ipython3",
   "version": "3.10.12"
  }
 },
 "nbformat": 4,
 "nbformat_minor": 5
}
