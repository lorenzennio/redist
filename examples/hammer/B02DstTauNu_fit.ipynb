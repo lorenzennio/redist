{
 "cells": [
  {
   "cell_type": "code",
   "execution_count": 1,
   "id": "112436b2",
   "metadata": {},
   "outputs": [],
   "source": [
    "## import some modules between which also our hammer_fit\n",
    "\n",
    "import numpy as np\n",
    "import pyhf\n",
    "import matplotlib.pyplot as plt\n",
    "import json\n",
    "from redist import modifier\n",
    "from redist import hammer_fit"
   ]
  },
  {
   "cell_type": "code",
   "execution_count": 2,
   "id": "2a6f0f8d",
   "metadata": {},
   "outputs": [],
   "source": [
    "# you can define your fitter in a json file and it will contain all the informations about:\n",
    "#   - WCs to pass to Hammer\n",
    "#   - FF parametrization in use\n",
    "#   - the location of the file containing the hammer histograms\n",
    "\n",
    "reader = hammer_fit.Reader(\"./B02DstTauNu_config.json\")\n",
    "\n",
    "# createFitter produces a fitter object able handle the hammer histograms and produce the templates\n",
    "fitter = reader.createFitter()\n",
    "\n",
    "# store in your fitter your data (this is not necessary as you can always fit external data)\n",
    "# the parameters are defined in the json file and here we produce a SM like toy we aim to fit\n",
    "params_toy = {\"SM\" : 1., \"Re_S_qLlL\" : 0., \"Im_S_qLlL\" : 0., \"Re_S_qRlL\" : 0., \"Im_S_qRlL\" : 0.,  \"Re_V_qLlL\" : 0., \"Im_V_qLlL\" : 0. , \"Re_V_qRlL\" : 0., \"Im_V_qRlL\" : 0., \"Re_T_qLlL\" : 0., \"Im_T_qLlL\" : 0., \"delta_RhoSq\" : 0., \"delta_cSt\" : 0., \"delta_chi21\" : 0., \"delta_chi2p\" : 0., \"delta_chi3p\" : 0., \"delta_eta1\" : 0., \"delta_etap\" : 0., \"delta_phi1p\" : 0., \"delta_beta21\" : 0., \"delta_beta3p\" : 0.,\"lumi\" : 1.}\n",
    "toy_data = fitter._template_list[0].generate_toy(**params_toy) + fitter._template_list[1].generate_toy(**params_toy)\n",
    "\n",
    "fitter.upload_data(toy_data)"
   ]
  },
  {
   "cell_type": "code",
   "execution_count": 3,
   "id": "f654fac3",
   "metadata": {},
   "outputs": [],
   "source": [
    "# definition of the alternative model (the nul model is stored in the fitter object)\n",
    "SM_dist = fitter.nul_pdf()\n",
    "\n",
    "def NP_dist(**kwargs):\n",
    "    params_NP = {\"SM\" : kwargs[\"SM\"], \"Re_S_qLlL\" : kwargs[\"Re_S_qLlL\"], \"Im_S_qLlL\" : kwargs[\"Im_S_qLlL\"], \"Re_S_qRlL\" : kwargs[\"Re_S_qRlL\"], \"Im_S_qRlL\" : kwargs[\"Im_S_qRlL\"],  \"Re_V_qLlL\" : kwargs[\"Re_V_qLlL\"], \"Im_V_qLlL\" : kwargs[\"Im_V_qLlL\"], \"Re_V_qRlL\" : kwargs[\"Re_V_qRlL\"], \"Im_V_qRlL\" : kwargs[\"Im_V_qRlL\"], \"Re_T_qLlL\" : kwargs[\"Re_T_qLlL\"], \"Im_T_qLlL\" : kwargs[\"Im_T_qLlL\"],\"delta_RhoSq\" : kwargs[\"FFs[8]\"], \"delta_cSt\" : kwargs[\"FFs[0]\"], \"delta_chi21\" : kwargs[\"FFs[6]\"], \"delta_chi2p\" : kwargs[\"FFs[2]\"], \"delta_chi3p\" : kwargs[\"FFs[9]\"], \"delta_eta1\" : kwargs[\"FFs[7]\"], \"delta_etap\" : kwargs[\"FFs[3]\"], \"delta_phi1p\" : kwargs[\"FFs[1]\"], \"delta_beta21\" : kwargs[\"FFs[5]\"], \"delta_beta3p\" : kwargs[\"FFs[4]\"],\"lumi\" : 1.}\n",
    "    res = np.zeros(fitter._template_list[0]._nobs)\n",
    "    for temp in fitter._template_list:\n",
    "        res += temp.generate_template(**params_NP)\n",
    "    return res"
   ]
  },
  {
   "cell_type": "code",
   "execution_count": 4,
   "id": "5993f666",
   "metadata": {},
   "outputs": [],
   "source": [
    "# loading of the model created in B02DstTauNu_model.ipynb\n",
    "model, alt_yields = hammer_fit.load_hammer('B02DstTauNu_model.json', NP_dist, SM_dist, return_data=True)\n",
    "data = alt_yields + model.config.auxdata"
   ]
  },
  {
   "cell_type": "code",
   "execution_count": 5,
   "id": "f7635d8f",
   "metadata": {},
   "outputs": [],
   "source": [
    "# defining the starting values of the d.o.f.\n",
    "init = model.config.suggested_init()\n",
    "init[0] = 1. #SM\n",
    "init[1] = 0. #ReSLL\n",
    "init[2] = 0. #ImSLL\n",
    "init[3] = 0. #ReSRL\n",
    "init[4] = 0. #ImSRL\n",
    "init[5] = 0. #ReVLL\n",
    "init[6] = 0. #ImVLL\n",
    "init[7] = 0. #ReVRL\n",
    "init[8] = 0. #ImVRL\n",
    "init[9] = 0. #ReTLL\n",
    "init[10] = 0. #ImTLL\n",
    "\n",
    "init[11] = 0. #FF1\n",
    "init[12] = 0. #FF2\n",
    "init[13] = 0. #FF3\n",
    "init[14] = 0. #FF4\n",
    "init[15] = 0. #FF5\n",
    "init[16] = 0. #FF6\n",
    "init[17] = 0. #FF7\n",
    "init[18] = 0. #FF8\n",
    "init[19] = 0. #FF9\n",
    "init[20] = 0. #FF10\n",
    "\n",
    "init[21] = 1. #mu nominal"
   ]
  },
  {
   "cell_type": "code",
   "execution_count": 6,
   "id": "03d7f0c0",
   "metadata": {},
   "outputs": [],
   "source": [
    "# fixing the values of some of the d.o.f. (here we want to fit the Tensor WC)\n",
    "fixed = model.config.suggested_fixed()\n",
    "#fixed[0] = True #SM\n",
    "fixed[1] = True #ReSLL\n",
    "fixed[2] = True #ImSLL\n",
    "fixed[3] = True #ReSRL\n",
    "fixed[4] = True #ImSRL\n",
    "fixed[5] = True #ReVLL\n",
    "fixed[6] = True #ImVLL\n",
    "fixed[7] = True #ReVRL\n",
    "fixed[8] = True #ImVRL\n",
    "#fixed[9] = True #ReTLL\n",
    "#fixed[10] = True #ImTLL\n",
    "\n",
    "#fixed[11] = True #FF1\n",
    "#fixed[12] = True #FF2\n",
    "#fixed[13] = True #FF3\n",
    "#fixed[14] = True #FF4\n",
    "#fixed[15] = True #FF5\n",
    "#fixed[16] = True #FF6\n",
    "#fixed[17] = True #FF7\n",
    "#fixed[18] = True #FF8\n",
    "#fixed[19] = True #FF9\n",
    "#fixed[20] = True #FF10\n",
    "fixed[21] = True # nomi mu"
   ]
  },
  {
   "cell_type": "code",
   "execution_count": 7,
   "id": "9d57d840",
   "metadata": {},
   "outputs": [
    {
     "name": "stderr",
     "output_type": "stream",
     "text": [
      "/home/mcolonna/.conda/envs/env_2024_11_25/lib/python3.10/site-packages/redist/hammer_fit.py:58: RuntimeWarning: invalid value encountered in divide\n",
      "  weights = np.array(alt_binned) / np.array(self.null_binned)\n"
     ]
    },
    {
     "name": "stdout",
     "output_type": "stream",
     "text": [
      "SM = 0.9966800963810507 +/- 0.0034006668159239917\n",
      "Re_S_qLlL = 0.0 +/- 0.0\n",
      "Im_S_qLlL = 0.0 +/- 0.0\n",
      "Re_S_qRlL = 0.0 +/- 0.0\n",
      "Im_S_qRlL = 0.0 +/- 0.0\n",
      "Re_V_qLlL = 0.0 +/- 0.0\n",
      "Im_V_qLlL = 0.0 +/- 0.0\n",
      "Re_V_qRlL = 0.0 +/- 0.0\n",
      "Im_V_qRlL = 0.0 +/- 0.0\n",
      "Re_T_qLlL = -0.0028327367995586833 +/- 0.003317981734413544\n",
      "Im_T_qLlL = -0.009100852661866995 +/- 0.03134921867718032\n",
      "FFs_decorrelated[0] = 0.2738007336711573 +/- 0.9727869835540026\n",
      "FFs_decorrelated[1] = -0.07557665148936826 +/- 0.9861742036568851\n",
      "FFs_decorrelated[2] = 0.17158081958766294 +/- 0.9216841813484493\n",
      "FFs_decorrelated[3] = 0.10367804280146958 +/- 0.9723653558669244\n",
      "FFs_decorrelated[4] = 0.10922334093868764 +/- 0.9817316331025636\n",
      "FFs_decorrelated[5] = 0.018727624395168035 +/- 0.9643325212672463\n",
      "FFs_decorrelated[6] = 0.24029162237180512 +/- 0.7991486965763861\n",
      "FFs_decorrelated[7] = 0.08546897077036839 +/- 0.9391713457053478\n",
      "FFs_decorrelated[8] = -0.08756687699131639 +/- 0.6282628298977726\n",
      "FFs_decorrelated[9] = 0.22345646684750053 +/- 0.9454429535632956\n",
      "mu = 1.0 +/- 0.0\n"
     ]
    }
   ],
   "source": [
    "# pyhf fit and print of the best values\n",
    "\n",
    "pyhf.set_backend(\"numpy\", pyhf.optimize.scipy_optimizer())\n",
    "best_fit = pyhf.infer.mle.fit(data, model, fixed_params=fixed, init_pars=init)\n",
    "pyhf.set_backend(\"numpy\", pyhf.optimize.minuit_optimizer(verbose=True, strategy=1))\n",
    "best_fit, twice_nll, OptimizeResult = pyhf.infer.mle.fit(\n",
    "    data,\n",
    "    model,\n",
    "    init_pars=best_fit.tolist(),\n",
    "    fixed_params=fixed,\n",
    "    return_uncertainties=True,\n",
    "    return_fitted_val=True,\n",
    "    return_result_obj=True\n",
    "    )\n",
    "\n",
    "best_fit_dict = modifier.par_dict(model, best_fit)\n",
    "for i in range(len(best_fit)):\n",
    "    print(f\"{model.main_model.modifiers_appliers['custom'].param_viewer.allpar_viewer.names[i]} = {best_fit[i][0]} +/- {best_fit[i][1]}\")"
   ]
  },
  {
   "cell_type": "code",
   "execution_count": null,
   "id": "3ec09f40",
   "metadata": {},
   "outputs": [],
   "source": []
  }
 ],
 "metadata": {
  "kernelspec": {
   "display_name": "Python 3 (ipykernel)",
   "language": "python",
   "name": "python3"
  },
  "language_info": {
   "codemirror_mode": {
    "name": "ipython",
    "version": 3
   },
   "file_extension": ".py",
   "mimetype": "text/x-python",
   "name": "python",
   "nbconvert_exporter": "python",
   "pygments_lexer": "ipython3",
   "version": "3.10.12"
  }
 },
 "nbformat": 4,
 "nbformat_minor": 5
}
