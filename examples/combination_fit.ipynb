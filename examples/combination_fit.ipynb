{
 "cells": [
  {
   "cell_type": "code",
   "execution_count": 5,
   "metadata": {},
   "outputs": [],
   "source": [
    "%reload_ext autoreload\n",
    "%autoreload 2\n",
    "\n",
    "import numpy as np\n",
    "import pandas as pd\n",
    "from copy import deepcopy\n",
    "import pyhf\n",
    "import eos\n",
    "import matplotlib.pyplot as plt\n",
    "from redist import modifier\n",
    "from redist import plot\n",
    "import knunu_utils \n",
    "import ksnunu_utils "
   ]
  },
  {
   "cell_type": "markdown",
   "metadata": {},
   "source": [
    "# Combining $B \\to K \\nu \\nu$ and $B \\to K^* \\nu \\nu$ in terms of the WET"
   ]
  },
  {
   "cell_type": "code",
   "execution_count": 6,
   "metadata": {},
   "outputs": [],
   "source": [
    "files       = ['knunu_model.json', 'ksnunu_model.json']\n",
    "alt_dists   = [knunu_utils.alt_pred().distribution, ksnunu_utils.alt_pred().distribution]\n",
    "null_dists  = [knunu_utils.null_pred().distribution, ksnunu_utils.null_pred().distribution]\n",
    "\n",
    "\n",
    "model, data = modifier.combine(files, alt_dists, null_dists, return_data=True)"
   ]
  },
  {
   "cell_type": "code",
   "execution_count": 7,
   "metadata": {},
   "outputs": [
    {
     "name": "stdout",
     "output_type": "stream",
     "text": [
      "W MnPosDef Matrix forced pos-def by adding to diagonal 0.404679\n",
      "W DavidonErrorUpdator delgam < 0 : first derivatives increasing along search line\n",
      "W VariableMetricBuilder Matrix not pos.def., try to make pos.def.\n",
      "W MnPosDef non-positive diagonal element in covariance matrix[ 2 ] = -3.68165e-05\n",
      "W MnPosDef Added to diagonal of Error matrix a value 0.500038\n",
      "W MnPosDef Matrix forced pos-def by adding to diagonal 0.015902\n",
      "W MnPosDef Matrix forced pos-def by adding to diagonal 0.0138964\n",
      "W MnPosDef Matrix forced pos-def by adding to diagonal 0.0133658\n",
      "W MnPosDef Matrix forced pos-def by adding to diagonal 0.0136127\n",
      "W MnPosDef Matrix forced pos-def by adding to diagonal 0.0334138\n"
     ]
    },
    {
     "data": {
      "text/plain": [
       "{'cvl': array([9.40902693, 0.10234802]),\n",
       " 'cvr': array([2.53495162, 0.11363363]),\n",
       " 'csl': array([2.52096033, 0.20801371]),\n",
       " 'csr': array([1.73859902, 0.20607018]),\n",
       " 'ctl': array([4.97272005, 0.00640351]),\n",
       " 'FFK_decorrelated[0]': array([0.02316893, 0.56201382]),\n",
       " 'FFK_decorrelated[1]': array([-0.01886065,  0.67259072]),\n",
       " 'FFK_decorrelated[2]': array([-0.00893412,  0.34277994]),\n",
       " 'FFK_decorrelated[3]': array([0.00844808, 0.85747712]),\n",
       " 'FFK_decorrelated[4]': array([-0.00528316,  0.84815161]),\n",
       " 'FFK_decorrelated[5]': array([0.00073598, 0.49436303]),\n",
       " 'FFK_decorrelated[6]': array([-0.002039  ,  0.76190282]),\n",
       " 'FFK_decorrelated[7]': array([-0.0015112 ,  0.85014272]),\n",
       " 'mu': array([1., 0.]),\n",
       " 'stat': [[0.9996550721282129, 0.004190809291151509],\n",
       "  [1.004922112250575, 0.003313805927789293],\n",
       "  [0.9992711463346943, 0.0027131861278316127],\n",
       "  [0.9956712198564738, 0.0026114605681244463],\n",
       "  [0.9965726360182224, 0.002800137467325936],\n",
       "  [1.0036233282004796, 0.003000075507505029],\n",
       "  [1.0015569940785385, 0.0030579031766769793],\n",
       "  [1.000877750358612, 0.003234545131274247],\n",
       "  [0.997415292896851, 0.004364704329187508],\n",
       "  [1.0011429654733321, 0.0068877496315448705],\n",
       "  [0.9998726243193469, 0.0071403438689149334],\n",
       "  [1.0020498155743884, 0.006873617481139738],\n",
       "  [0.991998917818362, 0.008259939845373987],\n",
       "  [1.0107670314943815, 0.010093094517754975],\n",
       "  [0.9982088877091907, 0.01278821354395121],\n",
       "  [0.9955331184210913, 0.0175040735316237],\n",
       "  [0.9988683056049497, 0.026131319714731094],\n",
       "  [1.0056303134866382, 0.045940602953350396]],\n",
       " 'FFKs_decorrelated[0]': array([-0.00055897,  0.43633511]),\n",
       " 'FFKs_decorrelated[1]': array([0.0544846 , 0.13847866]),\n",
       " 'FFKs_decorrelated[2]': array([0.06598836, 0.42907459]),\n",
       " 'FFKs_decorrelated[3]': array([0.03339198, 0.36292409]),\n",
       " 'FFKs_decorrelated[4]': array([0.14379979, 0.11755307]),\n",
       " 'FFKs_decorrelated[5]': array([0.10023712, 0.17677872]),\n",
       " 'FFKs_decorrelated[6]': array([-0.00189625,  0.38425214]),\n",
       " 'FFKs_decorrelated[7]': array([0.01830803, 0.19361782]),\n",
       " 'FFKs_decorrelated[8]': array([0.0187807, 0.6796007]),\n",
       " 'FFKs_decorrelated[9]': array([0.03648038, 0.37584917]),\n",
       " 'FFKs_decorrelated[10]': array([0.10315642, 0.16852495]),\n",
       " 'FFKs_decorrelated[11]': array([0.00120347, 0.04708917]),\n",
       " 'FFKs_decorrelated[12]': array([0.02868162, 0.07651608]),\n",
       " 'FFKs_decorrelated[13]': array([-0.01840656,  0.33248256]),\n",
       " 'FFKs_decorrelated[14]': array([-0.00731099,  0.05914142]),\n",
       " 'FFKs_decorrelated[15]': array([0.0038441, 0.7080502]),\n",
       " 'FFKs_decorrelated[16]': array([0.01071575, 0.49840339]),\n",
       " 'FFKs_decorrelated[17]': array([0.01714391, 0.08449332]),\n",
       " 'FFKs_decorrelated[18]': array([0.003077  , 0.22917774])}"
      ]
     },
     "execution_count": 7,
     "metadata": {},
     "output_type": "execute_result"
    }
   ],
   "source": [
    "fixed = model.config.suggested_fixed()\n",
    "fixed[model.config.par_map['mu']['slice']] = [True]\n",
    "\n",
    "# for i in range(3, 19):\n",
    "#     fixed[model.config.par_map[f'FFKs_decorrelated[{i}]']['slice']] = [True]\n",
    "\n",
    "# for i in range(3, 8):\n",
    "#     fixed[model.config.par_map[f'FFK_decorrelated[{i}]']['slice']] = [True]\n",
    "\n",
    "pyhf.set_backend(\"numpy\", pyhf.optimize.scipy_optimizer())\n",
    "best_fit = pyhf.infer.mle.fit(data, model, fixed_params=fixed)\n",
    "pyhf.set_backend(\"numpy\", pyhf.optimize.minuit_optimizer(verbose=True, strategy=2))\n",
    "best_fit, twice_nll, OptimizeResult = pyhf.infer.mle.fit(\n",
    "    data,\n",
    "    model,\n",
    "    init_pars=best_fit.tolist(),\n",
    "    fixed_params=fixed,\n",
    "    return_uncertainties=True,\n",
    "    return_fitted_val=True,\n",
    "    return_result_obj=True\n",
    "    )\n",
    "\n",
    "best_fit_dict = modifier.par_dict(model, best_fit)\n",
    "best_fit_dict\n"
   ]
  },
  {
   "cell_type": "code",
   "execution_count": 8,
   "metadata": {},
   "outputs": [
    {
     "data": {
      "image/png": "[encoded data removed]",
      "text/plain": [
       "<Figure size 800x550 with 1 Axes>"
      ]
     },
     "metadata": {},
     "output_type": "display_data"
    }
   ],
   "source": [
    "plt.stairs(model.expected_actualdata(model.config.suggested_init()))\n",
    "plt.stairs(model.expected_actualdata(best_fit[:,0]))\n",
    "x = np.linspace(0.5, 21.5, 22)\n",
    "plt.plot(x, data[:22], 'og')\n",
    "plt.yscale('log')"
   ]
  },
  {
   "cell_type": "code",
   "execution_count": null,
   "metadata": {},
   "outputs": [],
   "source": []
  }
 ],
 "metadata": {
  "kernelspec": {
   "display_name": "Python 3 (ipykernel)",
   "language": "python",
   "name": "python3"
  },
  "language_info": {
   "codemirror_mode": {
    "name": "ipython",
    "version": 3
   },
   "file_extension": ".py",
   "mimetype": "text/x-python",
   "name": "python",
   "nbconvert_exporter": "python",
   "pygments_lexer": "ipython3",
   "version": "3.10.0"
  }
 },
 "nbformat": 4,
 "nbformat_minor": 2
}
