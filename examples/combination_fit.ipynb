{
 "cells": [
  {
   "cell_type": "code",
   "execution_count": 1,
   "metadata": {},
   "outputs": [],
   "source": [
    "%reload_ext autoreload\n",
    "%autoreload 2\n",
    "\n",
    "import numpy as np\n",
    "import pandas as pd\n",
    "from copy import deepcopy\n",
    "import pyhf\n",
    "import eos\n",
    "import matplotlib.pyplot as plt\n",
    "from redist import modifier\n",
    "from redist import plot\n",
    "import knunu_utils \n",
    "import ksnunu_utils "
   ]
  },
  {
   "cell_type": "markdown",
   "metadata": {},
   "source": [
    "# Combining $B \\to K \\nu \\nu$ and $B \\to K^* \\nu \\nu$ in terms of the WET"
   ]
  },
  {
   "cell_type": "code",
   "execution_count": 2,
   "metadata": {},
   "outputs": [],
   "source": [
    "files       = ['knunu_model.json', 'ksnunu_model.json']\n",
    "alt_dists   = [knunu_utils.alt_pred().distribution, ksnunu_utils.alt_pred().distribution]\n",
    "null_dists  = [knunu_utils.null_pred().distribution, ksnunu_utils.null_pred().distribution]\n",
    "\n",
    "\n",
    "model, data = modifier.combine(files, alt_dists, null_dists, return_data=True)"
   ]
  },
  {
   "cell_type": "code",
   "execution_count": 3,
   "metadata": {},
   "outputs": [
    {
     "name": "stdout",
     "output_type": "stream",
     "text": [
      "W MnPosDef Matrix forced pos-def by adding to diagonal 1.1137\n",
      "W DavidonErrorUpdator delgam < 0 : first derivatives increasing along search line\n",
      "W VariableMetricBuilder Matrix not pos.def., try to make pos.def.\n",
      "W MnPosDef Matrix forced pos-def by adding to diagonal 0.662391\n",
      "W MnPosDef Matrix forced pos-def by adding to diagonal 0.0144268\n",
      "W MnPosDef Matrix forced pos-def by adding to diagonal 0.0163197\n",
      "W MnPosDef Matrix forced pos-def by adding to diagonal 0.041587\n"
     ]
    },
    {
     "data": {
      "text/plain": [
       "{'cvl': array([6.78543728, 0.09609082]),\n",
       " 'cvr': array([5.19412859, 0.10443912]),\n",
       " 'csl': array([2.97303077, 0.15029266]),\n",
       " 'csr': array([3.00457446, 0.15791822]),\n",
       " 'ctl': array([3.71131385e+00, 3.57136593e-03]),\n",
       " 'FFK_decorrelated[0]': array([-0.07300012,  0.61071608]),\n",
       " 'FFK_decorrelated[1]': array([0.72292929, 0.67946253]),\n",
       " 'FFK_decorrelated[2]': array([0.54036767, 0.33253307]),\n",
       " 'FFK_decorrelated[3]': array([-0.25835119,  0.90690532]),\n",
       " 'FFK_decorrelated[4]': array([0.19268601, 0.80988992]),\n",
       " 'FFK_decorrelated[5]': array([-0.33984347,  0.49146783]),\n",
       " 'FFK_decorrelated[6]': array([0.1940991 , 0.84626946]),\n",
       " 'FFK_decorrelated[7]': array([0.08902882, 0.80213109]),\n",
       " 'mu': array([1., 0.]),\n",
       " 'stat': [[0.9989104634559698, 0.0024564910521746586],\n",
       "  [1.002510366507021, 0.002056940944504815],\n",
       "  [1.0018801261803751, 0.0017677443860873998],\n",
       "  [0.9964027184703692, 0.001679992508334338],\n",
       "  [0.9961411558063611, 0.0017415597674701466],\n",
       "  [1.0033661856052547, 0.0018622610225730307],\n",
       "  [1.0038630480459187, 0.0019533083442548893],\n",
       "  [0.9970351517580656, 0.0021104311537844533],\n",
       "  [0.9981740653561865, 0.0028211194353577884],\n",
       "  [1.002622869978563, 0.004404283120834018],\n",
       "  [0.99512172563281, 0.007040847813382434],\n",
       "  [1.0071358649330657, 0.006813819410849575],\n",
       "  [1.0031632869272091, 0.008453201224973894],\n",
       "  [1.0216076599099535, 0.011086232959858222],\n",
       "  [0.9984161533793035, 0.014417190594609997],\n",
       "  [0.9680517027037722, 0.019205104486337554],\n",
       "  [0.9080408464277273, 0.026258666813885168],\n",
       "  [0.7984595660667195, 0.03946003001323195]],\n",
       " 'FFKs_decorrelated[0]': array([0.01363532, 0.29703231]),\n",
       " 'FFKs_decorrelated[1]': array([0.14418652, 0.122462  ]),\n",
       " 'FFKs_decorrelated[2]': array([-0.05637172,  0.25356121]),\n",
       " 'FFKs_decorrelated[3]': array([-0.04120028,  0.25747605]),\n",
       " 'FFKs_decorrelated[4]': array([0.29050912, 0.08209827]),\n",
       " 'FFKs_decorrelated[5]': array([0.2656675, 0.1291717]),\n",
       " 'FFKs_decorrelated[6]': array([0.04522122, 0.31237814]),\n",
       " 'FFKs_decorrelated[7]': array([0.00401979, 0.12032335]),\n",
       " 'FFKs_decorrelated[8]': array([-0.01290999,  0.55164888]),\n",
       " 'FFKs_decorrelated[9]': array([0.00081273, 0.30458392]),\n",
       " 'FFKs_decorrelated[10]': array([0.23313515, 0.11202637]),\n",
       " 'FFKs_decorrelated[11]': array([-0.51728048,  0.03679172]),\n",
       " 'FFKs_decorrelated[12]': array([-0.31251389,  0.05248437]),\n",
       " 'FFKs_decorrelated[13]': array([0.01063444, 0.22834264]),\n",
       " 'FFKs_decorrelated[14]': array([-0.41433841,  0.04030596]),\n",
       " 'FFKs_decorrelated[15]': array([0.0085679 , 0.60926875]),\n",
       " 'FFKs_decorrelated[16]': array([-0.01617758,  0.41128937]),\n",
       " 'FFKs_decorrelated[17]': array([-0.23728942,  0.0647753 ]),\n",
       " 'FFKs_decorrelated[18]': array([-0.10192851,  0.1595013 ])}"
      ]
     },
     "execution_count": 3,
     "metadata": {},
     "output_type": "execute_result"
    }
   ],
   "source": [
    "fixed = model.config.suggested_fixed()\n",
    "fixed[model.config.par_map['mu']['slice']] = [True]\n",
    "\n",
    "# for i in range(3, 19):\n",
    "#     fixed[model.config.par_map[f'FFKs_decorrelated[{i}]']['slice']] = [True]\n",
    "\n",
    "# for i in range(3, 8):\n",
    "#     fixed[model.config.par_map[f'FFK_decorrelated[{i}]']['slice']] = [True]\n",
    "\n",
    "pyhf.set_backend(\"numpy\", pyhf.optimize.scipy_optimizer())\n",
    "best_fit = pyhf.infer.mle.fit(data, model, fixed_params=fixed)\n",
    "pyhf.set_backend(\"numpy\", pyhf.optimize.minuit_optimizer(verbose=True, strategy=2))\n",
    "best_fit, twice_nll, OptimizeResult = pyhf.infer.mle.fit(\n",
    "    data,\n",
    "    model,\n",
    "    init_pars=best_fit.tolist(),\n",
    "    fixed_params=fixed,\n",
    "    return_uncertainties=True,\n",
    "    return_fitted_val=True,\n",
    "    return_result_obj=True\n",
    "    )\n",
    "\n",
    "best_fit_dict = modifier.par_dict(model, best_fit)\n",
    "best_fit_dict\n"
   ]
  },
  {
   "cell_type": "code",
   "execution_count": 5,
   "metadata": {},
   "outputs": [
    {
     "data": {
      "image/png": "[encoded data removed]",
      "text/plain": [
       "<Figure size 800x550 with 1 Axes>"
      ]
     },
     "metadata": {},
     "output_type": "display_data"
    }
   ],
   "source": [
    "plt.stairs(model.expected_actualdata(model.config.suggested_init()))\n",
    "plt.stairs(model.expected_actualdata(best_fit[:,0]))\n",
    "x = np.linspace(0.5, 21.5, 22)\n",
    "plt.plot(x, data[:22], 'og')\n",
    "plt.yscale('log')"
   ]
  },
  {
   "cell_type": "code",
   "execution_count": null,
   "metadata": {},
   "outputs": [],
   "source": []
  }
 ],
 "metadata": {
  "kernelspec": {
   "display_name": "Python 3 (ipykernel)",
   "language": "python",
   "name": "python3"
  },
  "language_info": {
   "codemirror_mode": {
    "name": "ipython",
    "version": 3
   },
   "file_extension": ".py",
   "mimetype": "text/x-python",
   "name": "python",
   "nbconvert_exporter": "python",
   "pygments_lexer": "ipython3",
   "version": "3.10.0"
  }
 },
 "nbformat": 4,
 "nbformat_minor": 2
}
