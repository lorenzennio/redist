{
 "cells": [
  {
   "cell_type": "code",
   "execution_count": 1,
   "metadata": {},
   "outputs": [],
   "source": [
    "%reload_ext autoreload\n",
    "%autoreload 2\n",
    "\n",
    "import numpy as np\n",
    "import pandas as pd\n",
    "from copy import deepcopy\n",
    "import pyhf\n",
    "import eos\n",
    "import matplotlib.pyplot as plt\n",
    "from redist import modifier\n",
    "from redist import plot\n",
    "import knunu_utils \n",
    "import ksnunu_utils "
   ]
  },
  {
   "cell_type": "markdown",
   "metadata": {},
   "source": [
    "# Combining $B \\to K \\nu \\nu$ and $B \\to K^* \\nu \\nu$ in terms of the WET"
   ]
  },
  {
   "cell_type": "code",
   "execution_count": 2,
   "metadata": {},
   "outputs": [],
   "source": [
    "files       = ['knunu_model.json', 'ksnunu_model.json']\n",
    "alt_dists   = [knunu_utils.alt_pred().distribution, ksnunu_utils.alt_pred().distribution]\n",
    "null_dists  = [knunu_utils.null_pred().distribution, ksnunu_utils.null_pred().distribution]\n",
    "\n",
    "\n",
    "model, data = modifier.combine(files, alt_dists, null_dists, return_data=True)"
   ]
  },
  {
   "cell_type": "code",
   "execution_count": 3,
   "metadata": {},
   "outputs": [
    {
     "name": "stdout",
     "output_type": "stream",
     "text": [
      "W MnPosDef Matrix forced pos-def by adding to diagonal 0.79154\n",
      "W MnPosDef Matrix forced pos-def by adding to diagonal 0.0145767\n",
      "W MnPosDef Matrix forced pos-def by adding to diagonal 0.0133757\n",
      "W MnPosDef Matrix forced pos-def by adding to diagonal 0.0135634\n",
      "W MnPosDef Matrix forced pos-def by adding to diagonal 0.0530572\n"
     ]
    },
    {
     "data": {
      "text/plain": [
       "{'cvl': array([8.83171244, 0.06290475]),\n",
       " 'cvr': array([3.11327832, 0.08724438]),\n",
       " 'csl': array([2.14142288, 0.19234219]),\n",
       " 'csr': array([2.14078238, 0.19238035]),\n",
       " 'ctl': array([4.97570027e+00, 4.19256290e-03]),\n",
       " 'FFK_decorrelated[0]': array([0.01766997, 0.49837011]),\n",
       " 'FFK_decorrelated[1]': array([-0.03164653,  0.63844905]),\n",
       " 'FFK_decorrelated[2]': array([-0.00756077,  0.29180561]),\n",
       " 'FFK_decorrelated[3]': array([0.01083593, 0.82314256]),\n",
       " 'FFK_decorrelated[4]': array([-0.01121707,  0.80709736]),\n",
       " 'FFK_decorrelated[5]': array([0.00265508, 0.43433027]),\n",
       " 'FFK_decorrelated[6]': array([-0.00646384,  0.71518798]),\n",
       " 'FFK_decorrelated[7]': array([-0.00407331,  0.80320076]),\n",
       " 'mu': array([1., 0.]),\n",
       " 'stat': [[0.9993396608367564, 0.0023979096143919576],\n",
       "  [1.0025893143124844, 0.0019529531192924443],\n",
       "  [1.0017104314316334, 0.0016870421469727948],\n",
       "  [0.9961656601118687, 0.0016351451843371612],\n",
       "  [0.9959813114652508, 0.0016917388581624282],\n",
       "  [1.003383186606185, 0.0017882053391047315],\n",
       "  [1.0040814723463707, 0.0018664866504657374],\n",
       "  [0.9973464700304873, 0.0020538996019875966],\n",
       "  [0.9982499296949342, 0.0027817155836534213],\n",
       "  [1.0020627400395132, 0.004342291527451192],\n",
       "  [0.9999309968674673, 0.006945809016423721],\n",
       "  [1.0019634470651373, 0.006884781480827329],\n",
       "  [0.9919620478364142, 0.008479742005459312],\n",
       "  [1.0107385211772588, 0.010660992269963976],\n",
       "  [0.9981701239257902, 0.013758195388882066],\n",
       "  [0.995569600581069, 0.01902486756575761],\n",
       "  [0.9991141519771487, 0.028586080599310948],\n",
       "  [1.008649788900186, 0.05141228174525264]],\n",
       " 'FFKs_decorrelated[0]': array([-0.02413568,  0.32473456]),\n",
       " 'FFKs_decorrelated[1]': array([0.12793507, 0.07730811]),\n",
       " 'FFKs_decorrelated[2]': array([0.10481936, 0.3178473 ]),\n",
       " 'FFKs_decorrelated[3]': array([0.07612187, 0.23565723]),\n",
       " 'FFKs_decorrelated[4]': array([0.21705886, 0.07146344]),\n",
       " 'FFKs_decorrelated[5]': array([0.12508945, 0.12591613]),\n",
       " 'FFKs_decorrelated[6]': array([0.00314062, 0.2605733 ]),\n",
       " 'FFKs_decorrelated[7]': array([0.03124911, 0.12669589]),\n",
       " 'FFKs_decorrelated[8]': array([0.05345132, 0.48898306]),\n",
       " 'FFKs_decorrelated[9]': array([0.07404157, 0.25795672]),\n",
       " 'FFKs_decorrelated[10]': array([0.14394612, 0.11806281]),\n",
       " 'FFKs_decorrelated[11]': array([0.03474653, 0.02769976]),\n",
       " 'FFKs_decorrelated[12]': array([0.04064051, 0.05197725]),\n",
       " 'FFKs_decorrelated[13]': array([-0.01147474,  0.23095165]),\n",
       " 'FFKs_decorrelated[14]': array([-0.01532428,  0.03720999]),\n",
       " 'FFKs_decorrelated[15]': array([-3.52246723e-04,  6.32999032e-01]),\n",
       " 'FFKs_decorrelated[16]': array([0.02372754, 0.38232732]),\n",
       " 'FFKs_decorrelated[17]': array([0.03588781, 0.05176386]),\n",
       " 'FFKs_decorrelated[18]': array([0.00687155, 0.16462485])}"
      ]
     },
     "execution_count": 3,
     "metadata": {},
     "output_type": "execute_result"
    }
   ],
   "source": [
    "fixed = model.config.suggested_fixed()\n",
    "fixed[model.config.par_map['mu']['slice']] = [True]\n",
    "\n",
    "# for i in range(3, 19):\n",
    "#     fixed[model.config.par_map[f'FFKs_decorrelated[{i}]']['slice']] = [True]\n",
    "\n",
    "# for i in range(3, 8):\n",
    "#     fixed[model.config.par_map[f'FFK_decorrelated[{i}]']['slice']] = [True]\n",
    "\n",
    "pyhf.set_backend(\"numpy\", pyhf.optimize.scipy_optimizer())\n",
    "best_fit = pyhf.infer.mle.fit(data, model, fixed_params=fixed)\n",
    "pyhf.set_backend(\"numpy\", pyhf.optimize.minuit_optimizer(verbose=True, strategy=2))\n",
    "best_fit, twice_nll, OptimizeResult = pyhf.infer.mle.fit(\n",
    "    data,\n",
    "    model,\n",
    "    init_pars=best_fit.tolist(),\n",
    "    fixed_params=fixed,\n",
    "    return_uncertainties=True,\n",
    "    return_fitted_val=True,\n",
    "    return_result_obj=True\n",
    "    )\n",
    "\n",
    "best_fit_dict = modifier.par_dict(model, best_fit)\n",
    "best_fit_dict\n"
   ]
  },
  {
   "cell_type": "code",
   "execution_count": 4,
   "metadata": {},
   "outputs": [
    {
     "data": {
      "text/plain": [
       "[<matplotlib.lines.Line2D at 0x1541fac88040>]"
      ]
     },
     "execution_count": 4,
     "metadata": {},
     "output_type": "execute_result"
    },
    {
     "data": {
      "image/png": "[encoded data removed]",
      "text/plain": [
       "<Figure size 800x550 with 1 Axes>"
      ]
     },
     "metadata": {},
     "output_type": "display_data"
    }
   ],
   "source": [
    "plt.stairs(model.expected_actualdata(model.config.suggested_init()))\n",
    "plt.stairs(model.expected_actualdata(best_fit[:,0]))\n",
    "x = np.linspace(0.5, 21.5, 22)\n",
    "plt.plot(x, data[:22], 'og')"
   ]
  },
  {
   "cell_type": "code",
   "execution_count": null,
   "metadata": {},
   "outputs": [],
   "source": []
  }
 ],
 "metadata": {
  "kernelspec": {
   "display_name": "Python 3 (ipykernel)",
   "language": "python",
   "name": "python3"
  }
 },
 "nbformat": 4,
 "nbformat_minor": 2
}
