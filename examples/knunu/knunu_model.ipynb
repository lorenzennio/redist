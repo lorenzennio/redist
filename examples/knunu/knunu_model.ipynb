{
 "cells": [
  {
   "cell_type": "code",
   "execution_count": 1,
   "metadata": {},
   "outputs": [
    {
     "name": "stderr",
     "output_type": "stream",
     "text": [
      "/tmp/user/20892/ipykernel_3360665/433355628.py:5: DeprecationWarning: \n",
      "Pyarrow will become a required dependency of pandas in the next major release of pandas (pandas 3.0),\n",
      "(to allow more performant data types, such as the Arrow string type, and better interoperability with other libraries)\n",
      "but was not found to be installed on your system.\n",
      "If this would cause problems for you,\n",
      "please provide us feedback at https://github.com/pandas-dev/pandas/issues/54466\n",
      "        \n",
      "  import pandas as pd\n"
     ]
    }
   ],
   "source": [
    "%reload_ext autoreload\n",
    "%autoreload 2\n",
    "\n",
    "import numpy as np\n",
    "import pandas as pd\n",
    "import pyhf\n",
    "import eos\n",
    "import matplotlib.pyplot as plt\n",
    "from matplotlib.colors import LogNorm\n",
    "from redist import modifier\n",
    "from redist import plot\n",
    "from knunu_utils import * "
   ]
  },
  {
   "cell_type": "markdown",
   "metadata": {},
   "source": [
    "# Reinterpreting $B \\to K \\nu \\nu$ in terms of the WET\n",
    "\n",
    "Here the differential branching ratio prediction is a function of one kinematic variable: $q^2$.\n",
    "\n",
    "We use $q^2$ also as the fitting variable, but with a different binning than for the reweighting."
   ]
  },
  {
   "cell_type": "markdown",
   "metadata": {},
   "source": [
    "## Define the binning"
   ]
  },
  {
   "cell_type": "code",
   "execution_count": 2,
   "metadata": {},
   "outputs": [],
   "source": [
    "binning = np.linspace(0.0, 22.9, 8+1) \n",
    "bin_cents = (binning[:-1] + binning[1:])/2\n",
    "q2binning = np.linspace(0.0, 22.9, 24+1)\n",
    "# q2binning = np.linspace(0.0, 22.9, 1+1)"
   ]
  },
  {
   "cell_type": "markdown",
   "metadata": {},
   "source": [
    "## Define the NP model in WC space"
   ]
  },
  {
   "cell_type": "code",
   "execution_count": 3,
   "metadata": {},
   "outputs": [],
   "source": [
    "cvl = 14.0\n",
    "cvr = 0.0\n",
    "csl = 4.0\n",
    "csr = 0.0\n",
    "ctl = 1.0"
   ]
  },
  {
   "cell_type": "markdown",
   "metadata": {},
   "source": [
    "## Compute number of samples to produce"
   ]
  },
  {
   "cell_type": "code",
   "execution_count": 4,
   "metadata": {},
   "outputs": [],
   "source": [
    "# current lumi\n",
    "lc = 362\n",
    "\n",
    "# total lumi\n",
    "lf = 50000\n",
    "\n",
    "# current BB evts\n",
    "ec = 387e6\n",
    "\n",
    "# total BB evts\n",
    "et = ec * lf / lc"
   ]
  },
  {
   "cell_type": "markdown",
   "metadata": {},
   "source": [
    "## Generate some SM samples"
   ]
  },
  {
   "cell_type": "code",
   "execution_count": 5,
   "metadata": {},
   "outputs": [
    {
     "name": "stderr",
     "output_type": "stream",
     "text": [
      "/filer/z-sv-pool12c/l/Lorenz.Gaertner/micromamba/envs/redist/lib/python3.10/site-packages/tqdm/auto.py:21: TqdmWarning: IProgress not found. Please update jupyter and ipywidgets. See https://ipywidgets.readthedocs.io/en/stable/user_install.html\n",
      "  from .autonotebook import tqdm as notebook_tqdm\n",
      "                                                           \r"
     ]
    }
   ],
   "source": [
    "p = analysis().parameters\n",
    "k = eos.Kinematics(q2=1.0, q2_min=0.0, q2_max=22.90)\n",
    "o = eos.Options(**{'form-factors': 'BSZ2015', 'model': 'WET'})\n",
    "\n",
    "pdf = eos.SignalPDF.make('B^-->K^-nunu::dGamma/dq2', p, k, o)\n",
    "obs = eos.Observable.make('B->Knunu::BR', p, k, o)\n",
    "SMBR = obs.evaluate()\n",
    "\n",
    "# SMsamples = int(ec*SMBR)\n",
    "SMsamples = int(et*SMBR)\n",
    "\n",
    "null_samples, pdf_values = pdf.sample_mcmc(SMsamples, stride=5, pre_N=10000, preruns=5, cov_scale=0.1, rng=np.random.mtrand.RandomState(seed=8888))"
   ]
  },
  {
   "cell_type": "code",
   "execution_count": 6,
   "metadata": {},
   "outputs": [],
   "source": [
    "# Smear samples with Gaussian resolution\n",
    "np.random.seed(2222)\n",
    "null_samples_smeared = np.random.normal(null_samples, 1.0, null_samples.shape)\n",
    "null_samples_smeared = np.abs(null_samples_smeared)"
   ]
  },
  {
   "cell_type": "code",
   "execution_count": 7,
   "metadata": {},
   "outputs": [
    {
     "data": {
      "image/png": "[encoded data removed]",
      "text/plain": [
       "<Figure size 800x550 with 1 Axes>"
      ]
     },
     "metadata": {},
     "output_type": "display_data"
    }
   ],
   "source": [
    "# plot efficiency\n",
    "plt.plot(bin_cents, efficiency(bin_cents), \"o\")\n",
    "\n",
    "plt.xlabel(r'$q^2$')\n",
    "plt.ylabel(r'$\\varepsilon$')\n",
    "plt.show()"
   ]
  },
  {
   "cell_type": "markdown",
   "metadata": {},
   "source": [
    "## Generate some fake data according to some NP model\n",
    "\n",
    "Need to scale the number of samples here, because if NP would exist, we would also see a total different count of events."
   ]
  },
  {
   "cell_type": "code",
   "execution_count": 8,
   "metadata": {},
   "outputs": [
    {
     "name": "stderr",
     "output_type": "stream",
     "text": [
      "Pre-runs:   0%|          | 0/5 [00:00<?, ?it/s]"
     ]
    },
    {
     "name": "stderr",
     "output_type": "stream",
     "text": [
      "                                                           \r"
     ]
    }
   ],
   "source": [
    "p['sbnunu::Re{cVL}'].set(cvl)\n",
    "p['sbnunu::Re{cVR}'].set(cvr)\n",
    "p['sbnunu::Re{cSL}'].set(csl)\n",
    "p['sbnunu::Re{cSR}'].set(csr)\n",
    "p['sbnunu::Re{cTL}'].set(ctl)\n",
    "\n",
    "\n",
    "BSMBR = obs.evaluate()\n",
    "\n",
    "BSMsamples = int(SMsamples*BSMBR/SMBR)\n",
    "alt_samples, pdf_values = pdf.sample_mcmc(BSMsamples, stride=5, pre_N=10000, preruns=5, cov_scale=0.1, rng=np.random.mtrand.RandomState(seed=9999))"
   ]
  },
  {
   "cell_type": "code",
   "execution_count": 9,
   "metadata": {},
   "outputs": [],
   "source": [
    "# Smear samples with Gaussian resolution function\n",
    "np.random.seed(4444)\n",
    "alt_samples_smeared = np.random.normal(alt_samples, 1.0, alt_samples.shape)\n",
    "alt_samples_smeared = np.abs(alt_samples_smeared)"
   ]
  },
  {
   "cell_type": "markdown",
   "metadata": {},
   "source": [
    "### Plot samples and calculate yields"
   ]
  },
  {
   "cell_type": "code",
   "execution_count": 10,
   "metadata": {},
   "outputs": [
    {
     "data": {
      "image/png": "[encoded data removed]",
      "text/plain": [
       "<Figure size 800x550 with 1 Axes>"
      ]
     },
     "metadata": {},
     "output_type": "display_data"
    }
   ],
   "source": [
    "null_binned = np.histogram(null_samples, binning)[0]\n",
    "alt_binned  = np.histogram(alt_samples,  binning)[0]\n",
    "\n",
    "null_smeared_binned = np.histogram(null_samples_smeared, binning)[0]\n",
    "alt_smeared_binned  = np.histogram(alt_samples_smeared,  binning)[0]\n",
    "\n",
    "null_yields = np.histogram(null_samples_smeared, binning, weights = efficiency(null_samples_smeared))[0]\n",
    "alt_yields  = np.histogram(alt_samples_smeared,  binning, weights = efficiency(alt_samples_smeared) )[0]\n",
    "\n",
    "fig, ax = plt.subplots(1,1, sharex=True)\n",
    "\n",
    "ax.stairs(null_binned, binning, color='C0', linewidth=1.2, linestyle='solid', label='null')\n",
    "ax.stairs(alt_binned,  binning, color='C1', linewidth=1.2, linestyle='solid', label='alt.')\n",
    "ax.stairs(null_smeared_binned, binning, color='C0', linewidth=2.0, linestyle='dotted', label='null smeared')\n",
    "ax.stairs(alt_smeared_binned,  binning, color='C1', linewidth=2.0, linestyle='dotted', label='alt. smeared')\n",
    "ax.stairs(null_yields, binning, label='null smeared + efficiency', color='C0', linewidth=1.5, linestyle='dashed')\n",
    "ax.stairs(alt_yields,  binning, label='alt. smeared + efficiency', color='C1', linewidth=1.5, linestyle='dashed')\n",
    "\n",
    "ax.set_xlabel(r'$q_{rec}^2$ [GeV$^2$]')\n",
    "ax.set_ylabel(r'Events / 2.9 GeV$^2$')\n",
    "\n",
    "ax.set_yscale('log')\n",
    "ax.set_yscale('log')\n",
    "\n",
    "fig.legend(loc='upper center', bbox_to_anchor=(0.5, 1.05), ncol=3)\n",
    "\n",
    "file = '../results/knunu_data_sets.pdf'\n",
    "plt.savefig(file)\n",
    "\n",
    "plt.show()"
   ]
  },
  {
   "cell_type": "code",
   "execution_count": 11,
   "metadata": {},
   "outputs": [
    {
     "name": "stdout",
     "output_type": "stream",
     "text": [
      "# SM samples 257193\n",
      "# SM yields 32109.999161779066\n",
      "# BSM samples 1446849.0077089183\n",
      "# BSM yields 157808.2300026605\n",
      "ratio BSM/SM samples 5.625538050059365\n",
      "ratio BSM/SM yields 4.914613332986368\n"
     ]
    }
   ],
   "source": [
    "print('# SM samples', SMsamples)\n",
    "print('# SM yields', sum(null_yields))\n",
    "print('# BSM samples', BSMBR/SMBR * SMsamples)\n",
    "print('# BSM yields', sum(alt_yields))\n",
    "print('ratio BSM/SM samples', BSMBR/SMBR)\n",
    "print('ratio BSM/SM yields', sum(alt_yields)/sum(null_yields))"
   ]
  },
  {
   "cell_type": "markdown",
   "metadata": {},
   "source": [
    "## Set up the mapping distribution"
   ]
  },
  {
   "cell_type": "code",
   "execution_count": 12,
   "metadata": {},
   "outputs": [],
   "source": [
    "mapping_dist = modifier.map(null_samples_smeared.flatten(), [null_samples.flatten()], binning, [q2binning])\n",
    "mapping_dist = mapping_dist * efficiency(bin_cents)[:,np.newaxis]"
   ]
  },
  {
   "cell_type": "markdown",
   "metadata": {},
   "source": [
    "## Set up the custom modifier"
   ]
  },
  {
   "cell_type": "code",
   "execution_count": 13,
   "metadata": {},
   "outputs": [],
   "source": [
    "null = null_pred()\n",
    "alt = alt_pred()"
   ]
  },
  {
   "cell_type": "code",
   "execution_count": 14,
   "metadata": {},
   "outputs": [],
   "source": [
    "ana = analysis()\n",
    "\n",
    "fp0 = ana.parameters['B->K::alpha^f+_0@BSZ2015'].evaluate()\n",
    "fp1 = ana.parameters['B->K::alpha^f+_1@BSZ2015'].evaluate()\n",
    "fp2 = ana.parameters['B->K::alpha^f+_2@BSZ2015'].evaluate()\n",
    "f01 = ana.parameters['B->K::alpha^f0_1@BSZ2015'].evaluate()\n",
    "f02 = ana.parameters['B->K::alpha^f0_2@BSZ2015'].evaluate()\n",
    "fT0 = ana.parameters['B->K::alpha^fT_0@BSZ2015'].evaluate()\n",
    "fT1 = ana.parameters['B->K::alpha^fT_1@BSZ2015'].evaluate()\n",
    "fT2 = ana.parameters['B->K::alpha^fT_2@BSZ2015'].evaluate()"
   ]
  },
  {
   "cell_type": "code",
   "execution_count": 15,
   "metadata": {},
   "outputs": [
    {
     "name": "stderr",
     "output_type": "stream",
     "text": [
      "                                                           \r"
     ]
    },
    {
     "data": {
      "text/html": [
       "<style type=\"text/css\">\n",
       "#T_a7105_row0_col0, #T_a7105_row0_col1, #T_a7105_row0_col3, #T_a7105_row0_col4 {\n",
       "  background-color: #700320;\n",
       "  color: #f1f1f1;\n",
       "}\n",
       "#T_a7105_row0_col2 {\n",
       "  background-color: #6d0220;\n",
       "  color: #f1f1f1;\n",
       "}\n",
       "#T_a7105_row0_col5, #T_a7105_row0_col6, #T_a7105_row0_col7, #T_a7105_row5_col0, #T_a7105_row5_col1, #T_a7105_row5_col2, #T_a7105_row5_col3, #T_a7105_row5_col4 {\n",
       "  background-color: #67001f;\n",
       "  color: #f1f1f1;\n",
       "}\n",
       "#T_a7105_row1_col0 {\n",
       "  background-color: #f5f6f7;\n",
       "  color: #000000;\n",
       "}\n",
       "#T_a7105_row1_col1, #T_a7105_row6_col0 {\n",
       "  background-color: #fce0d0;\n",
       "  color: #000000;\n",
       "}\n",
       "#T_a7105_row1_col2 {\n",
       "  background-color: #f6b191;\n",
       "  color: #000000;\n",
       "}\n",
       "#T_a7105_row1_col3 {\n",
       "  background-color: #f8f2ef;\n",
       "  color: #000000;\n",
       "}\n",
       "#T_a7105_row1_col4 {\n",
       "  background-color: #fae8de;\n",
       "  color: #000000;\n",
       "}\n",
       "#T_a7105_row1_col5 {\n",
       "  background-color: #930e26;\n",
       "  color: #f1f1f1;\n",
       "}\n",
       "#T_a7105_row1_col6 {\n",
       "  background-color: #b1182b;\n",
       "  color: #f1f1f1;\n",
       "}\n",
       "#T_a7105_row1_col7 {\n",
       "  background-color: #b3192c;\n",
       "  color: #f1f1f1;\n",
       "}\n",
       "#T_a7105_row2_col0 {\n",
       "  background-color: #68abd0;\n",
       "  color: #f1f1f1;\n",
       "}\n",
       "#T_a7105_row2_col1, #T_a7105_row2_col2, #T_a7105_row4_col0, #T_a7105_row4_col3, #T_a7105_row4_col4, #T_a7105_row7_col5, #T_a7105_row7_col6, #T_a7105_row7_col7 {\n",
       "  background-color: #053061;\n",
       "  color: #f1f1f1;\n",
       "}\n",
       "#T_a7105_row2_col3 {\n",
       "  background-color: #65a9cf;\n",
       "  color: #f1f1f1;\n",
       "}\n",
       "#T_a7105_row2_col4 {\n",
       "  background-color: #529dc8;\n",
       "  color: #f1f1f1;\n",
       "}\n",
       "#T_a7105_row2_col5 {\n",
       "  background-color: #790622;\n",
       "  color: #f1f1f1;\n",
       "}\n",
       "#T_a7105_row2_col6 {\n",
       "  background-color: #d25849;\n",
       "  color: #f1f1f1;\n",
       "}\n",
       "#T_a7105_row2_col7 {\n",
       "  background-color: #f4a683;\n",
       "  color: #000000;\n",
       "}\n",
       "#T_a7105_row3_col0 {\n",
       "  background-color: #ddebf2;\n",
       "  color: #000000;\n",
       "}\n",
       "#T_a7105_row3_col1 {\n",
       "  background-color: #e48066;\n",
       "  color: #f1f1f1;\n",
       "}\n",
       "#T_a7105_row3_col2, #T_a7105_row4_col6 {\n",
       "  background-color: #bb2a34;\n",
       "  color: #f1f1f1;\n",
       "}\n",
       "#T_a7105_row3_col3 {\n",
       "  background-color: #ecf2f5;\n",
       "  color: #000000;\n",
       "}\n",
       "#T_a7105_row3_col4 {\n",
       "  background-color: #f8f4f2;\n",
       "  color: #000000;\n",
       "}\n",
       "#T_a7105_row3_col5 {\n",
       "  background-color: #ae172a;\n",
       "  color: #f1f1f1;\n",
       "}\n",
       "#T_a7105_row3_col6 {\n",
       "  background-color: #9c1127;\n",
       "  color: #f1f1f1;\n",
       "}\n",
       "#T_a7105_row3_col7 {\n",
       "  background-color: #840924;\n",
       "  color: #f1f1f1;\n",
       "}\n",
       "#T_a7105_row4_col1 {\n",
       "  background-color: #f9ebe3;\n",
       "  color: #000000;\n",
       "}\n",
       "#T_a7105_row4_col2 {\n",
       "  background-color: #e58368;\n",
       "  color: #f1f1f1;\n",
       "}\n",
       "#T_a7105_row4_col5 {\n",
       "  background-color: #c84440;\n",
       "  color: #f1f1f1;\n",
       "}\n",
       "#T_a7105_row4_col7 {\n",
       "  background-color: #a81529;\n",
       "  color: #f1f1f1;\n",
       "}\n",
       "#T_a7105_row5_col5 {\n",
       "  background-color: #960f27;\n",
       "  color: #f1f1f1;\n",
       "}\n",
       "#T_a7105_row5_col6 {\n",
       "  background-color: #870a24;\n",
       "  color: #f1f1f1;\n",
       "}\n",
       "#T_a7105_row5_col7 {\n",
       "  background-color: #810823;\n",
       "  color: #f1f1f1;\n",
       "}\n",
       "#T_a7105_row6_col1 {\n",
       "  background-color: #f2a17f;\n",
       "  color: #000000;\n",
       "}\n",
       "#T_a7105_row6_col2 {\n",
       "  background-color: #cf5246;\n",
       "  color: #f1f1f1;\n",
       "}\n",
       "#T_a7105_row6_col3 {\n",
       "  background-color: #fcdecd;\n",
       "  color: #000000;\n",
       "}\n",
       "#T_a7105_row6_col4 {\n",
       "  background-color: #fac8af;\n",
       "  color: #000000;\n",
       "}\n",
       "#T_a7105_row6_col5 {\n",
       "  background-color: #d8e9f1;\n",
       "  color: #000000;\n",
       "}\n",
       "#T_a7105_row6_col6 {\n",
       "  background-color: #f3f5f6;\n",
       "  color: #000000;\n",
       "}\n",
       "#T_a7105_row6_col7 {\n",
       "  background-color: #fbe3d4;\n",
       "  color: #000000;\n",
       "}\n",
       "#T_a7105_row7_col0, #T_a7105_row7_col3 {\n",
       "  background-color: #d1e5f0;\n",
       "  color: #000000;\n",
       "}\n",
       "#T_a7105_row7_col1 {\n",
       "  background-color: #8ac0db;\n",
       "  color: #000000;\n",
       "}\n",
       "#T_a7105_row7_col2 {\n",
       "  background-color: #acd2e5;\n",
       "  color: #000000;\n",
       "}\n",
       "#T_a7105_row7_col4 {\n",
       "  background-color: #d2e6f0;\n",
       "  color: #000000;\n",
       "}\n",
       "</style>\n",
       "<table id=\"T_a7105\">\n",
       "  <thead>\n",
       "    <tr>\n",
       "      <th class=\"blank level0\" >&nbsp;</th>\n",
       "      <th id=\"T_a7105_level0_col0\" class=\"col_heading level0 col0\" >0</th>\n",
       "      <th id=\"T_a7105_level0_col1\" class=\"col_heading level0 col1\" >1</th>\n",
       "      <th id=\"T_a7105_level0_col2\" class=\"col_heading level0 col2\" >2</th>\n",
       "      <th id=\"T_a7105_level0_col3\" class=\"col_heading level0 col3\" >3</th>\n",
       "      <th id=\"T_a7105_level0_col4\" class=\"col_heading level0 col4\" >4</th>\n",
       "      <th id=\"T_a7105_level0_col5\" class=\"col_heading level0 col5\" >5</th>\n",
       "      <th id=\"T_a7105_level0_col6\" class=\"col_heading level0 col6\" >6</th>\n",
       "      <th id=\"T_a7105_level0_col7\" class=\"col_heading level0 col7\" >7</th>\n",
       "    </tr>\n",
       "  </thead>\n",
       "  <tbody>\n",
       "    <tr>\n",
       "      <th id=\"T_a7105_level0_row0\" class=\"row_heading level0 row0\" >0</th>\n",
       "      <td id=\"T_a7105_row0_col0\" class=\"data row0 col0\" >0.000110</td>\n",
       "      <td id=\"T_a7105_row0_col1\" class=\"data row0 col1\" >0.000707</td>\n",
       "      <td id=\"T_a7105_row0_col2\" class=\"data row0 col2\" >0.001006</td>\n",
       "      <td id=\"T_a7105_row0_col3\" class=\"data row0 col3\" >0.000781</td>\n",
       "      <td id=\"T_a7105_row0_col4\" class=\"data row0 col4\" >0.001307</td>\n",
       "      <td id=\"T_a7105_row0_col5\" class=\"data row0 col5\" >0.000092</td>\n",
       "      <td id=\"T_a7105_row0_col6\" class=\"data row0 col6\" >0.000601</td>\n",
       "      <td id=\"T_a7105_row0_col7\" class=\"data row0 col7\" >0.000818</td>\n",
       "    </tr>\n",
       "    <tr>\n",
       "      <th id=\"T_a7105_level0_row1\" class=\"row_heading level0 row1\" >1</th>\n",
       "      <td id=\"T_a7105_row1_col0\" class=\"data row1 col0\" >0.000707</td>\n",
       "      <td id=\"T_a7105_row1_col1\" class=\"data row1 col1\" >0.009453</td>\n",
       "      <td id=\"T_a7105_row1_col2\" class=\"data row1 col2\" >0.021892</td>\n",
       "      <td id=\"T_a7105_row1_col3\" class=\"data row1 col3\" >0.005759</td>\n",
       "      <td id=\"T_a7105_row1_col4\" class=\"data row1 col4\" >0.010330</td>\n",
       "      <td id=\"T_a7105_row1_col5\" class=\"data row1 col5\" >0.000451</td>\n",
       "      <td id=\"T_a7105_row1_col6\" class=\"data row1 col6\" >0.006736</td>\n",
       "      <td id=\"T_a7105_row1_col7\" class=\"data row1 col7\" >0.015675</td>\n",
       "    </tr>\n",
       "    <tr>\n",
       "      <th id=\"T_a7105_level0_row2\" class=\"row_heading level0 row2\" >2</th>\n",
       "      <td id=\"T_a7105_row2_col0\" class=\"data row2 col0\" >0.001006</td>\n",
       "      <td id=\"T_a7105_row2_col1\" class=\"data row2 col1\" >0.021892</td>\n",
       "      <td id=\"T_a7105_row2_col2\" class=\"data row2 col2\" >0.067551</td>\n",
       "      <td id=\"T_a7105_row2_col3\" class=\"data row2 col3\" >0.008672</td>\n",
       "      <td id=\"T_a7105_row2_col4\" class=\"data row2 col4\" >0.017205</td>\n",
       "      <td id=\"T_a7105_row2_col5\" class=\"data row2 col5\" >0.000232</td>\n",
       "      <td id=\"T_a7105_row2_col6\" class=\"data row2 col6\" >0.012336</td>\n",
       "      <td id=\"T_a7105_row2_col7\" class=\"data row2 col7\" >0.044533</td>\n",
       "    </tr>\n",
       "    <tr>\n",
       "      <th id=\"T_a7105_level0_row3\" class=\"row_heading level0 row3\" >3</th>\n",
       "      <td id=\"T_a7105_row3_col0\" class=\"data row3 col0\" >0.000781</td>\n",
       "      <td id=\"T_a7105_row3_col1\" class=\"data row3 col1\" >0.005759</td>\n",
       "      <td id=\"T_a7105_row3_col2\" class=\"data row3 col2\" >0.008672</td>\n",
       "      <td id=\"T_a7105_row3_col3\" class=\"data row3 col3\" >0.006255</td>\n",
       "      <td id=\"T_a7105_row3_col4\" class=\"data row3 col4\" >0.011263</td>\n",
       "      <td id=\"T_a7105_row3_col5\" class=\"data row3 col5\" >0.000648</td>\n",
       "      <td id=\"T_a7105_row3_col6\" class=\"data row3 col6\" >0.005008</td>\n",
       "      <td id=\"T_a7105_row3_col7\" class=\"data row3 col7\" >0.007014</td>\n",
       "    </tr>\n",
       "    <tr>\n",
       "      <th id=\"T_a7105_level0_row4\" class=\"row_heading level0 row4\" >4</th>\n",
       "      <td id=\"T_a7105_row4_col0\" class=\"data row4 col0\" >0.001307</td>\n",
       "      <td id=\"T_a7105_row4_col1\" class=\"data row4 col1\" >0.010330</td>\n",
       "      <td id=\"T_a7105_row4_col2\" class=\"data row4 col2\" >0.017205</td>\n",
       "      <td id=\"T_a7105_row4_col3\" class=\"data row4 col3\" >0.011263</td>\n",
       "      <td id=\"T_a7105_row4_col4\" class=\"data row4 col4\" >0.021834</td>\n",
       "      <td id=\"T_a7105_row4_col5\" class=\"data row4 col5\" >0.001043</td>\n",
       "      <td id=\"T_a7105_row4_col6\" class=\"data row4 col6\" >0.008607</td>\n",
       "      <td id=\"T_a7105_row4_col7\" class=\"data row4 col7\" >0.013407</td>\n",
       "    </tr>\n",
       "    <tr>\n",
       "      <th id=\"T_a7105_level0_row5\" class=\"row_heading level0 row5\" >5</th>\n",
       "      <td id=\"T_a7105_row5_col0\" class=\"data row5 col0\" >0.000092</td>\n",
       "      <td id=\"T_a7105_row5_col1\" class=\"data row5 col1\" >0.000451</td>\n",
       "      <td id=\"T_a7105_row5_col2\" class=\"data row5 col2\" >0.000232</td>\n",
       "      <td id=\"T_a7105_row5_col3\" class=\"data row5 col3\" >0.000648</td>\n",
       "      <td id=\"T_a7105_row5_col4\" class=\"data row5 col4\" >0.001043</td>\n",
       "      <td id=\"T_a7105_row5_col5\" class=\"data row5 col5\" >0.000474</td>\n",
       "      <td id=\"T_a7105_row5_col6\" class=\"data row5 col6\" >0.003482</td>\n",
       "      <td id=\"T_a7105_row5_col7\" class=\"data row5 col7\" >0.005928</td>\n",
       "    </tr>\n",
       "    <tr>\n",
       "      <th id=\"T_a7105_level0_row6\" class=\"row_heading level0 row6\" >6</th>\n",
       "      <td id=\"T_a7105_row6_col0\" class=\"data row6 col0\" >0.000601</td>\n",
       "      <td id=\"T_a7105_row6_col1\" class=\"data row6 col1\" >0.006736</td>\n",
       "      <td id=\"T_a7105_row6_col2\" class=\"data row6 col2\" >0.012336</td>\n",
       "      <td id=\"T_a7105_row6_col3\" class=\"data row6 col3\" >0.005008</td>\n",
       "      <td id=\"T_a7105_row6_col4\" class=\"data row6 col4\" >0.008607</td>\n",
       "      <td id=\"T_a7105_row6_col5\" class=\"data row6 col5\" >0.003482</td>\n",
       "      <td id=\"T_a7105_row6_col6\" class=\"data row6 col6\" >0.032311</td>\n",
       "      <td id=\"T_a7105_row6_col7\" class=\"data row6 col7\" >0.062863</td>\n",
       "    </tr>\n",
       "    <tr>\n",
       "      <th id=\"T_a7105_level0_row7\" class=\"row_heading level0 row7\" >7</th>\n",
       "      <td id=\"T_a7105_row7_col0\" class=\"data row7 col0\" >0.000818</td>\n",
       "      <td id=\"T_a7105_row7_col1\" class=\"data row7 col1\" >0.015675</td>\n",
       "      <td id=\"T_a7105_row7_col2\" class=\"data row7 col2\" >0.044533</td>\n",
       "      <td id=\"T_a7105_row7_col3\" class=\"data row7 col3\" >0.007014</td>\n",
       "      <td id=\"T_a7105_row7_col4\" class=\"data row7 col4\" >0.013407</td>\n",
       "      <td id=\"T_a7105_row7_col5\" class=\"data row7 col5\" >0.005928</td>\n",
       "      <td id=\"T_a7105_row7_col6\" class=\"data row7 col6\" >0.062863</td>\n",
       "      <td id=\"T_a7105_row7_col7\" class=\"data row7 col7\" >0.145980</td>\n",
       "    </tr>\n",
       "  </tbody>\n",
       "</table>\n"
      ],
      "text/plain": [
       "<pandas.io.formats.style.Styler at 0x14cef415ab00>"
      ]
     },
     "execution_count": 15,
     "metadata": {},
     "output_type": "execute_result"
    }
   ],
   "source": [
    "# Get covariance matrix of hadronic parameters\n",
    "cov = parameter_cov(alt.ana, chains = 5, samples = 10000)\n",
    "pd.DataFrame(cov).style.background_gradient(cmap='RdBu')"
   ]
  },
  {
   "cell_type": "code",
   "execution_count": 16,
   "metadata": {},
   "outputs": [],
   "source": [
    "cvlSM = eos.Parameters()['sbnunu::Re{cVL}'].evaluate()\n",
    "\n",
    "new_params = {\n",
    "                'cvl'   :{'inits': (cvlSM,),  'bounds': ((6., 16.),), 'paramset_type': 'unconstrained'},\n",
    "                'cvr'   :{'inits': (0.001, ), 'bounds': ((0., 10.),), 'paramset_type': 'unconstrained'},\n",
    "                'csl'   :{'inits': (0.001, ), 'bounds': ((0., 10.),), 'paramset_type': 'unconstrained'},\n",
    "                'csr'   :{'inits': (0.001, ), 'bounds': ((0., 10.),), 'paramset_type': 'unconstrained'},\n",
    "                'ctl'   :{'inits': (0.001, ), 'bounds': ((0., 10.),), 'paramset_type': 'unconstrained'},\n",
    "                'FFK'   :{'inits': (fp0, fp1, fp2, f01, f02, fT0, fT1, fT2), \n",
    "                         'bounds': (), \n",
    "                         'cov': cov, \n",
    "                         'paramset_type': 'constrained_by_normal'}\n",
    "            }\n",
    "\n",
    "cmod = modifier.Modifier(new_params, alt.distribution, null.distribution, mapping_dist, [q2binning.tolist()], name='knunu')"
   ]
  },
  {
   "cell_type": "code",
   "execution_count": 17,
   "metadata": {},
   "outputs": [
    {
     "data": {
      "image/png": "[encoded data removed]",
      "text/plain": [
       "<Figure size 700x500 with 1 Axes>"
      ]
     },
     "metadata": {},
     "output_type": "display_data"
    }
   ],
   "source": [
    "pars = (cvl, cvr, csl, csr, ctl, fp0, fp1, fp2, f01, f02, fT0, fT1, fT2)\n",
    "lims = [0.0, 22.9]\n",
    "labels = [r'$q^2$ [GeV$^2$]', r'$d\\mathcal{B}/dq^2$ [GeV$^{-2}$]']\n",
    "plot.dists(cmod, pars, lims, labels)\n",
    "plt.savefig('../results/knunu_distributions.pdf')"
   ]
  },
  {
   "cell_type": "code",
   "execution_count": 18,
   "metadata": {},
   "outputs": [
    {
     "data": {
      "image/png": "[encoded data removed]",
      "text/plain": [
       "<Figure size 800x550 with 2 Axes>"
      ]
     },
     "metadata": {},
     "output_type": "display_data"
    }
   ],
   "source": [
    "plot.map(cmod, cmap='YlOrRd', norm=LogNorm(), aspect='auto')\n",
    "plt.savefig('../results/knunu_map.pdf')"
   ]
  },
  {
   "cell_type": "markdown",
   "metadata": {},
   "source": [
    "## Set up the model"
   ]
  },
  {
   "cell_type": "code",
   "execution_count": 19,
   "metadata": {},
   "outputs": [
    {
     "data": {
      "text/plain": [
       "{'channels': [{'name': 'B->Knunu',\n",
       "   'samples': [{'name': 'signal',\n",
       "     'data': [14143.652589182999,\n",
       "      8229.865753126196,\n",
       "      4754.490786086884,\n",
       "      2586.596339810312,\n",
       "      1391.9668781627406,\n",
       "      674.6691085977945,\n",
       "      269.3203213515517,\n",
       "      59.43738546058739],\n",
       "     'modifiers': [{'name': 'mu', 'type': 'normfactor', 'data': None},\n",
       "      {'name': 'stat',\n",
       "       'type': 'staterror',\n",
       "       'data': [118.9270893832982,\n",
       "        90.71860753520303,\n",
       "        68.95281565017403,\n",
       "        50.85859160270084,\n",
       "        37.30907233050348,\n",
       "        25.974393324922808,\n",
       "        16.410981730279016,\n",
       "        7.709564544161194]},\n",
       "      {'name': 'knunu_theory',\n",
       "       'type': 'knunu',\n",
       "       'data': {'expr': 'knunu_weight_fn'}}]}]}]}"
      ]
     },
     "execution_count": 19,
     "metadata": {},
     "output_type": "execute_result"
    }
   ],
   "source": [
    "spec = {\n",
    "  \"channels\": [\n",
    "    {\n",
    "      \"name\": \"B->Knunu\",\n",
    "      \"samples\": [\n",
    "        {\n",
    "          \"name\": \"signal\",\n",
    "          \"data\": null_yields.tolist(),\n",
    "          \"modifiers\": [\n",
    "            {\n",
    "                \"name\": \"mu\",\n",
    "                \"type\": \"normfactor\",\n",
    "                \"data\": None\n",
    "            },\n",
    "            {\n",
    "                \"name\": \"stat\",\n",
    "                \"type\": \"staterror\",\n",
    "                \"data\": np.sqrt(null_yields).tolist()\n",
    "            }\n",
    "          ]\n",
    "        },\n",
    "      ]\n",
    "    }\n",
    "  ]\n",
    "}\n",
    "model = pyhf.Model(spec)\n",
    "\n",
    "custom_mod = {\n",
    "                \"name\": \"knunu_theory\",\n",
    "                \"type\": \"knunu\",\n",
    "                \"data\":{\"expr\": \"knunu_weight_fn\"}\n",
    "              }\n",
    "\n",
    "model = modifier.add_to_model(model, ['B->Knunu'], ['signal'], cmod.expanded_pyhf, custom_mod)\n",
    "model.spec"
   ]
  },
  {
   "cell_type": "markdown",
   "metadata": {},
   "source": [
    "## Save and load model"
   ]
  },
  {
   "cell_type": "code",
   "execution_count": 20,
   "metadata": {},
   "outputs": [],
   "source": [
    "modifier.save('knunu_model.json', model.spec, [cmod], alt_yields)\n",
    "model, alt_yields = modifier.load('knunu_model.json', alt.distribution, null.distribution, return_data=True)\n",
    "\n",
    "data = alt_yields + model.config.auxdata"
   ]
  },
  {
   "cell_type": "markdown",
   "metadata": {},
   "source": [
    "## Perform the fit"
   ]
  },
  {
   "cell_type": "code",
   "execution_count": 25,
   "metadata": {},
   "outputs": [
    {
     "name": "stdout",
     "output_type": "stream",
     "text": [
      "W MnPosDef Matrix forced pos-def by adding to diagonal 0.0437735\n",
      "W MnPosDef Matrix forced pos-def by adding to diagonal 0.0181256\n"
     ]
    },
    {
     "data": {
      "text/plain": [
       "{'cvl': array([13.93582851,  0.45624137]),\n",
       " 'cvr': array([0.001, 0.   ]),\n",
       " 'csl': array([3.85753364, 0.54188484]),\n",
       " 'csr': array([0.001, 0.   ]),\n",
       " 'ctl': array([1.38936327, 1.20701169]),\n",
       " 'FFK_decorrelated[0]': array([0.00686378, 1.01107461]),\n",
       " 'FFK_decorrelated[1]': array([0.01077209, 1.02876635]),\n",
       " 'FFK_decorrelated[2]': array([-0.00135254,  0.98441234]),\n",
       " 'FFK_decorrelated[3]': array([2.49827943e-04, 9.93543977e-01]),\n",
       " 'FFK_decorrelated[4]': array([3.35413155e-04, 9.95522053e-01]),\n",
       " 'FFK_decorrelated[5]': array([3.57752634e-05, 9.93664048e-01]),\n",
       " 'FFK_decorrelated[6]': array([-2.20817840e-04,  9.93793983e-01]),\n",
       " 'FFK_decorrelated[7]': array([0.00176029, 0.99422644]),\n",
       " 'mu': array([1., 0.]),\n",
       " 'stat': [[0.9994146603035722, 0.007861264850350547],\n",
       "  [1.0030435452556619, 0.007079797785548514],\n",
       "  [0.9930768026815582, 0.009618691346499508],\n",
       "  [1.0082558533364971, 0.012933100843654899],\n",
       "  [0.9964362799740031, 0.0159323237825727],\n",
       "  [0.998697155719619, 0.022079388210560935],\n",
       "  [0.998574089662329, 0.04301998278742597],\n",
       "  [1.0062110850355475, 0.09972619694133467]]}"
      ]
     },
     "execution_count": 25,
     "metadata": {},
     "output_type": "execute_result"
    }
   ],
   "source": [
    "fixed = model.config.suggested_fixed()\n",
    "fixed[model.config.par_map['mu']['slice']]  = [True]\n",
    "fixed[model.config.par_map['cvr']['slice']] = [True]\n",
    "fixed[model.config.par_map['csr']['slice']] = [True]\n",
    "\n",
    "init = model.config.suggested_init()\n",
    "init[model.config.par_map['cvl']['slice']] = [14]\n",
    "init[model.config.par_map['csl']['slice']] = [4]\n",
    "init[model.config.par_map['ctl']['slice']] = [1]\n",
    "\n",
    "# for i in range(3, 8):\n",
    "#     fixed[model.config.par_map[f'FFK_decorrelated[{i}]']['slice']] = [True]\n",
    "\n",
    "pyhf.set_backend(\"numpy\", pyhf.optimize.scipy_optimizer())\n",
    "best_fit = pyhf.infer.mle.fit(data, model, fixed_params=fixed, init_pars=init)\n",
    "pyhf.set_backend(\"numpy\", pyhf.optimize.minuit_optimizer(verbose=True, strategy=2))\n",
    "best_fit, twice_nll, OptimizeResult = pyhf.infer.mle.fit(\n",
    "    data,\n",
    "    model,\n",
    "    init_pars=best_fit.tolist(),\n",
    "    fixed_params=fixed,\n",
    "    return_uncertainties=True,\n",
    "    return_fitted_val=True,\n",
    "    return_result_obj=True\n",
    "    )\n",
    "\n",
    "best_fit_dict = modifier.par_dict(model, best_fit)\n",
    "best_fit_dict\n"
   ]
  },
  {
   "cell_type": "code",
   "execution_count": 26,
   "metadata": {},
   "outputs": [
    {
     "data": {
      "text/plain": [
       "{'cvl': 13.935828508351344,\n",
       " 'cvr': 0.001,\n",
       " 'csl': 3.8575336402018268,\n",
       " 'csr': 0.001,\n",
       " 'ctl': 1.3893632668967852,\n",
       " 'FFK[0]': 0.3378877116580991,\n",
       " 'FFK[1]': -0.8857343822594915,\n",
       " 'FFK[2]': -0.11400232589336483,\n",
       " 'FFK[3]': 0.3735026465132595,\n",
       " 'FFK[4]': 0.07740380168840365,\n",
       " 'FFK[5]': 0.32686912979097427,\n",
       " 'FFK[6]': -0.9630024753234309,\n",
       " 'FFK[7]': -0.279644965490053,\n",
       " 'mu': 1.0,\n",
       " 'stat': [0.9994146603035722,\n",
       "  1.0030435452556619,\n",
       "  0.9930768026815582,\n",
       "  1.0082558533364971,\n",
       "  0.9964362799740031,\n",
       "  0.998697155719619,\n",
       "  0.998574089662329,\n",
       "  1.0062110850355475]}"
      ]
     },
     "execution_count": 26,
     "metadata": {},
     "output_type": "execute_result"
    }
   ],
   "source": [
    "best_fit_rot = cmod.rotate_pars({k:v[0] if len(np.shape(v))==1 else [p[0] for p in v] for k, v in best_fit_dict.items()})\n",
    "best_fit_rot"
   ]
  },
  {
   "cell_type": "code",
   "execution_count": 27,
   "metadata": {},
   "outputs": [
    {
     "data": {
      "text/plain": [
       "<matplotlib.legend.Legend at 0x14ce040dde70>"
      ]
     },
     "execution_count": 27,
     "metadata": {},
     "output_type": "execute_result"
    },
    {
     "data": {
      "image/png": "[encoded data removed]",
      "text/plain": [
       "<Figure size 800x550 with 1 Axes>"
      ]
     },
     "metadata": {},
     "output_type": "display_data"
    }
   ],
   "source": [
    "inits = model.config.suggested_init()\n",
    "plt.stairs(model.expected_actualdata(inits), binning, label=\"initial\")\n",
    "inits[model.config.par_map['cvl']['slice']] = [14]\n",
    "inits[model.config.par_map['csl']['slice']] = [4]\n",
    "inits[model.config.par_map['ctl']['slice']] = [1]\n",
    "plt.stairs(model.expected_actualdata(inits), binning, label=\"true\")\n",
    "plt.stairs(model.expected_actualdata(best_fit[:,0]), binning, label = \"best fit\")\n",
    "bin_cents = (binning[:-1] + binning[1:])/2\n",
    "plt.plot(bin_cents, alt_yields, 'og')\n",
    "plt.legend()"
   ]
  },
  {
   "cell_type": "code",
   "execution_count": null,
   "metadata": {},
   "outputs": [],
   "source": []
  }
 ],
 "metadata": {
  "kernelspec": {
   "display_name": "Python 3 (ipykernel)",
   "language": "python",
   "name": "python3"
  },
  "language_info": {
   "codemirror_mode": {
    "name": "ipython",
    "version": 3
   },
   "file_extension": ".py",
   "mimetype": "text/x-python",
   "name": "python",
   "nbconvert_exporter": "python",
   "pygments_lexer": "ipython3",
   "version": "3.10.0"
  }
 },
 "nbformat": 4,
 "nbformat_minor": 2
}
